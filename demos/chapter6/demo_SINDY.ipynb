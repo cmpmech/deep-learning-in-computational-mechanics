{
 "cells": [
  {
   "cell_type": "markdown",
   "metadata": {},
   "source": [
    "## Chapter 6 Demo - SINDY: Sparse Identification of Non-linear Dynamic Systems  "
   ]
  },
  {
   "cell_type": "code",
   "execution_count": null,
   "metadata": {},
   "outputs": [],
   "source": [
    "import numpy as np\n",
    "import matplotlib.pyplot as plt\n",
    "\n",
    "def sequentialThresholdedLeastSquares(theta, dXdt, maxIter=10, tol=1e-1):\n",
    "    Xi = np.linalg.lstsq(theta, dXdt, rcond=None)[0]\n",
    "    for i in range(maxIter):\n",
    "        smallindices = abs(Xi) < tol\n",
    "        Xi[smallindices] = 0\n",
    "        for j in range(len(dXdt[1])):           # each column in dXdt\n",
    "            bigindices = ~smallindices[:, j]\n",
    "            Xi[bigindices, j] = np.linalg.lstsq(theta[:, bigindices], \n",
    "                                                dXdt[:, j], \n",
    "                                                rcond=None)[0]\n",
    "    return Xi"
   ]
  },
  {
   "cell_type": "code",
   "execution_count": null,
   "metadata": {},
   "outputs": [],
   "source": [
    "# snapshot sampling\n",
    "t = np.linspace(0, 2 * np.pi, 5)\n",
    "t = np.expand_dims(t, axis=1)\n",
    "x1 = np.sin(t) + np.cos(t)\n",
    "x2 = np.cos(t)\n",
    "dx1dt = np.cos(t) - np.sin(t)\n",
    "dx2dt = -np.sin(t)\n",
    "\n",
    "# time history collection\n",
    "X = np.concatenate((x1, x2), axis=1)\n",
    "dXdt = np.concatenate((dx1dt, dx2dt), axis=1)\n"
   ]
  },
  {
   "cell_type": "code",
   "execution_count": null,
   "metadata": {},
   "outputs": [],
   "source": [
    "plt.plot(t, x1, label='x1')\n",
    "plt.plot(t, x2, label='x2')\n",
    "plt.legend()"
   ]
  },
  {
   "cell_type": "code",
   "execution_count": null,
   "metadata": {},
   "outputs": [],
   "source": [
    "# hyperparameters\n",
    "tol = 1e-2\n",
    "maxIter = 2\n",
    "\n",
    "# library of candidate functions\n",
    "theta = lambda X: np.transpose(np.array([\n",
    "                            X[0] * 0 + 1,\n",
    "                            X[0], \n",
    "                            X[1],\n",
    "                            X[0] ** 2,\n",
    "                            X[1] ** 2,\n",
    "                            X[0] * X[1]]))\n",
    "\n",
    "# solving the SINDy system\n",
    "Xi = sequentialThresholdedLeastSquares(theta(np.transpose(X)), dXdt, maxIter, tol)\n",
    "\n",
    "print(\"  x1. x2.\")\n",
    "print(Xi)"
   ]
  }
 ],
 "metadata": {
  "kernelspec": {
   "display_name": "aicome",
   "language": "python",
   "name": "python3"
  },
  "language_info": {
   "codemirror_mode": {
    "name": "ipython",
    "version": 3
   },
   "file_extension": ".py",
   "mimetype": "text/x-python",
   "name": "python",
   "nbconvert_exporter": "python",
   "pygments_lexer": "ipython3",
   "version": "3.12.9"
  }
 },
 "nbformat": 4,
 "nbformat_minor": 2
}
