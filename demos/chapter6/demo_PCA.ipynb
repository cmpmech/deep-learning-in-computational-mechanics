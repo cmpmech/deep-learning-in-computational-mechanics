{
 "cells": [
  {
   "cell_type": "markdown",
   "metadata": {},
   "source": [
    "## Chapter 6 Demo - PCA: Principal Component Analysis "
   ]
  },
  {
   "cell_type": "code",
   "execution_count": null,
   "metadata": {},
   "outputs": [],
   "source": [
    "import numpy as np"
   ]
  },
  {
   "cell_type": "code",
   "execution_count": null,
   "metadata": {},
   "outputs": [],
   "source": [
    "# A = np.array([[1,0, 2], [1, 3, .5], [0, 1, 7]])\n",
    "A = np.array([[1,-4, -2], [1, 3, -5], [-2, 1, 7]])\n",
    "# A = np.array([[9,-3, 1], [4, 0, 0], [0, 1, 0]])\n",
    "print(A, '\\n')\n",
    "print(f\"rank = {np.linalg.matrix_rank(A)}\\n\")\n",
    "\n",
    "print(f\"A@A^T = {A @ np.transpose(A)}\")"
   ]
  },
  {
   "cell_type": "code",
   "execution_count": null,
   "metadata": {},
   "outputs": [],
   "source": [
    "X = A\n",
    "print(f\"X = {X}\")\n",
    "\n",
    "# mean of each feature across all samples\n",
    "Xbar = np.mean(X, axis=1, keepdims=True) \n",
    "print(f\"Xbar = {Xbar}\")\n",
    "\n",
    "B = X - Xbar\n",
    "print(f\"B = {B}\")"
   ]
  },
  {
   "cell_type": "code",
   "execution_count": null,
   "metadata": {},
   "outputs": [],
   "source": [
    "principalValues, W = np.linalg.eig(np.transpose(B) @ B)\n",
    "index = np.argsort(principalValues)[::-1]\n",
    "principalValues = principalValues[index]  # sort eigenvalues\n",
    "W = W[:, index]  # sort eigenvectors\n",
    "\n",
    "print(f\"principalValues = \\n{principalValues}\")\n",
    "print(f\"W = {W}\")"
   ]
  },
  {
   "cell_type": "code",
   "execution_count": null,
   "metadata": {},
   "outputs": [],
   "source": [
    "## I think this is right:\n",
    "X = A\n",
    "print(f\"X = {X}\")\n",
    "\n",
    "# mean of each feature across all samples\n",
    "Xbar = np.mean(X, axis=0, keepdims=True)     \n",
    "print(f\"Xbar = {Xbar}\")\n",
    "\n",
    "B = X - Xbar\n",
    "print(f\"B = {B}\")\n",
    "\n",
    "np.round(np.transpose(W) @ W, 5)"
   ]
  },
  {
   "cell_type": "code",
   "execution_count": null,
   "metadata": {},
   "outputs": [],
   "source": [
    "principalValues, W = np.linalg.eig(np.transpose(B) @ B)\n",
    "index = np.argsort(principalValues)[::-1]\n",
    "principalValues = principalValues[index]  # sort eigenvalues\n",
    "W = W[:, index]  # sort eigenvectors\n",
    "\n",
    "print(f\"principalValues = \\n{principalValues}\")\n",
    "print(f\"W = {W}\")"
   ]
  },
  {
   "cell_type": "code",
   "execution_count": null,
   "metadata": {},
   "outputs": [],
   "source": [
    "np.round(np.transpose(W) @ W, 5)"
   ]
  }
 ],
 "metadata": {
  "kernelspec": {
   "display_name": "aicome",
   "language": "python",
   "name": "python3"
  },
  "language_info": {
   "codemirror_mode": {
    "name": "ipython",
    "version": 3
   },
   "file_extension": ".py",
   "mimetype": "text/x-python",
   "name": "python",
   "nbconvert_exporter": "python",
   "pygments_lexer": "ipython3",
   "version": "3.12.9"
  }
 },
 "nbformat": 4,
 "nbformat_minor": 2
}
