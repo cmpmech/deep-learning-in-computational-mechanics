{
 "cells": [
  {
   "cell_type": "markdown",
   "metadata": {},
   "source": [
    "## Chapter 6 Demo - SVD: Singular Value Decomposition"
   ]
  },
  {
   "cell_type": "code",
   "execution_count": null,
   "metadata": {},
   "outputs": [],
   "source": [
    "import numpy as np"
   ]
  },
  {
   "cell_type": "code",
   "execution_count": null,
   "metadata": {},
   "outputs": [],
   "source": [
    "# A = np.matrix([[1,0, 2], [1, 3, .5], [0, 1, 7]])\n",
    "A = np.matrix([[1,-4, -2], [1, 3, -5], [-2, 1, 7]])\n",
    "# A = np.matrix([[9,-3, 1], [4, 0, 0], [0, 1, 0]])\n",
    "print(A, '\\n')\n",
    "print(f\"rank = {np.linalg.matrix_rank(A)}\\n\")\n",
    "\n",
    "print(f\"A@A^T = {A @ np.transpose(A)}\")"
   ]
  },
  {
   "cell_type": "code",
   "execution_count": null,
   "metadata": {},
   "outputs": [],
   "source": [
    "\n",
    "eigenvaluesU, U = np.linalg.eig(A @ np.transpose(A))\n",
    "eigenvaluesU[np.abs(eigenvaluesU) < 1e-10] = 0.\n",
    "\n",
    "print(f\"U = \\n{U}\\neigenvalues = \\n{eigenvaluesU}\")\n",
    "index = np.argsort(eigenvaluesU)[::-1]\n",
    "eigenvaluesU = eigenvaluesU[index]  # sort eigenvalues\n",
    "U = U[:, index]                     # sort eigenvectors\n",
    "\n",
    "print(f\"\\nU sorted:\\n{U}\")\n",
    "print(f\"eigenvalues = \\n{eigenvaluesU}\")"
   ]
  },
  {
   "cell_type": "code",
   "execution_count": null,
   "metadata": {},
   "outputs": [],
   "source": [
    "eigenvaluesV, V = np.linalg.eig(np.transpose(A) @ A)\n",
    "# eigenvaluesV[np.abs(eigenvaluesV) < 1e-10] = 0.\n",
    "\n",
    "index = np.argsort(eigenvaluesV)[::-1]\n",
    "eigenvaluesV = eigenvaluesV[index]  # sort eigenvalues\n",
    "V = V[:, index]  # sort eigenvectors  \n",
    "\n",
    "print(f\"\\nV sorted:\\n{V}\")\n",
    "print(f\"Eigenvalues:\\n{eigenvaluesV}\")"
   ]
  },
  {
   "cell_type": "code",
   "execution_count": null,
   "metadata": {},
   "outputs": [],
   "source": [
    "S = np.zeros((len(U), len(V)))\n",
    "for i in range(min(len(U), len(V))):\n",
    "    S[i, i] = np.sqrt(eigenvaluesU[i]) \n",
    "\n",
    "# correction to make U and V consistent\n",
    "SCorrected = np.transpose(U) @ A @ V\n",
    "for i in range(min(len(U), len(V))):\n",
    "    V[:, i] = V[:, i] * np.sign(SCorrected[i, i])"
   ]
  },
  {
   "cell_type": "code",
   "execution_count": null,
   "metadata": {},
   "outputs": [],
   "source": [
    "sZeroed = SCorrected \n",
    "sZeroed[np.abs(sZeroed) < 1e-10 ] = 0\n",
    "print(f\"S:\\n{S} \\nScorrected, zeroed:\\n{sZeroed}\")"
   ]
  },
  {
   "cell_type": "code",
   "execution_count": null,
   "metadata": {},
   "outputs": [],
   "source": [
    "np.round(U*S*np.transpose(V), 6)"
   ]
  },
  {
   "cell_type": "code",
   "execution_count": null,
   "metadata": {},
   "outputs": [],
   "source": [
    "error = A - U*S*np.transpose(V)\n",
    "print(f\"error less than 1e-10: {np.allclose(error, np.zeros_like(error), 1e-10)}\")"
   ]
  }
 ],
 "metadata": {
  "kernelspec": {
   "display_name": "aicome",
   "language": "python",
   "name": "python3"
  },
  "language_info": {
   "codemirror_mode": {
    "name": "ipython",
    "version": 3
   },
   "file_extension": ".py",
   "mimetype": "text/x-python",
   "name": "python",
   "nbconvert_exporter": "python",
   "pygments_lexer": "ipython3",
   "version": "3.12.9"
  }
 },
 "nbformat": 4,
 "nbformat_minor": 2
}
