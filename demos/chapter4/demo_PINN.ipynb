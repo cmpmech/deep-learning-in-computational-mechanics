{
 "cells": [
  {
   "cell_type": "markdown",
   "metadata": {},
   "source": [
    "## Chapter 4 Demo - PINN: Physics Informed Neural Network"
   ]
  },
  {
   "cell_type": "code",
   "execution_count": null,
   "metadata": {},
   "outputs": [],
   "source": [
    "import torch\n",
    "from torch.autograd import grad\n",
    "import matplotlib.pyplot as plt\n",
    "from torch.optim import Adam"
   ]
  },
  {
   "cell_type": "markdown",
   "metadata": {},
   "source": [
    "## 1D"
   ]
  },
  {
   "cell_type": "code",
   "execution_count": null,
   "metadata": {},
   "outputs": [],
   "source": [
    "# wrapped automatic differentiation computes derivatives\n",
    "def getDerivative(y, x):\n",
    "    dydx = grad(y, x, torch.ones_like(y),     create_graph=True,     retain_graph=True)[0]\n",
    "    return dydx\n",
    "\n",
    "# residual equation\n",
    "def r(model, x, EA, p):\n",
    "    u = model(x)\n",
    "    dudx = getDerivative(u, x)\n",
    "    dEAdudxx = getDerivative(EA(x) * dudx, x)\n",
    "    r = dEAdudxx + p(x)\n",
    "    return r"
   ]
  },
  {
   "cell_type": "code",
   "execution_count": null,
   "metadata": {},
   "outputs": [],
   "source": [
    "inputDim = outputDim = 1\n",
    "hiddenDim = 100\n",
    "\n",
    "model = torch.nn.Sequential(torch.nn.Linear(inputDim, hiddenDim),\n",
    "                            torch.nn.Tanh(),\n",
    "                            torch.nn.Linear(hiddenDim, outputDim))\n",
    "\n",
    "uPred = model(torch.tensor([0.5]))\n",
    "print(uPred)"
   ]
  },
  {
   "cell_type": "code",
   "execution_count": null,
   "metadata": {},
   "outputs": [],
   "source": [
    "x = torch.linspace(0, 1, 10, requires_grad=True).unsqueeze(1)\n",
    "EA = lambda x: 1 + 0 * x\n",
    "p = lambda x: 4 * torch.pi ** 2 * torch.sin(2 * torch.pi * x)\n",
    "rPred = r(model, x, EA, p)\n",
    "lossR = torch.sum(rPred ** 2)\n",
    " \n",
    "print(f\"Untrained Model total loss, lossR: {lossR}\\n\")\n",
    "\n",
    "table = torch.cat((x, rPred), dim=1).detach().numpy()\n",
    "print(f\"Untrained Model prediction for\\n      x      \\t  rPred: \\n{table}\")\n",
    "\n",
    "plt.plot(x.detach().numpy(),  rPred.detach().numpy())\n",
    "plt.xlabel('x')\n",
    "plt.ylabel('rPred')"
   ]
  },
  {
   "cell_type": "code",
   "execution_count": null,
   "metadata": {},
   "outputs": [],
   "source": [
    "# Impose Dirichlet BCs with Loss function at Boundaries\n",
    "u0 = 0\n",
    "u1 = 0\n",
    "\n",
    "u0Pred = model(torch.tensor([0.]))\n",
    "u1Pred = model(torch.tensor([1.]))\n",
    "lossB = (u0Pred - u0) ** 2 + (u1Pred - u1) ** 2\n",
    "print(f\"lossB: {lossB.item()}\")"
   ]
  },
  {
   "cell_type": "markdown",
   "metadata": {},
   "source": [
    "## 2D\n",
    "**todo** this section in the book and below don't work directly as written in text: need to define a 2D model and 2D derivative. I do the model in the cell below, but want to check the derivative - unclear exactly what the syntax `dsig11dx1 = getDerivative(stress[0], x1, 1)` should do."
   ]
  },
  {
   "cell_type": "code",
   "execution_count": null,
   "metadata": {},
   "outputs": [],
   "source": [
    "inputDim = 2\n",
    "outputDim = 1\n",
    "hiddenDim = 100\n",
    "\n",
    "model = torch.nn.Sequential(torch.nn.Linear(inputDim, hiddenDim),\n",
    "                            torch.nn.Tanh(),\n",
    "                            torch.nn.Linear(hiddenDim, outputDim))"
   ]
  },
  {
   "cell_type": "code",
   "execution_count": null,
   "metadata": {},
   "outputs": [],
   "source": [
    "Lx1 = Lx2= 1\n",
    "Nx1 = Nx2 = 10\n",
    "\n",
    "x1 = torch.linspace(0, Lx1, Nx1)\n",
    "x2 = torch.linspace(0, Lx2, Nx2)\n",
    "x1, x2 = torch.meshgrid(x1, x2, indexing='ij')\n",
    "x1.requires_grad = True\n",
    "x2.requires_grad = True\n",
    "modelInput = torch.cat((x1.reshape(-1, 1), x2.reshape(-1, 1)), 1)\n",
    "\n",
    "uPred = model(modelInput)\n",
    "print(uPred)"
   ]
  },
  {
   "cell_type": "code",
   "execution_count": null,
   "metadata": {},
   "outputs": [],
   "source": [
    "def getStrains(u, x1, x2, Nx1, Nx2):\n",
    "    strain = torch.zeros((3, Nx1, Nx2))\n",
    "    strain[0] = getDerivative(u[:, 0].reshape(Nx1, Nx2), x1, 1)\n",
    "    strain[1] = getDerivative(u[:, 1].reshape(Nx1, Nx2), x2, 1)\n",
    "    strain[2] = 0.5 * (getDerivative(u[:, 0].reshape(Nx1, Nx2), x2, 1)\n",
    "                     + getDerivative(u[:, 1].reshape(Nx1, Nx2), x1, 1))\n",
    "    return strain\n",
    "\n",
    "def getDerivative(y, x):\n",
    "    dydx = grad(y, x, torch.ones_like(y),     create_graph=True,     retain_graph=True)[0]\n",
    "    return dydx"
   ]
  },
  {
   "cell_type": "code",
   "execution_count": null,
   "metadata": {},
   "outputs": [],
   "source": [
    "strain = getStrains(uPred, x1, x2, Nx1, Nx2)\n",
    "stress = torch.tensordot(C, strain, dims=1)\n",
    "\n",
    "dsig11dx1 = getDerivative(stress[0], x1, 1)\n",
    "dsig12dx2 = getDerivative(stress[2], x2, 1)\n",
    "dsig21dx1 = getDerivative(stress[2], x1, 1)\n",
    "dsig22dx2 = getDerivative(stress[1], x2, 1)\n",
    "\n",
    "lossPDE = 0  # equilibrium computation\n",
    "lossPDE += (torch.sum((dsig11dx1 + dsig12dx2 + p1(x1, x2)) ** 2)\n",
    "           / (Nx1 * Nx2))  # divide by number of collocation points\n",
    "lossPDE += (torch.sum((dsig21dx1 + dsig22dx2 + p2(x1, x2)) ** 2)\n",
    "           / (Nx1 * Nx2))  # divide by number of collocation points\n"
   ]
  }
 ],
 "metadata": {
  "kernelspec": {
   "display_name": "aicome",
   "language": "python",
   "name": "python3"
  },
  "language_info": {
   "file_extension": ".py",
   "mimetype": "text/x-python",
   "name": "python",
   "version": "3.12.9"
  }
 },
 "nbformat": 4,
 "nbformat_minor": 4
}
