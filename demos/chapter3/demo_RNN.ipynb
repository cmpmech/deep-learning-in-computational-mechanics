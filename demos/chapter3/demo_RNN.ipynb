{
 "cells": [
  {
   "cell_type": "markdown",
   "metadata": {},
   "source": [
    "## Chapter 3.10 Demo - RNN: Recurrent Neural Network\n",
    " "
   ]
  },
  {
   "cell_type": "code",
   "execution_count": null,
   "metadata": {},
   "outputs": [],
   "source": [
    "import torch\n",
    "import matplotlib.pyplot as plt\n",
    "import numpy as np"
   ]
  },
  {
   "cell_type": "code",
   "execution_count": null,
   "metadata": {},
   "outputs": [],
   "source": [
    "# Simple RNN\n",
    "class RNN(torch.nn.Module):\n",
    "    def __init__(self, inputSize, hiddenStateSize, outputSize):\n",
    "        super(RNN, self).__init__()  # inheritance from torch.nn.Module\n",
    "        self.rnn = torch.nn.RNN(inputSize, hiddenStateSize,\n",
    "                                nonlinearity='relu', num_layers=6)\n",
    "        self.linear = torch.nn.Linear(hiddenStateSize, outputSize)\n",
    "\n",
    "    def forward(self, x):\n",
    "        h, _ = self.rnn(x)  # unrolls the RNN\n",
    "        y = self.linear(h)  # transforms hidden layer to output layer\n",
    "        return y"
   ]
  },
  {
   "cell_type": "markdown",
   "metadata": {},
   "source": [
    "Train an RNN to predict what the cube of the input values are"
   ]
  },
  {
   "cell_type": "code",
   "execution_count": null,
   "metadata": {},
   "outputs": [],
   "source": [
    "sequenceLength = 8\n",
    "inputSize = 1  # and output size\n",
    "hiddenStateSize = 200\n",
    "numberOfSequences = 10  # or number of training samples\n",
    "\n",
    "# training data\n",
    "t0 = torch.linspace(0, 1, numberOfSequences)\n",
    "t = torch.linspace(0, 1, sequenceLength + 1)\n",
    "t, t0 = torch.meshgrid(t, t0, indexing='ij')\n",
    "y = (t0 + t) ** 3 \n",
    "y = (y + np.random.normal(0, .05, size=t.shape) ).to(torch.float32)\n",
    "\n",
    "plt.plot(t,y)\n",
    "plt.title('Training data')\n",
    "\n",
    "y = y.unsqueeze(-1)\n",
    "x = y[:-1]  # (sequenceLength, numberOfSequences, inputSize)\n",
    "y = y[1:]  # (sequenceLength, numberOfSequences, outputSize)\n",
    "\n",
    "model = RNN(inputSize, hiddenStateSize, inputSize)\n",
    "\n",
    "yPred = model(x)  # prediction\n",
    "cost = torch.mean((yPred - y) ** 2)  # cost"
   ]
  },
  {
   "cell_type": "code",
   "execution_count": null,
   "metadata": {},
   "outputs": [],
   "source": [
    "# hyperparameters\n",
    "lr = 1e-3\n",
    "epochs = 200\n",
    "batchSize = 3  # 1 for SGD and numberOfSequences for full-batch\n",
    "\n",
    "dataset = torch.utils.data.TensorDataset(x, y)\n",
    "dataloader = torch.utils.data.DataLoader(dataset, batch_size=batchSize, shuffle=True)\n",
    "optimizer = torch.optim.Adam(model.parameters(), lr=lr)\n",
    "\n",
    "# training loop\n",
    "for epoch in range(epochs):\n",
    "    for xBatch, yBatch in dataloader:\n",
    "        yBatchPred = model(xBatch)  # forward propagation\n",
    "        cost = 0.5 * torch.mean((yBatchPred - yBatch) ** 2)\n",
    "        cost.backward()  # backward propagation\n",
    "        optimizer.step()  # gradient descent update\n",
    "        optimizer.zero_grad()  # reset gradients\n",
    "print(f\"final cost: {cost}\")"
   ]
  },
  {
   "cell_type": "code",
   "execution_count": null,
   "metadata": {},
   "outputs": [],
   "source": [
    "plt.plot(xBatch[:,:,0], yBatchPred[:,:,0].detach())\n",
    "plt.title('Predictions')\n",
    "plt.show()\n",
    "plt.plot(xBatch[:,:,0], yBatch[:,:,0])\n",
    "plt.title('Training Data')\n",
    "plt.show()\n",
    "plt.plot(xBatch[:,:,0], yBatchPred[:,:,0].detach()-yBatch[:,:,0])\n",
    "plt.title('Predict - Train Difference')\n",
    "plt.show()"
   ]
  }
 ],
 "metadata": {
  "kernelspec": {
   "display_name": "aicome",
   "language": "python",
   "name": "python3"
  },
  "language_info": {
   "codemirror_mode": {
    "name": "ipython",
    "version": 3
   },
   "file_extension": ".py",
   "mimetype": "text/x-python",
   "name": "python",
   "nbconvert_exporter": "python",
   "pygments_lexer": "ipython3",
   "version": "3.12.9"
  }
 },
 "nbformat": 4,
 "nbformat_minor": 2
}
