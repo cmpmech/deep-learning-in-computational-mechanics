{
 "cells": [
  {
   "cell_type": "markdown",
   "id": "13ba11a8-9964-4b7e-b262-8b631b887188",
   "metadata": {},
   "source": [
    "# Exercise 14 - Physics-Informed Neural Network for a Static Bar\n",
    "### Task\n",
    "Implement a physics-informed neural network for a one-dimensional static bar\n",
    "1. Analytically determine, then define the distributed load `distLoad` according to the exercise description\n",
    "2. implement the prediction of the displacements (without strong enforcement) as `getDisplacements`\n",
    "3. implement the physics-informed and boundary loss computation as `getLossTerms`\n",
    "4. compute the cost function with `getCostFunction`\n",
    "5. Train the physics-informed neural network by executing the training loop\n",
    "6. Improve the convergence by adjusting the hyperparameters\n",
    "7. Reproduce the example from Section 4.2.1. by replacing the problem parameters\n",
    "\n",
    "### Learning goals\n",
    "- Understand how physics-informed neural networks work and how they are implemented\n",
    "- Gain an intuition about the performance of physics-informed neural networks and how the hyperparameters affect the convergence "
   ]
  },
  {
   "cell_type": "markdown",
   "id": "04fc65ef-fdb0-409a-8b58-6ee22a3a38db",
   "metadata": {},
   "source": [
    "**import libraries & set seed**"
   ]
  },
  {
   "cell_type": "code",
   "execution_count": 5,
   "id": "4dfeb949-ac58-4b07-9687-c41064b91f0c",
   "metadata": {
    "ExecuteTime": {
     "end_time": "2024-01-30T10:59:17.306381476Z",
     "start_time": "2024-01-30T10:59:17.261313364Z"
    }
   },
   "outputs": [],
   "source": [
    "import numpy as np\n",
    "import torch\n",
    "from torch.autograd import grad\n",
    "import time\n",
    "import matplotlib.pyplot as plt"
   ]
  },
  {
   "cell_type": "code",
   "execution_count": 6,
   "id": "d8aad52c",
   "metadata": {},
   "outputs": [
    {
     "data": {
      "text/plain": [
       "<torch._C.Generator at 0x7ff080d22670>"
      ]
     },
     "execution_count": 2,
     "metadata": {},
     "output_type": "execute_result"
    }
   ],
   "source": [
    "torch.manual_seed(2)"
   ]
  },
  {
   "cell_type": "markdown",
   "id": "a287a8dc-3ef0-490c-a549-a4c06474f8b9",
   "metadata": {},
   "source": [
    "## Utilities"
   ]
  },
  {
   "cell_type": "markdown",
   "id": "3837a3c0-c7e6-4750-94d6-07b83721493f",
   "metadata": {},
   "source": [
    "**gradient computation with automatic differentiation**"
   ]
  },
  {
   "cell_type": "code",
   "execution_count": 7,
   "id": "9d9ff7cc-b51d-4a65-b314-06d55506104a",
   "metadata": {
    "ExecuteTime": {
     "end_time": "2024-01-30T10:59:17.309136225Z",
     "start_time": "2024-01-30T10:59:17.306473002Z"
    }
   },
   "outputs": [],
   "source": [
    "def getDerivative(y, x, n):\n",
    "    \"\"\"Compute the nth order derivative of y = f(x) with respect to x.\"\"\"\n",
    "\n",
    "    if n == 0:\n",
    "        return y\n",
    "    else:\n",
    "        dy_dx = grad(\n",
    "            y, x, torch.ones(x.size()[0], 1), create_graph=True, retain_graph=True\n",
    "        )[0]\n",
    "        return getDerivative(dy_dx, x, n - 1)"
   ]
  },
  {
   "cell_type": "markdown",
   "id": "3351b4bd-8953-4816-87ac-fd5abb029b75",
   "metadata": {},
   "source": [
    "**neural network**"
   ]
  },
  {
   "cell_type": "code",
   "execution_count": 8,
   "id": "01fa82fc-8100-4a35-9709-9f3ff1272515",
   "metadata": {
    "ExecuteTime": {
     "end_time": "2024-01-30T10:59:17.319156180Z",
     "start_time": "2024-01-30T10:59:17.311023315Z"
    }
   },
   "outputs": [],
   "source": [
    "class NN(torch.nn.Module):\n",
    "    def __init__(\n",
    "        self,\n",
    "        inputDimension,\n",
    "        hiddenDimensions,\n",
    "        outputDimension,\n",
    "        activationFunction=torch.nn.Tanh(),\n",
    "    ):\n",
    "        super().__init__()\n",
    "\n",
    "        modules = []\n",
    "\n",
    "        modules.append(torch.nn.Linear(inputDimension, hiddenDimensions[0]))\n",
    "        modules.append(activationFunction)\n",
    "        for i in range(len(hiddenDimensions) - 1):\n",
    "            modules.append(\n",
    "                torch.nn.Linear(hiddenDimensions[i], hiddenDimensions[i + 1])\n",
    "            )\n",
    "            modules.append(activationFunction)\n",
    "        modules.append(torch.nn.Linear(hiddenDimensions[-1], outputDimension))\n",
    "\n",
    "        self.model = torch.nn.Sequential(*modules)\n",
    "\n",
    "    def forward(self, x):\n",
    "        return self.model(x)"
   ]
  },
  {
   "cell_type": "markdown",
   "id": "2997a44b-2089-42b8-b3cc-dcb75599c2d7",
   "metadata": {},
   "source": [
    "**initialization of neural network weights**"
   ]
  },
  {
   "cell_type": "code",
   "execution_count": 9,
   "id": "9ccef84d-eadf-4dc1-8298-b1062faa5f97",
   "metadata": {
    "ExecuteTime": {
     "end_time": "2024-01-30T10:59:17.326413268Z",
     "start_time": "2024-01-30T10:59:17.316648600Z"
    }
   },
   "outputs": [],
   "source": [
    "def initWeights(m):\n",
    "    \"\"\"Initialize weights of neural network with xavier initialization.\"\"\"\n",
    "    if type(m) == torch.nn.Linear:\n",
    "        torch.nn.init.xavier_uniform_(\n",
    "            m.weight, gain=torch.nn.init.calculate_gain(\"tanh\")\n",
    "        )  # adapt if using a different initialization\n",
    "        m.bias.data.fill_(0.0)"
   ]
  },
  {
   "cell_type": "markdown",
   "id": "ac280a6c-0742-4bf8-b6f2-0995b3680079",
   "metadata": {},
   "source": [
    "## PINN helper functions"
   ]
  },
  {
   "cell_type": "markdown",
   "id": "f551c1ad-ef82-4af5-bc7c-658fb6d16913",
   "metadata": {},
   "source": [
    "**displacement computation**\n",
    "$$\\hat{u}=F_{NN}(x)$$"
   ]
  },
  {
   "cell_type": "code",
   "execution_count": 10,
   "id": "21eda658-51ba-47bc-a7ff-ed2bb47c4c42",
   "metadata": {
    "ExecuteTime": {
     "end_time": "2024-01-30T10:59:17.328770727Z",
     "start_time": "2024-01-30T10:59:17.322602052Z"
    }
   },
   "outputs": [],
   "source": [
    "def getDisplacements(model, x):\n",
    "    return model(x)"
   ]
  },
  {
   "cell_type": "markdown",
   "id": "b9999f25-b7e7-42fa-a1bd-4824a0a32fa3",
   "metadata": {},
   "source": [
    "**loss term computation**\n",
    "\n",
    "The differential equation loss\n",
    "$$\\mathcal{L}_R=\\sum_{i=1}^N\\bigl(\\frac{d}{dx}EA\\bigl(\\frac{d\\hat{u}}{dx}\\bigr)+p\\bigr)^2$$\n",
    "The boundary condition loss \n",
    "$$\\mathcal{L}_B=\\sum_{i=1}^{N_B}\\bigl( \\frac{d^{n_i} \\hat{u}}{dx^{n_i}} - F \\bigr)^2$$"
   ]
  },
  {
   "cell_type": "code",
   "execution_count": 11,
   "id": "1b1e36d4-ee7e-4450-8c50-a4ba4fd101e5",
   "metadata": {
    "ExecuteTime": {
     "end_time": "2024-01-30T10:59:17.359301668Z",
     "start_time": "2024-01-30T10:59:17.328568995Z"
    }
   },
   "outputs": [],
   "source": [
    "def getLossTerms(x, xB, u, uB, EA, distLoad, uBLabel):\n",
    "    differentialEquationLoss = (\n",
    "        getDerivative(EA * getDerivative(u, x, 1), x, 1) + distLoad\n",
    "    )\n",
    "    differentialEquationLoss = torch.sum(differentialEquationLoss**2).squeeze()\n",
    "\n",
    "    # initialization\n",
    "    boundaryConditionLoss = 0\n",
    "\n",
    "    for i in range(len(uBLabel)):\n",
    "        boundaryConditionLoss += (\n",
    "            getDerivative(uB, xB, uBLabel[i][1])[i] - uBLabel[i][0]\n",
    "        ).squeeze() ** 2\n",
    "\n",
    "    return differentialEquationLoss, boundaryConditionLoss"
   ]
  },
  {
   "cell_type": "markdown",
   "id": "91a48beb-255a-4042-b29b-bdf06a4cdd3a",
   "metadata": {},
   "source": [
    "**cost function computation**\n",
    "$$C=\\mathcal{L}_R+\\mathcal{L}_B$$"
   ]
  },
  {
   "cell_type": "code",
   "execution_count": 12,
   "id": "ddbab3de-4767-45c9-a4d3-6bfb638d243a",
   "metadata": {
    "ExecuteTime": {
     "end_time": "2024-01-30T10:59:17.362342811Z",
     "start_time": "2024-01-30T10:59:17.328735277Z"
    }
   },
   "outputs": [],
   "source": [
    "def getCostFunction(lossTerms):\n",
    "    return lossTerms[0] + lossTerms[1]"
   ]
  },
  {
   "cell_type": "markdown",
   "id": "9d4e7265-83d4-4be6-b5d2-018649c32b21",
   "metadata": {},
   "source": [
    "## Problem setup"
   ]
  },
  {
   "cell_type": "markdown",
   "id": "2957569f-3de2-43dd-9b11-3221bf3d04b9",
   "metadata": {},
   "source": [
    "**physical parameters**"
   ]
  },
  {
   "cell_type": "code",
   "execution_count": null,
   "id": "f7459465-221f-43d6-8c9f-0d7ff6938496",
   "metadata": {
    "ExecuteTime": {
     "end_time": "2024-01-30T10:59:17.371836001Z",
     "start_time": "2024-01-30T10:59:17.359342909Z"
    }
   },
   "outputs": [],
   "source": [
    "# Prescribed displacement\n",
    "uAnalytic = lambda x: (1.0 - np.cos(3.0 * np.pi * x))\n",
    "\n",
    "# Problem data\n",
    "E = lambda x: 1.0  # Young's modulus\n",
    "A = lambda x: x**2 + 1.0  # cross-sectional area\n",
    "L = 3.0 / 2.0  # bar length\n",
    "uB = [\n",
    "    [0, 0, 0],\n",
    "    [0, 1, 0],\n",
    "]  # boundary conditions: [value, degree of differentiation, coordinate]\n",
    "\n",
    "# analytic solution for distributed load p(x)\n",
    "distLoad = lambda x: -6 * x * np.pi * torch.sin(3 * np.pi * x) - 9 * (\n",
    "    x**2 + 1) * np.pi**2 * torch.cos( 3 * np.pi * x)  "
   ]
  },
  {
   "cell_type": "markdown",
   "id": "75f533b6-272e-460a-8355-0850025d400f",
   "metadata": {},
   "source": [
    "**hyperparameters**\n",
    "\n",
    "currently Adam is selected as optimizer. By commenting the Adam block and uncommenting the LBFGS block, you can enable LBFGS as optimizer."
   ]
  },
  {
   "cell_type": "code",
   "execution_count": 14,
   "id": "15917078-13cb-4725-9164-cf409ada9530",
   "metadata": {
    "ExecuteTime": {
     "end_time": "2024-01-30T10:59:17.375287709Z",
     "start_time": "2024-01-30T10:59:17.363281041Z"
    }
   },
   "outputs": [],
   "source": [
    "Nx = 100  # number of collocation points\n",
    "hiddenDimensions = [100]  # definition of hidden layers\n",
    "activationFunction = (\n",
    "    torch.nn.Tanh()\n",
    ")  # if this is changed, also adapt the initialization\n",
    "\n",
    "epochs = 5000  # number of epochs\n",
    "lr = 5e-3  # learning rate\n",
    "selectOptimizer = \"Adam\"\n",
    "\n",
    "# epochs = 500\n",
    "# selectOptimizer = \"LBFGS\"\n",
    "# lr = 1e-2"
   ]
  },
  {
   "cell_type": "markdown",
   "id": "b309db2e-aa72-4e72-bbd5-0d1df04fa0bf",
   "metadata": {},
   "source": [
    "**neural network & optimizer setup**"
   ]
  },
  {
   "cell_type": "code",
   "execution_count": 15,
   "id": "7e66f248-a5c1-4ca7-8552-41ffbe2e7828",
   "metadata": {
    "ExecuteTime": {
     "end_time": "2024-01-30T10:59:17.375849101Z",
     "start_time": "2024-01-30T10:59:17.373787364Z"
    }
   },
   "outputs": [],
   "source": [
    "model = NN(1, hiddenDimensions, 1, activationFunction)\n",
    "model.apply(initWeights)\n",
    "if selectOptimizer == \"Adam\":\n",
    "    optimizer = torch.optim.Adam(model.parameters(), lr)\n",
    "elif selectOptimizer == \"LBFGS\":\n",
    "    optimizer = torch.optim.LBFGS(model.parameters(), lr)"
   ]
  },
  {
   "cell_type": "markdown",
   "id": "7c2fddfc-395b-4339-bebe-6558fde75679",
   "metadata": {},
   "source": [
    "**training grid**"
   ]
  },
  {
   "cell_type": "code",
   "execution_count": 16,
   "id": "e8609cae-76eb-450e-9b84-75a69068c7a0",
   "metadata": {
    "ExecuteTime": {
     "end_time": "2024-01-30T10:59:17.409830962Z",
     "start_time": "2024-01-30T10:59:17.377521329Z"
    }
   },
   "outputs": [],
   "source": [
    "x = torch.linspace(0, L, Nx, requires_grad=True).unsqueeze(1)\n",
    "\n",
    "# boundary points\n",
    "xB = torch.tensor([uBi[2] for uBi in uB]).unsqueeze(1).to(torch.float32)\n",
    "xB.requires_grad = True"
   ]
  },
  {
   "cell_type": "markdown",
   "id": "cc5f755e-e923-49d3-954c-bf09cd8ee74d",
   "metadata": {},
   "source": [
    "## Training"
   ]
  },
  {
   "cell_type": "code",
   "execution_count": 17,
   "id": "b96bca03-41d4-4a84-9945-326f7f59c3a8",
   "metadata": {
    "ExecuteTime": {
     "end_time": "2024-01-30T10:59:25.116773788Z",
     "start_time": "2024-01-30T10:59:17.410187921Z"
    }
   },
   "outputs": [
    {
     "name": "stdout",
     "output_type": "stream",
     "text": [
      "Epoch: 0/4999\t\tDifferential equation loss = 1.403162e+06\t\tBoundary condition closs = 1.358311e-02\n",
      "Cost = 1.403162e+06\t\tElapsed time = 0.000662\n",
      "Epoch: 100/4999\t\tDifferential equation loss = 1.290646e+06\t\tBoundary condition closs = 6.186681e+02\n",
      "Cost = 1.291265e+06\t\tElapsed time = 0.004353\n",
      "Epoch: 200/4999\t\tDifferential equation loss = 1.179141e+06\t\tBoundary condition closs = 1.479357e+03\n",
      "Cost = 1.180620e+06\t\tElapsed time = 0.004188\n",
      "Epoch: 300/4999\t\tDifferential equation loss = 9.098866e+05\t\tBoundary condition closs = 1.539529e+03\n",
      "Cost = 9.114261e+05\t\tElapsed time = 0.003749\n",
      "Epoch: 400/4999\t\tDifferential equation loss = 6.080709e+05\t\tBoundary condition closs = 1.429764e+03\n",
      "Cost = 6.095006e+05\t\tElapsed time = 0.003696\n",
      "Epoch: 500/4999\t\tDifferential equation loss = 1.809981e+05\t\tBoundary condition closs = 5.228785e+02\n",
      "Cost = 1.815210e+05\t\tElapsed time = 0.004226\n",
      "Epoch: 600/4999\t\tDifferential equation loss = 1.004079e+05\t\tBoundary condition closs = 2.762376e+02\n",
      "Cost = 1.006841e+05\t\tElapsed time = 0.003776\n",
      "Epoch: 700/4999\t\tDifferential equation loss = 2.865080e+04\t\tBoundary condition closs = 5.203782e+02\n",
      "Cost = 2.917118e+04\t\tElapsed time = 0.003494\n",
      "Epoch: 800/4999\t\tDifferential equation loss = 2.353001e+03\t\tBoundary condition closs = 1.031827e+03\n",
      "Cost = 3.384828e+03\t\tElapsed time = 0.003438\n",
      "Epoch: 900/4999\t\tDifferential equation loss = 1.034215e+03\t\tBoundary condition closs = 1.000842e+03\n",
      "Cost = 2.035057e+03\t\tElapsed time = 0.003442\n",
      "Epoch: 1000/4999\t\tDifferential equation loss = 7.171843e+02\t\tBoundary condition closs = 9.489462e+02\n",
      "Cost = 1.666130e+03\t\tElapsed time = 0.003468\n",
      "Epoch: 1100/4999\t\tDifferential equation loss = 5.625204e+02\t\tBoundary condition closs = 8.996675e+02\n",
      "Cost = 1.462188e+03\t\tElapsed time = 0.002995\n",
      "Epoch: 1200/4999\t\tDifferential equation loss = 4.007841e+02\t\tBoundary condition closs = 8.544480e+02\n",
      "Cost = 1.255232e+03\t\tElapsed time = 0.002421\n",
      "Epoch: 1300/4999\t\tDifferential equation loss = 3.496898e+02\t\tBoundary condition closs = 8.107256e+02\n",
      "Cost = 1.160415e+03\t\tElapsed time = 0.002273\n",
      "Epoch: 1400/4999\t\tDifferential equation loss = 2.389912e+02\t\tBoundary condition closs = 7.663543e+02\n",
      "Cost = 1.005346e+03\t\tElapsed time = 0.002176\n",
      "Epoch: 1500/4999\t\tDifferential equation loss = 1.856495e+02\t\tBoundary condition closs = 7.176213e+02\n",
      "Cost = 9.032709e+02\t\tElapsed time = 0.002208\n",
      "Epoch: 1600/4999\t\tDifferential equation loss = 1.445503e+02\t\tBoundary condition closs = 6.601650e+02\n",
      "Cost = 8.047153e+02\t\tElapsed time = 0.002214\n",
      "Epoch: 1700/4999\t\tDifferential equation loss = 1.121656e+02\t\tBoundary condition closs = 5.881168e+02\n",
      "Cost = 7.002823e+02\t\tElapsed time = 0.002189\n",
      "Epoch: 1800/4999\t\tDifferential equation loss = 8.620564e+01\t\tBoundary condition closs = 4.999979e+02\n",
      "Cost = 5.862035e+02\t\tElapsed time = 0.002125\n",
      "Epoch: 1900/4999\t\tDifferential equation loss = 6.458057e+01\t\tBoundary condition closs = 3.979793e+02\n",
      "Cost = 4.625598e+02\t\tElapsed time = 0.002459\n",
      "Epoch: 2000/4999\t\tDifferential equation loss = 4.673936e+01\t\tBoundary condition closs = 2.902718e+02\n",
      "Cost = 3.370111e+02\t\tElapsed time = 0.002402\n",
      "Epoch: 2100/4999\t\tDifferential equation loss = 3.330714e+01\t\tBoundary condition closs = 1.926857e+02\n",
      "Cost = 2.259928e+02\t\tElapsed time = 0.002520\n",
      "Epoch: 2200/4999\t\tDifferential equation loss = 2.444840e+01\t\tBoundary condition closs = 1.194112e+02\n",
      "Cost = 1.438596e+02\t\tElapsed time = 0.002774\n",
      "Epoch: 2300/4999\t\tDifferential equation loss = 1.864156e+01\t\tBoundary condition closs = 7.171468e+01\n",
      "Cost = 9.035623e+01\t\tElapsed time = 0.002516\n",
      "Epoch: 2400/4999\t\tDifferential equation loss = 1.502213e+01\t\tBoundary condition closs = 4.247805e+01\n",
      "Cost = 5.750018e+01\t\tElapsed time = 0.002527\n",
      "Epoch: 2500/4999\t\tDifferential equation loss = 2.143633e+01\t\tBoundary condition closs = 2.490413e+01\n",
      "Cost = 4.634045e+01\t\tElapsed time = 0.002664\n",
      "Epoch: 2600/4999\t\tDifferential equation loss = 1.066757e+01\t\tBoundary condition closs = 1.433516e+01\n",
      "Cost = 2.500274e+01\t\tElapsed time = 0.002703\n",
      "Epoch: 2700/4999\t\tDifferential equation loss = 9.616805e+00\t\tBoundary condition closs = 8.078069e+00\n",
      "Cost = 1.769487e+01\t\tElapsed time = 0.002706\n",
      "Epoch: 2800/4999\t\tDifferential equation loss = 8.708385e+00\t\tBoundary condition closs = 4.452968e+00\n",
      "Cost = 1.316135e+01\t\tElapsed time = 0.002928\n",
      "Epoch: 2900/4999\t\tDifferential equation loss = 1.301505e+01\t\tBoundary condition closs = 2.383618e+00\n",
      "Cost = 1.539866e+01\t\tElapsed time = 0.002675\n",
      "Epoch: 3000/4999\t\tDifferential equation loss = 7.587258e+00\t\tBoundary condition closs = 1.240239e+00\n",
      "Cost = 8.827497e+00\t\tElapsed time = 0.002496\n",
      "Epoch: 3100/4999\t\tDifferential equation loss = 7.420746e+00\t\tBoundary condition closs = 6.288713e-01\n",
      "Cost = 8.049618e+00\t\tElapsed time = 0.002340\n",
      "Epoch: 3200/4999\t\tDifferential equation loss = 6.778309e+00\t\tBoundary condition closs = 3.062997e-01\n",
      "Cost = 7.084609e+00\t\tElapsed time = 0.002568\n",
      "Epoch: 3300/4999\t\tDifferential equation loss = 1.909479e+01\t\tBoundary condition closs = 1.389057e-01\n",
      "Cost = 1.923370e+01\t\tElapsed time = 0.002250\n",
      "Epoch: 3400/4999\t\tDifferential equation loss = 6.069225e+00\t\tBoundary condition closs = 6.637953e-02\n",
      "Cost = 6.135604e+00\t\tElapsed time = 0.002464\n",
      "Epoch: 3500/4999\t\tDifferential equation loss = 7.941075e+00\t\tBoundary condition closs = 2.916109e-02\n",
      "Cost = 7.970236e+00\t\tElapsed time = 0.002182\n",
      "Epoch: 3600/4999\t\tDifferential equation loss = 6.164056e+00\t\tBoundary condition closs = 1.310666e-02\n",
      "Cost = 6.177163e+00\t\tElapsed time = 0.002156\n",
      "Epoch: 3700/4999\t\tDifferential equation loss = 5.931578e+00\t\tBoundary condition closs = 5.481322e-03\n",
      "Cost = 5.937059e+00\t\tElapsed time = 0.002385\n",
      "Epoch: 3800/4999\t\tDifferential equation loss = 9.624110e+00\t\tBoundary condition closs = 2.126699e-03\n",
      "Cost = 9.626237e+00\t\tElapsed time = 0.002779\n",
      "Epoch: 3900/4999\t\tDifferential equation loss = 3.220268e+01\t\tBoundary condition closs = 1.780275e-03\n",
      "Cost = 3.220446e+01\t\tElapsed time = 0.002472\n",
      "Epoch: 4000/4999\t\tDifferential equation loss = 4.377910e+00\t\tBoundary condition closs = 4.876058e-04\n",
      "Cost = 4.378398e+00\t\tElapsed time = 0.002504\n",
      "Epoch: 4100/4999\t\tDifferential equation loss = 4.999760e+00\t\tBoundary condition closs = 1.205739e-04\n",
      "Cost = 4.999881e+00\t\tElapsed time = 0.002243\n",
      "Epoch: 4200/4999\t\tDifferential equation loss = 3.932075e+00\t\tBoundary condition closs = 1.618541e-04\n",
      "Cost = 3.932237e+00\t\tElapsed time = 0.002280\n",
      "Epoch: 4300/4999\t\tDifferential equation loss = 3.709840e+00\t\tBoundary condition closs = 1.443224e-04\n",
      "Cost = 3.709985e+00\t\tElapsed time = 0.002321\n",
      "Epoch: 4400/4999\t\tDifferential equation loss = 3.518126e+00\t\tBoundary condition closs = 8.553707e-05\n",
      "Cost = 3.518211e+00\t\tElapsed time = 0.002294\n",
      "Epoch: 4500/4999\t\tDifferential equation loss = 3.977081e+01\t\tBoundary condition closs = 2.419958e-04\n",
      "Cost = 3.977105e+01\t\tElapsed time = 0.002553\n",
      "Epoch: 4600/4999\t\tDifferential equation loss = 3.108293e+00\t\tBoundary condition closs = 4.552493e-05\n",
      "Cost = 3.108339e+00\t\tElapsed time = 0.002747\n",
      "Epoch: 4700/4999\t\tDifferential equation loss = 3.015034e+00\t\tBoundary condition closs = 3.062541e-05\n",
      "Cost = 3.015065e+00\t\tElapsed time = 0.002375\n",
      "Epoch: 4800/4999\t\tDifferential equation loss = 1.392437e+01\t\tBoundary condition closs = 5.662565e-05\n",
      "Cost = 1.392443e+01\t\tElapsed time = 0.002747\n",
      "Epoch: 4900/4999\t\tDifferential equation loss = 2.593376e+00\t\tBoundary condition closs = 1.421406e-05\n",
      "Cost = 2.593390e+00\t\tElapsed time = 0.002318\n",
      "Total elapsed time: 13.687545\n",
      "Average elapsed time per epoch: 0.002738\n"
     ]
    }
   ],
   "source": [
    "differentialEquationLossHistory = np.zeros(epochs)\n",
    "boundaryConditionLossHistory = np.zeros(epochs)\n",
    "costHistory = np.zeros(epochs)\n",
    "\n",
    "start = time.perf_counter()\n",
    "start0 = start\n",
    "for epoch in range(epochs):\n",
    "    # predict displacements\n",
    "    uPred = getDisplacements(model, x)\n",
    "    uBPred = getDisplacements(model, xB)\n",
    "\n",
    "    lossTerms = getLossTerms(x, xB, uPred, uBPred, E(x) * A(x), distLoad(x), uB)\n",
    "    differentialEquationLossHistory[epoch] = lossTerms[0].detach()\n",
    "    boundaryConditionLossHistory[epoch] = lossTerms[1].detach()\n",
    "    costHistory[epoch] = getCostFunction(lossTerms).detach()\n",
    "\n",
    "    def closure():\n",
    "        optimizer.zero_grad()\n",
    "        uPred = getDisplacements(model, x)\n",
    "        uBPred = getDisplacements(model, xB)\n",
    "        lossTerms = getLossTerms(x, xB, uPred, uBPred, E(x) * A(x), distLoad(x), uB)\n",
    "        cost = getCostFunction(lossTerms)\n",
    "        cost.backward(retain_graph=True)\n",
    "        return cost\n",
    "\n",
    "    optimizer.step(closure)\n",
    "\n",
    "    if epoch % 100 == 0:\n",
    "        elapsedTime = (time.perf_counter() - start) / 100\n",
    "        string = \"Epoch: {}/{}\\t\\tDifferential equation loss = {:2e}\\t\\tBoundary condition closs = {:2e}\\nCost = {:2e}\\t\\tElapsed time = {:2f}\"\n",
    "        # Format string and print\n",
    "        print(\n",
    "            string.format(\n",
    "                epoch,\n",
    "                epochs - 1,\n",
    "                differentialEquationLossHistory[epoch],\n",
    "                boundaryConditionLossHistory[epoch],\n",
    "                costHistory[epoch],\n",
    "                elapsedTime,\n",
    "            )\n",
    "        )\n",
    "        start = time.perf_counter()\n",
    "elapsedTime = time.perf_counter() - start0\n",
    "string = \"Total elapsed time: {:2f}\\nAverage elapsed time per epoch: {:2f}\"\n",
    "print(string.format(elapsedTime, elapsedTime / epochs))"
   ]
  },
  {
   "cell_type": "markdown",
   "id": "42e63a9d-ea31-4930-90bb-b429637ca35c",
   "metadata": {},
   "source": [
    "## Post-processing"
   ]
  },
  {
   "cell_type": "markdown",
   "id": "44b677c7-9d31-4451-8562-8aa347e04726",
   "metadata": {},
   "source": [
    "**training history**"
   ]
  },
  {
   "cell_type": "code",
   "execution_count": 18,
   "id": "77a6c235-0210-40aa-a4d4-b93afc51989f",
   "metadata": {
    "ExecuteTime": {
     "end_time": "2024-01-30T10:59:25.365115912Z",
     "start_time": "2024-01-30T10:59:25.127179441Z"
    }
   },
   "outputs": [
    {
     "data": {
      "image/png": "[encoded data removed]",
      "text/plain": [
       "<Figure size 640x480 with 1 Axes>"
      ]
     },
     "metadata": {},
     "output_type": "display_data"
    }
   ],
   "source": [
    "fig, ax = plt.subplots()\n",
    "ax.set_xlabel(\"Epochs\")\n",
    "ax.set_ylabel(\"Cost function $C$\")\n",
    "ax.set_yscale(\"log\")\n",
    "\n",
    "ax.plot(costHistory, \"k\", linewidth=2, label=\"Cost $C$\")\n",
    "ax.plot(\n",
    "    differentialEquationLossHistory,\n",
    "    \"r:\",\n",
    "    linewidth=2,\n",
    "    label=\"Differential equation loss $\\\\mathcal{L}_{\\\\mathcal{N}}$\",\n",
    ")\n",
    "ax.plot(\n",
    "    boundaryConditionLossHistory,\n",
    "    \"b--\",\n",
    "    linewidth=2,\n",
    "    label=\"Boundary condition loss $\\\\mathcal{L}_{\\\\mathcal{B}}$\",\n",
    ")\n",
    "\n",
    "ax.grid()\n",
    "ax.legend()\n",
    "fig.tight_layout()\n",
    "plt.show()"
   ]
  },
  {
   "cell_type": "markdown",
   "id": "954f6de0-2ef2-4c1d-bad3-714c954ac14f",
   "metadata": {},
   "source": [
    "**displacement prediction**"
   ]
  },
  {
   "cell_type": "code",
   "execution_count": 19,
   "id": "5cd55fa0-2d9e-4e79-be43-3f4164db12ae",
   "metadata": {
    "ExecuteTime": {
     "end_time": "2024-01-30T10:59:25.534065636Z",
     "start_time": "2024-01-30T10:59:25.368117077Z"
    }
   },
   "outputs": [
    {
     "name": "stderr",
     "output_type": "stream",
     "text": [
      "/tmp/xpython_2030/3660899926.py:2: DeprecationWarning: __array_wrap__ must accept context and return_scalar arguments (positionally) in the future. (Deprecated NumPy 2.0)\n",
      "  uAnalytic = lambda x: (1.0 - np.cos(3.0 * np.pi * x))\n"
     ]
    },
    {
     "data": {
      "image/png": "[encoded data removed]",
      "text/plain": [
       "<Figure size 640x480 with 1 Axes>"
      ]
     },
     "metadata": {},
     "output_type": "display_data"
    }
   ],
   "source": [
    "xTest = torch.linspace(0, L, 1000).unsqueeze(1)\n",
    "uPredTest = getDisplacements(model, xTest).detach()\n",
    "uPred = getDisplacements(model, x).detach()\n",
    "\n",
    "fig, ax = plt.subplots()\n",
    "ax.set_xlabel(\"$x$\")\n",
    "ax.set_ylabel(\"displacement $u$\")\n",
    "\n",
    "ax.plot(xTest, uAnalytic(xTest), \"gray\", linewidth=2, label=\"analytical solution\")\n",
    "ax.plot(xTest, uPredTest, \"k:\", linewidth=2, label=\"prediction\")\n",
    "ax.plot(x.detach(), uPred, \"rs\", markersize=6, label=\"collocation points\")\n",
    "\n",
    "ax.grid()\n",
    "ax.legend()\n",
    "fig.tight_layout()\n",
    "plt.show()"
   ]
  }
 ],
 "metadata": {
  "kernelspec": {
   "display_name": "Python . (XPython)",
   "language": "python",
   "name": "xpython"
  },
  "language_info": {
   "file_extension": ".py",
   "mimetype": "text/x-python",
   "name": "python",
   "version": "3.12.9"
  }
 },
 "nbformat": 4,
 "nbformat_minor": 5
}
