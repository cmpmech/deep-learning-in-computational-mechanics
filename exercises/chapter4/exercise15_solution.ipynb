{
 "cells": [
  {
   "cell_type": "markdown",
   "id": "13ba11a8-9964-4b7e-b262-8b631b887188",
   "metadata": {},
   "source": [
    "# Exercise 15 - Data-Driven Identification using Physics-Informed Neural Networks for a Static Bar\n",
    "### Task\n",
    "Modify the file from exercise 14 to solve an inverse problem with a physics-informed neural network. File is adapated from Exercise 14. Changes are marked in <font color='red'>**red**</font>. \n",
    "1. implement the `getLossTerms` function for the inverse problem.\n",
    "2. train the physics-informed neural network to learn the inversion\n",
    "3. adapt the hyperparameters as needed\n",
    "4. reproduce the example from Section 4.3 by changing the problem parameters\n",
    "\n",
    "### Learning goals\n",
    "- Understand the difference between forward and inverse problems\n",
    "- Understand how to use physics-informed neural networks for inverse problems\n",
    "- Gain an intuition about the performance of physics-informed neural networks and how the hyperparameters affect the convergence \n"
   ]
  },
  {
   "cell_type": "markdown",
   "id": "04fc65ef-fdb0-409a-8b58-6ee22a3a38db",
   "metadata": {},
   "source": [
    "**import libraries & set seed**"
   ]
  },
  {
   "cell_type": "code",
   "execution_count": null,
   "id": "4dfeb949-ac58-4b07-9687-c41064b91f0c",
   "metadata": {
    "ExecuteTime": {
     "end_time": "2024-01-31T07:52:17.593765244Z",
     "start_time": "2024-01-31T07:52:17.517349306Z"
    }
   },
   "outputs": [],
   "source": [
    "import numpy as np\n",
    "import torch\n",
    "from torch.autograd import grad\n",
    "import time\n",
    "import matplotlib.pyplot as plt"
   ]
  },
  {
   "cell_type": "code",
   "execution_count": null,
   "id": "b8bafba8",
   "metadata": {},
   "outputs": [],
   "source": [
    "torch.manual_seed(2)"
   ]
  },
  {
   "cell_type": "markdown",
   "id": "a287a8dc-3ef0-490c-a549-a4c06474f8b9",
   "metadata": {},
   "source": [
    "## Utilities"
   ]
  },
  {
   "cell_type": "markdown",
   "id": "3837a3c0-c7e6-4750-94d6-07b83721493f",
   "metadata": {},
   "source": [
    "**gradient computation with automatic differentiation**"
   ]
  },
  {
   "cell_type": "code",
   "execution_count": null,
   "id": "9d9ff7cc-b51d-4a65-b314-06d55506104a",
   "metadata": {
    "ExecuteTime": {
     "end_time": "2024-01-31T07:52:17.601264509Z",
     "start_time": "2024-01-31T07:52:17.596901334Z"
    }
   },
   "outputs": [],
   "source": [
    "def getDerivative(y, x, n):\n",
    "    \"\"\"Compute the nth order derivative of y = f(x) with respect to x.\"\"\"\n",
    "\n",
    "    if n == 0:\n",
    "        return y\n",
    "    else:\n",
    "        dy_dx = grad(\n",
    "            y, x, torch.ones(x.size()[0], 1), create_graph=True, retain_graph=True\n",
    "        )[0]\n",
    "        return getDerivative(dy_dx, x, n - 1)"
   ]
  },
  {
   "cell_type": "markdown",
   "id": "3351b4bd-8953-4816-87ac-fd5abb029b75",
   "metadata": {},
   "source": [
    "**neural network**"
   ]
  },
  {
   "cell_type": "code",
   "execution_count": null,
   "id": "01fa82fc-8100-4a35-9709-9f3ff1272515",
   "metadata": {
    "ExecuteTime": {
     "end_time": "2024-01-31T07:52:17.612841941Z",
     "start_time": "2024-01-31T07:52:17.602398252Z"
    }
   },
   "outputs": [],
   "source": [
    "class NN(torch.nn.Module):\n",
    "    def __init__(\n",
    "        self,\n",
    "        inputDimension,\n",
    "        hiddenDimensions,\n",
    "        outputDimension,\n",
    "        activationFunction=torch.nn.Tanh(),\n",
    "    ):\n",
    "        super().__init__()\n",
    "\n",
    "        modules = []\n",
    "\n",
    "        modules.append(torch.nn.Linear(inputDimension, hiddenDimensions[0]))\n",
    "        modules.append(activationFunction)\n",
    "        for i in range(len(hiddenDimensions) - 1):\n",
    "            modules.append(\n",
    "                torch.nn.Linear(hiddenDimensions[i], hiddenDimensions[i + 1])\n",
    "            )\n",
    "            modules.append(activationFunction)\n",
    "        modules.append(torch.nn.Linear(hiddenDimensions[-1], outputDimension))\n",
    "\n",
    "        self.model = torch.nn.Sequential(*modules)\n",
    "\n",
    "    def forward(self, x):\n",
    "        return self.model(x)"
   ]
  },
  {
   "cell_type": "markdown",
   "id": "2997a44b-2089-42b8-b3cc-dcb75599c2d7",
   "metadata": {},
   "source": [
    "**initialization of neural network weights**"
   ]
  },
  {
   "cell_type": "code",
   "execution_count": null,
   "id": "9ccef84d-eadf-4dc1-8298-b1062faa5f97",
   "metadata": {
    "ExecuteTime": {
     "end_time": "2024-01-31T07:52:17.613675003Z",
     "start_time": "2024-01-31T07:52:17.611578085Z"
    }
   },
   "outputs": [],
   "source": [
    "def initWeights(m):\n",
    "    \"\"\"Initialize weights of neural network with xavier initialization.\"\"\"\n",
    "    if type(m) == torch.nn.Linear:\n",
    "        torch.nn.init.xavier_uniform_(\n",
    "            m.weight, gain=torch.nn.init.calculate_gain(\"tanh\")\n",
    "        )  # adapt if using a different initialization\n",
    "        m.bias.data.fill_(0.0)"
   ]
  },
  {
   "cell_type": "markdown",
   "id": "ac280a6c-0742-4bf8-b6f2-0995b3680079",
   "metadata": {},
   "source": [
    "## PINN helper functions"
   ]
  },
  {
   "cell_type": "markdown",
   "id": "f551c1ad-ef82-4af5-bc7c-658fb6d16913",
   "metadata": {},
   "source": [
    "<font color='red'>**stiffness computation**</font>\n",
    "$$\\hat{EA}=F_{NN}(x)$$"
   ]
  },
  {
   "cell_type": "code",
   "execution_count": null,
   "id": "21eda658-51ba-47bc-a7ff-ed2bb47c4c42",
   "metadata": {
    "ExecuteTime": {
     "end_time": "2024-01-31T07:52:17.644183635Z",
     "start_time": "2024-01-31T07:52:17.613112213Z"
    }
   },
   "outputs": [],
   "source": [
    "def getStiffness(model, x):\n",
    "    return model(x)"
   ]
  },
  {
   "cell_type": "markdown",
   "id": "b9999f25-b7e7-42fa-a1bd-4824a0a32fa3",
   "metadata": {},
   "source": [
    "<font color='red'>**loss term computation**</font>\n",
    "\n",
    "<font color='red'>the differential equation loss</font>\n",
    "$$\\mathcal{L}_R=\\sum_{i=1}^N\\bigl(\\frac{d}{dx}\\hat{EA}\\bigl(\\frac{du}{dx}\\bigr)+p\\bigr)^2$$\n",
    "<font color='red'>boundary condition is already fulfilled by measurement of $u$</font> "
   ]
  },
  {
   "cell_type": "code",
   "execution_count": null,
   "id": "1b1e36d4-ee7e-4450-8c50-a4ba4fd101e5",
   "metadata": {
    "ExecuteTime": {
     "end_time": "2024-01-31T07:52:17.644851242Z",
     "start_time": "2024-01-31T07:52:17.642311688Z"
    }
   },
   "outputs": [],
   "source": [
    "def getLossTerms(x, u, EA, distLoad):\n",
    "    differentialEquationLoss = (\n",
    "        getDerivative(EA * getDerivative(u, x, 1), x, 1) + distLoad\n",
    "    )\n",
    "    differentialEquationLoss = torch.sum(differentialEquationLoss**2).squeeze()\n",
    "\n",
    "    return differentialEquationLoss"
   ]
  },
  {
   "cell_type": "markdown",
   "id": "91a48beb-255a-4042-b29b-bdf06a4cdd3a",
   "metadata": {},
   "source": [
    "<font color='red'>**cost function computation**</font>\n",
    "$$C=\\mathcal{L}_R$$"
   ]
  },
  {
   "cell_type": "code",
   "execution_count": null,
   "id": "ddbab3de-4767-45c9-a4d3-6bfb638d243a",
   "metadata": {
    "ExecuteTime": {
     "end_time": "2024-01-31T07:52:17.645703638Z",
     "start_time": "2024-01-31T07:52:17.642578687Z"
    }
   },
   "outputs": [],
   "source": [
    "def getCostFunction(lossTerms):\n",
    "    return lossTerms"
   ]
  },
  {
   "cell_type": "markdown",
   "id": "9d4e7265-83d4-4be6-b5d2-018649c32b21",
   "metadata": {},
   "source": [
    "## Problem setup"
   ]
  },
  {
   "cell_type": "markdown",
   "id": "2957569f-3de2-43dd-9b11-3221bf3d04b9",
   "metadata": {},
   "source": [
    "<font color='red'>**physical parameters**</font>"
   ]
  },
  {
   "cell_type": "code",
   "execution_count": null,
   "id": "f7459465-221f-43d6-8c9f-0d7ff6938496",
   "metadata": {
    "ExecuteTime": {
     "end_time": "2024-01-31T07:52:17.654704837Z",
     "start_time": "2024-01-31T07:52:17.642768857Z"
    }
   },
   "outputs": [],
   "source": [
    "# # Analytial solution\n",
    "EAAnalytic = lambda x: np.sqrt(2 * np.sin(1) * x - 2 * np.sin(x) + 1)\n",
    "# \n",
    "# # Problem data\n",
    "L = 1.0\n",
    "uAnalytic = lambda x: 1 - torch.sqrt(\n",
    "    2 * torch.sin(torch.tensor([1])) * x - 2 * torch.sin(x) + 1\n",
    ")\n",
    "distLoad = lambda x: torch.sin(x)\n",
    "\n",
    "# analytic solution - section 4.3\n",
    "# EAAnalytic = lambda x: x ** 3 - x ** 2 + 1\n",
    "\n",
    "# # problem data\n",
    "# L = 1.\n",
    "# uAnalytic = lambda x: torch.sin(2 * np.pi * x)\n",
    "\n",
    "# distLoad = lambda x: (-2 * (3 * x ** 2 - 2 * x) * np.pi * torch.cos(2 * np.pi * x)\n",
    "#                       + 4 * (x ** 3 - x ** 2 + 1) * np.pi ** 2 * torch.sin(2 * np.pi * x))"
   ]
  },
  {
   "cell_type": "markdown",
   "id": "75f533b6-272e-460a-8355-0850025d400f",
   "metadata": {},
   "source": [
    "**hyperparameters**\n",
    "\n",
    "currently Adam is selected as optimizer. By commenting the Adam block and uncommenting the LBFGS block, you can enable LBFGS as optimizer."
   ]
  },
  {
   "cell_type": "code",
   "execution_count": null,
   "id": "15917078-13cb-4725-9164-cf409ada9530",
   "metadata": {
    "ExecuteTime": {
     "end_time": "2024-01-31T07:52:17.658456687Z",
     "start_time": "2024-01-31T07:52:17.646001944Z"
    }
   },
   "outputs": [],
   "source": [
    "Nx = 100  # number of collocation points\n",
    "hiddenDimensions = [100]  # definition of hidden layers\n",
    "activationFunction = (\n",
    "    torch.nn.Tanh()\n",
    ")  # if this is changed, also adapt the initialization\n",
    "\n",
    "epochs = 5000  # number of epochs\n",
    "lr = 5e-3  # learning rate\n",
    "selectOptimizer = \"Adam\"\n",
    "\n",
    "# epochs = 500\n",
    "# selectOptimizer = \"LBFGS\"\n",
    "# lr = 1e-2"
   ]
  },
  {
   "cell_type": "markdown",
   "id": "b309db2e-aa72-4e72-bbd5-0d1df04fa0bf",
   "metadata": {},
   "source": [
    "**neural network & optimizer setup**"
   ]
  },
  {
   "cell_type": "code",
   "execution_count": null,
   "id": "7e66f248-a5c1-4ca7-8552-41ffbe2e7828",
   "metadata": {
    "ExecuteTime": {
     "end_time": "2024-01-31T07:52:17.659238728Z",
     "start_time": "2024-01-31T07:52:17.656817026Z"
    }
   },
   "outputs": [],
   "source": [
    "model = NN(1, hiddenDimensions, 1, activationFunction)\n",
    "model.apply(initWeights)\n",
    "if selectOptimizer == \"Adam\":\n",
    "    optimizer = torch.optim.Adam(model.parameters(), lr)\n",
    "elif selectOptimizer == \"LBFGS\":\n",
    "    optimizer = torch.optim.LBFGS(model.parameters(), lr)"
   ]
  },
  {
   "cell_type": "markdown",
   "id": "7c2fddfc-395b-4339-bebe-6558fde75679",
   "metadata": {},
   "source": [
    "<font color='red'>**training grid**</red>"
   ]
  },
  {
   "cell_type": "code",
   "execution_count": null,
   "id": "e8609cae-76eb-450e-9b84-75a69068c7a0",
   "metadata": {
    "ExecuteTime": {
     "end_time": "2024-01-31T07:52:17.697424765Z",
     "start_time": "2024-01-31T07:52:17.659554529Z"
    }
   },
   "outputs": [],
   "source": [
    "x = torch.linspace(0, L, Nx, requires_grad=True).unsqueeze(1)"
   ]
  },
  {
   "cell_type": "markdown",
   "id": "4cf42a0c-0b01-4e51-96d6-639a35fe46b6",
   "metadata": {},
   "source": [
    "<font color='red'>**measurements**</font>"
   ]
  },
  {
   "cell_type": "code",
   "execution_count": null,
   "id": "3f7d74e1-6aac-4605-9cb9-0ade8ee79a63",
   "metadata": {
    "ExecuteTime": {
     "end_time": "2024-01-31T07:52:17.698304567Z",
     "start_time": "2024-01-31T07:52:17.669141024Z"
    }
   },
   "outputs": [],
   "source": [
    "uMeasured = uAnalytic(x)  # note that u is differentiable due to sampling"
   ]
  },
  {
   "cell_type": "markdown",
   "id": "cc5f755e-e923-49d3-954c-bf09cd8ee74d",
   "metadata": {},
   "source": [
    "## <font color='red'>Training</font>"
   ]
  },
  {
   "cell_type": "code",
   "execution_count": null,
   "id": "b96bca03-41d4-4a84-9945-326f7f59c3a8",
   "metadata": {
    "ExecuteTime": {
     "end_time": "2024-01-31T07:52:22.836746277Z",
     "start_time": "2024-01-31T07:52:17.697819517Z"
    }
   },
   "outputs": [],
   "source": [
    "costHistory = np.zeros(epochs)\n",
    "\n",
    "start = time.perf_counter()\n",
    "start0 = start\n",
    "for epoch in range(epochs):\n",
    "    # predict displacements\n",
    "    EAPred = getStiffness(model, x)\n",
    "\n",
    "    lossTerms = getLossTerms(x, uMeasured, EAPred, distLoad(x))\n",
    "    costHistory[epoch] = getCostFunction(lossTerms).detach()\n",
    "\n",
    "    def closure():\n",
    "        optimizer.zero_grad()\n",
    "        EAPred = getStiffness(model, x)\n",
    "        lossTerms = getLossTerms(x, uMeasured, EAPred, distLoad(x))\n",
    "        cost = getCostFunction(lossTerms)\n",
    "        cost.backward(retain_graph=True)\n",
    "        return cost\n",
    "\n",
    "    optimizer.step(closure)\n",
    "\n",
    "    if epoch % 250 == 0:\n",
    "        elapsedTime = (time.perf_counter() - start) / 100\n",
    "        string = \"Epoch: {}/{}\\t\\tCost = {:2f}\\t\\tElapsed time = {:2f}\"\n",
    "        # Format string and print\n",
    "        print(string.format(epoch, epochs - 1, costHistory[epoch], elapsedTime))\n",
    "        start = time.perf_counter()\n",
    "elapsedTime = time.perf_counter() - start0\n",
    "string = \"Total elapsed time: {:2e}\\nAverage elapsed time per epoch: {:2f}\"\n",
    "print(string.format(elapsedTime, elapsedTime / epochs))"
   ]
  },
  {
   "cell_type": "markdown",
   "id": "42e63a9d-ea31-4930-90bb-b429637ca35c",
   "metadata": {},
   "source": [
    "## Post-processing"
   ]
  },
  {
   "cell_type": "markdown",
   "id": "44b677c7-9d31-4451-8562-8aa347e04726",
   "metadata": {},
   "source": [
    "<font color='red'>**training history**</font>"
   ]
  },
  {
   "cell_type": "code",
   "execution_count": null,
   "id": "77a6c235-0210-40aa-a4d4-b93afc51989f",
   "metadata": {
    "ExecuteTime": {
     "end_time": "2024-01-31T07:52:23.052407585Z",
     "start_time": "2024-01-31T07:52:22.843935552Z"
    }
   },
   "outputs": [],
   "source": [
    "fig, ax = plt.subplots()\n",
    "ax.set_xlabel(\"Epochs\")\n",
    "ax.set_ylabel(\"Cost function $C$\")\n",
    "ax.set_yscale(\"log\")\n",
    "\n",
    "ax.plot(costHistory, \"k\", linewidth=2, label=\"Cost $C$\")\n",
    "\n",
    "ax.grid()\n",
    "ax.legend()\n",
    "fig.tight_layout()\n",
    "plt.show()"
   ]
  },
  {
   "cell_type": "markdown",
   "id": "954f6de0-2ef2-4c1d-bad3-714c954ac14f",
   "metadata": {},
   "source": [
    "<font color='red'>**displacement prediction**</font>"
   ]
  },
  {
   "cell_type": "code",
   "execution_count": null,
   "id": "5cd55fa0-2d9e-4e79-be43-3f4164db12ae",
   "metadata": {
    "ExecuteTime": {
     "end_time": "2024-01-31T07:52:23.180899668Z",
     "start_time": "2024-01-31T07:52:23.054664909Z"
    }
   },
   "outputs": [],
   "source": [
    "xTest = torch.linspace(0, L, 1000).unsqueeze(1)\n",
    "EAPredTest = getStiffness(model, xTest).detach()\n",
    "EAPred = getStiffness(model, x).detach()\n",
    "\n",
    "fig, ax = plt.subplots()\n",
    "ax.set_xlabel(\"$x$\")\n",
    "ax.set_ylabel(\"Displacement $u$\")\n",
    "\n",
    "ax.plot(xTest, EAAnalytic(xTest), \"gray\", linewidth=2, label=\"Analytical solution\")\n",
    "ax.plot(xTest, EAPredTest, \"k:\", linewidth=2, label=\"Prediction\")\n",
    "ax.plot(x.detach(), EAPred, \"rs\", markersize=6, label=\"Collocation points\")\n",
    "\n",
    "ax.grid()\n",
    "ax.legend()\n",
    "fig.tight_layout()\n",
    "plt.show()"
   ]
  }
 ],
 "metadata": {
  "kernelspec": {
   "display_name": "Python . (XPython)",
   "language": "python",
   "name": "xpython"
  },
  "language_info": {
   "file_extension": ".py",
   "mimetype": "text/x-python",
   "name": "python",
   "version": "3.12.9"
  }
 },
 "nbformat": 4,
 "nbformat_minor": 5
}
