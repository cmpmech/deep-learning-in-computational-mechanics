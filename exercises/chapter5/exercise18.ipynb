{
 "cells": [
  {
   "cell_type": "markdown",
   "id": "13ba11a8-9964-4b7e-b262-8b631b887188",
   "metadata": {},
   "source": [
    "# Exercise 18 - Variations of Physics-Informed Neural Networks\n",
    "### Tasks\n",
    "1. Study the variations of PINNs\n",
    "\n",
    "In block 15, choose from the following cost functions:\n",
    "- Physics-informed neural network (PINN)\n",
    "- Discrete Galerkin method (DGM)\n",
    "- Deep energy method (DEM) (to see the cost history, remove the logscale in block 20) \n",
    "- Variational physics-informed neural network (VPINN)\n",
    "\n",
    "To enable the Weak adversarial network (WAN), use the VPINN cost function and uncomment the neural network (modelW) for the test functions in block 19.\n",
    "\n",
    "2. Next, switch to problem b (see the exercise description) in block 16. The issue is the weak singularity at the left edge. By changing the integration technique in block 4 to midPointIntegration, the singularity is no longer evaluated. Compare the PINN and the DEM for case b. What happens if you reduce the number of collocation points Nx in block 17? Hint: also reduce the number of epochs for DEM to prevent overfitting.\n",
    "\n",
    "Note that the boundary conditions are implemented differently and in a less general manner. The `getDisplacements` function checks for homogeneous Dirichlet boundary conditions on the left and right edge (block 8), while inhomogeneous Neumann boundary conditions are checked directly in the different cost functions (block 10-13).\n",
    "\n",
    "### Learning goals\n",
    "- Understand the differences between the main PINN variations and their robustness\n",
    "- Be able to implement the main PINN variations\n",
    "- Gain intuition on the capabilities of the PINN variations"
   ]
  },
  {
   "cell_type": "markdown",
   "id": "04fc65ef-fdb0-409a-8b58-6ee22a3a38db",
   "metadata": {},
   "source": [
    "**import libraries & set seed**"
   ]
  },
  {
   "cell_type": "code",
   "execution_count": 5,
   "id": "4dfeb949-ac58-4b07-9687-c41064b91f0c",
   "metadata": {
    "ExecuteTime": {
     "end_time": "2024-02-01T08:13:11.088559095Z",
     "start_time": "2024-02-01T08:13:10.988656564Z"
    }
   },
   "outputs": [],
   "source": [
    "import numpy as np\n",
    "import torch\n",
    "from torch.autograd import grad\n",
    "import time\n",
    "import matplotlib.pyplot as plt"
   ]
  },
  {
   "cell_type": "code",
   "execution_count": 6,
   "id": "3aa39b4d",
   "metadata": {},
   "outputs": [
    {
     "data": {
      "text/plain": [
       "<torch._C.Generator at 0x7f5464872670>"
      ]
     },
     "execution_count": 2,
     "metadata": {},
     "output_type": "execute_result"
    }
   ],
   "source": [
    "torch.manual_seed(2)"
   ]
  },
  {
   "cell_type": "markdown",
   "id": "a287a8dc-3ef0-490c-a549-a4c06474f8b9",
   "metadata": {},
   "source": [
    "## Utilities"
   ]
  },
  {
   "cell_type": "markdown",
   "id": "3837a3c0-c7e6-4750-94d6-07b83721493f",
   "metadata": {},
   "source": [
    "**gradient computation with automatic differentiation**"
   ]
  },
  {
   "cell_type": "code",
   "execution_count": 7,
   "id": "9d9ff7cc-b51d-4a65-b314-06d55506104a",
   "metadata": {
    "ExecuteTime": {
     "end_time": "2024-02-01T08:13:11.092776514Z",
     "start_time": "2024-02-01T08:13:11.080661941Z"
    }
   },
   "outputs": [],
   "source": [
    "def getDerivative(y, x, n):\n",
    "    \"\"\"Compute the nth order derivative of y = f(x) with respect to x.\"\"\"\n",
    "\n",
    "    if n == 0:\n",
    "        return y\n",
    "    else:\n",
    "        dy_dx = grad(\n",
    "            y, x, torch.ones(x.size()[0], 1), create_graph=True, retain_graph=True\n",
    "        )[0]\n",
    "        return getDerivative(dy_dx, x, n - 1)"
   ]
  },
  {
   "cell_type": "markdown",
   "id": "a7b29b4e-25a6-4a63-bc6c-e4131e29934b",
   "metadata": {},
   "source": [
    "**numerical integration**"
   ]
  },
  {
   "cell_type": "code",
   "execution_count": 8,
   "id": "24d2b01f-63b0-4a45-8e1b-71e93ce41a4f",
   "metadata": {
    "ExecuteTime": {
     "end_time": "2024-02-01T08:13:11.143376619Z",
     "start_time": "2024-02-01T08:13:11.095967873Z"
    }
   },
   "outputs": [],
   "source": [
    "def midpointIntegration(y, x):\n",
    "    dx = x[1] - x[0]  # Compute delta x assuming it's constant over the range of x\n",
    "\n",
    "    return torch.sum(y, axis=0) * dx\n",
    "\n",
    "\n",
    "def trapezoidalIntegration(y, x):\n",
    "    dx = x[1] - x[0]  # Compute delta x assuming it's constant over the range of x\n",
    "\n",
    "    # Compute the integral with the trapezoidal rule\n",
    "    result = torch.sum(y, axis=0)\n",
    "    result = result - (y[0] + y[-1]) / 2\n",
    "\n",
    "    return result * dx"
   ]
  },
  {
   "cell_type": "markdown",
   "id": "407360b6-5c58-449f-93f5-df8fa6fc6ff6",
   "metadata": {},
   "source": [
    "**select numerical integration**"
   ]
  },
  {
   "cell_type": "code",
   "execution_count": 9,
   "id": "3a8c7df8-d07c-4b52-894b-cb37f4d149e7",
   "metadata": {
    "ExecuteTime": {
     "end_time": "2024-02-01T08:13:11.158431960Z",
     "start_time": "2024-02-01T08:13:11.143787666Z"
    }
   },
   "outputs": [],
   "source": [
    "# getIntegral = midpointIntegration\n",
    "getIntegral = trapezoidalIntegration"
   ]
  },
  {
   "cell_type": "markdown",
   "id": "3351b4bd-8953-4816-87ac-fd5abb029b75",
   "metadata": {},
   "source": [
    "**neural network**"
   ]
  },
  {
   "cell_type": "code",
   "execution_count": 10,
   "id": "01fa82fc-8100-4a35-9709-9f3ff1272515",
   "metadata": {
    "ExecuteTime": {
     "end_time": "2024-02-01T08:13:11.169485731Z",
     "start_time": "2024-02-01T08:13:11.158014333Z"
    }
   },
   "outputs": [],
   "source": [
    "class NN(torch.nn.Module):\n",
    "    def __init__(\n",
    "        self,\n",
    "        inputDimension,\n",
    "        hiddenDimensions,\n",
    "        outputDimension,\n",
    "        activationFunction=torch.nn.Tanh(),\n",
    "    ):\n",
    "        super().__init__()\n",
    "\n",
    "        modules = []\n",
    "\n",
    "        modules.append(torch.nn.Linear(inputDimension, hiddenDimensions[0]))\n",
    "        modules.append(activationFunction)\n",
    "        for i in range(len(hiddenDimensions) - 1):\n",
    "            modules.append(\n",
    "                torch.nn.Linear(hiddenDimensions[i], hiddenDimensions[i + 1])\n",
    "            )\n",
    "            modules.append(activationFunction)\n",
    "        modules.append(torch.nn.Linear(hiddenDimensions[-1], outputDimension))\n",
    "\n",
    "        self.model = torch.nn.Sequential(*modules)\n",
    "\n",
    "    def forward(self, x):\n",
    "        return self.model(x)"
   ]
  },
  {
   "cell_type": "markdown",
   "id": "2997a44b-2089-42b8-b3cc-dcb75599c2d7",
   "metadata": {},
   "source": [
    "**initialization of neural network weights**"
   ]
  },
  {
   "cell_type": "code",
   "execution_count": 11,
   "id": "9ccef84d-eadf-4dc1-8298-b1062faa5f97",
   "metadata": {
    "ExecuteTime": {
     "end_time": "2024-02-01T08:13:11.173559960Z",
     "start_time": "2024-02-01T08:13:11.162436874Z"
    }
   },
   "outputs": [],
   "source": [
    "def initWeights(m):\n",
    "    \"\"\"Initialize weights of neural network with xavier initialization.\"\"\"\n",
    "    if type(m) == torch.nn.Linear:\n",
    "        torch.nn.init.xavier_uniform_(\n",
    "            m.weight, gain=torch.nn.init.calculate_gain(\"tanh\")\n",
    "        )  # adapt if using a different initialization\n",
    "        m.bias.data.fill_(0.0)"
   ]
  },
  {
   "cell_type": "markdown",
   "id": "ac280a6c-0742-4bf8-b6f2-0995b3680079",
   "metadata": {},
   "source": [
    "## PINN helper functions"
   ]
  },
  {
   "cell_type": "markdown",
   "id": "f551c1ad-ef82-4af5-bc7c-658fb6d16913",
   "metadata": {},
   "source": [
    "**displacement computation**\n",
    "$$\\hat{u}=F_{NN}(x)$$"
   ]
  },
  {
   "cell_type": "code",
   "execution_count": 12,
   "id": "21eda658-51ba-47bc-a7ff-ed2bb47c4c42",
   "metadata": {
    "ExecuteTime": {
     "end_time": "2024-02-01T08:13:11.204900819Z",
     "start_time": "2024-02-01T08:13:11.173230911Z"
    }
   },
   "outputs": [],
   "source": [
    "def getDisplacements(model, x, uB, L):  # only works for homogeneous boundary conditions\n",
    "    u = model(x)\n",
    "    if np.any(np.all(np.array(uB) == [0, 0, 0], axis=1)):\n",
    "        u *= x\n",
    "    if np.any(np.all(np.array(uB) == [0, 0, L], axis=1)):\n",
    "        u *= L - x\n",
    "\n",
    "    return u"
   ]
  },
  {
   "cell_type": "markdown",
   "id": "7e642202-4b74-4cb5-be84-4411c2d0efb5",
   "metadata": {},
   "source": [
    "**test functions**"
   ]
  },
  {
   "cell_type": "code",
   "execution_count": 13,
   "id": "d01a7c29-bb3d-4405-9e95-e679bb193469",
   "metadata": {
    "ExecuteTime": {
     "end_time": "2024-02-01T08:13:11.216542174Z",
     "start_time": "2024-02-01T08:13:11.204483121Z"
    }
   },
   "outputs": [],
   "source": [
    "class testFunctions(torch.nn.Module):\n",
    "    def __init__(self, x, n, L):\n",
    "        super().__init__()\n",
    "        self.paramters = None\n",
    "\n",
    "        self.testFunctions = torch.zeros((len(x), n))\n",
    "        for i in range(n):\n",
    "            self.testFunctions[:, i] = 1.0 - torch.cos(\n",
    "                (i + 1) * np.pi / L * x[:, 0]\n",
    "            )  # assumes a Dirichlet boundary condition at the left edge\n",
    "\n",
    "    def forward(self, x):\n",
    "        return torch.clone(\n",
    "            self.testFunctions\n",
    "        )  # necessary as it is otherwise directly modified in getTestFunctions"
   ]
  },
  {
   "cell_type": "markdown",
   "id": "f84c7c1c74b92a5f",
   "metadata": {},
   "source": [
    "**test function computation with consideration of Dirichlet boundary conditions**"
   ]
  },
  {
   "cell_type": "code",
   "execution_count": 14,
   "id": "b657d931edd6836a",
   "metadata": {
    "ExecuteTime": {
     "end_time": "2024-02-01T08:13:11.225189076Z",
     "start_time": "2024-02-01T08:13:11.216221249Z"
    }
   },
   "outputs": [],
   "source": [
    "def getTestFunctions(model, x, uB, L):\n",
    "    w = model(x)\n",
    "    if np.any(np.all(np.array(uB)[:, 1:] == [0, 0], axis=1)):\n",
    "        w *= x\n",
    "    if np.any(np.all(np.array(uB)[:, 1:] == [0, L], axis=1)):\n",
    "        w *= L - x\n",
    "    return w"
   ]
  },
  {
   "cell_type": "markdown",
   "id": "b9999f25-b7e7-42fa-a1bd-4824a0a32fa3",
   "metadata": {},
   "source": [
    "**cost function computation**\n",
    "\n",
    "## Physics-informed loss function\n",
    "The differential equation loss\n",
    "$$\\mathcal{L}_\\mathcal{R}=\\sum_{i=1}^N\\bigl(\\frac{d}{dx}EA(x_i)\\bigl(\\frac{d\\hat{u}(x_i)}{dx}\\bigr)+p(x_i)\\bigr)^2$$\n",
    "The boundary condition loss \n",
    "$$\\mathcal{L}_\\mathcal{B}=\\sum_{i=1}^{N_B}\\bigl( \\frac{d^{n_i} \\hat{u}(x_i)}{dx^{n_i}} - F_i \\bigr)^2$$\n",
    "$$C = \\mathcal{L}_\\mathcal{R} + \\mathcal{L}_\\mathcal{B}$$\n",
    "\n",
    "## Deep Galerkin method\n",
    "The differential equation loss\n",
    "$$\\mathcal{L}_\\mathcal{R}=\\int_0^L \\bigl(\\frac{d}{dx}EA(x)\\bigl(\\frac{d\\hat{u}(x)}{dx}\\bigr)+p(x)\\bigr)^2 v(x) dx$$\n",
    "$$v(x)\\sim U(0,1)$$\n",
    "The boundary condition loss \n",
    "$$\\mathcal{L}_\\mathcal{B}=\\sum_{i=1}^{N_B}\\bigl( \\frac{d^{n_i} \\hat{u}(x_i)}{dx^{n_i}} - F_i \\bigr)^2$$\n",
    "$$C = \\mathcal{L}_\\mathcal{R} + \\mathcal{L}_\\mathcal{B}$$\n",
    "\n",
    "## Variational physics-informed neural networks\n",
    "$$C = \\sum_{i=1}^{N_{\\mathcal{W}}} \\Bigl( -\\int_0^L \\frac{du(x)}{dx}EA(x)\\frac{dw_i(x)}{dx} dx + \\int_0^L p(x) w_i(x) dx + \\int_{\\Gamma_N} \\frac{du(x)}{dx}EA(x) w_i(x)d\\Gamma_N \\Bigr)^2$$\n",
    "\n",
    "## Weak adversarial networks\n",
    "$$C = \\sum_{i=1}^{N_{\\mathcal{W}}} \\Bigl( -\\int_0^L \\frac{du(x)}{dx}EA(x)\\frac{d\\hat{w}_i(x)}{dx} dx + \\int_0^L p(x) \\hat{w}_i(x) dx + \\int_{\\Gamma_N} \\frac{du(x)}{dx}EA(x) \\hat{w}_i(x)d\\Gamma_N \\Bigr)^2$$\n",
    "$$\\min_u \\max_w C$$\n",
    "\n",
    "## Deep energy method\n",
    "internal energy\n",
    "$$\\Pi_{\\text{int}} = \\frac{1}{2} \\int_0^L \\bigl(\\frac{du(x)}{dx}\\bigr)^2 EA(x)dx$$\n",
    "external energy\n",
    "$$\\Pi_{\\text{ext}} = - \\int_0^L p(x) u(x) dx - \\int_{\\Gamma_N} \\frac{du(x)}{dx}EA(x) u(x)d\\Gamma_N $$\n",
    "$$C = \\Pi_{\\text{int}} + \\Pi_{\\text{ext}}$$"
   ]
  },
  {
   "cell_type": "markdown",
   "id": "3169c85c",
   "metadata": {
    "ExecuteTime": {
     "end_time": "2024-02-01T08:13:11.243044638Z",
     "start_time": "2024-02-01T08:13:11.224916079Z"
    }
   },
   "source": [
    "(`w` is not used, only necessary for the consistency of the function interface)"
   ]
  },
  {
   "cell_type": "code",
   "execution_count": 15,
   "id": "ddbab3de-4767-45c9-a4d3-6bfb638d243a",
   "metadata": {
    "ExecuteTime": {
     "end_time": "2024-02-01T08:13:11.246925509Z",
     "start_time": "2024-02-01T08:13:11.242962Z"
    }
   },
   "outputs": [],
   "source": [
    "def getCostFunctionPINN(x, xB, u, uB, w, wB, EA, distLoad, uBLabel):\n",
    "    differentialEquationLoss = getDerivative(\n",
    "        EA(x) * getDerivative(u, x, 1), x, 1\n",
    "    ) + distLoad(x)\n",
    "    differentialEquationLoss = torch.sum(differentialEquationLoss**2).squeeze()\n",
    "\n",
    "    # initialization\n",
    "    boundaryConditionLoss = 0\n",
    "\n",
    "    for i in range(len(uBLabel)):\n",
    "        boundaryConditionLoss += (\n",
    "            getDerivative(uB, xB, uBLabel[i][1])[i] - uBLabel[i][0]\n",
    "        ).squeeze() ** 2\n",
    "\n",
    "    return differentialEquationLoss + boundaryConditionLoss"
   ]
  },
  {
   "cell_type": "code",
   "execution_count": 16,
   "id": "1c5499a4-27cf-4c26-9757-7961185bc4b0",
   "metadata": {
    "ExecuteTime": {
     "end_time": "2024-02-01T08:13:11.267797707Z",
     "start_time": "2024-02-01T08:13:11.247111920Z"
    }
   },
   "outputs": [],
   "source": [
    "def getCostFunctionDGM(x, xB, u, uB, w, wB, EA, distLoad, uBLabel):\n",
    "    differentialEquationLoss = getDerivative(\n",
    "        EA(x) * getDerivative(u, x, 1), x, 1\n",
    "    ) + distLoad(x)\n",
    "    v = torch.rand(u.shape) * torch.max(\n",
    "        x\n",
    "    )  # optional positive probability density for differential equation loss\n",
    "    differentialEquationLoss = getIntegral(\n",
    "        differentialEquationLoss**2 * v, x\n",
    "    ).squeeze()  # boundary points are treated separately [1:-1]\n",
    "\n",
    "    # initialization\n",
    "    boundaryConditionLoss = 0\n",
    "\n",
    "    for i in range(len(uBLabel)):\n",
    "        boundaryConditionLoss += (\n",
    "            getDerivative(uB, xB, uBLabel[i][1])[i] - uBLabel[i][0]\n",
    "        ).squeeze() ** 2\n",
    "\n",
    "    return differentialEquationLoss + boundaryConditionLoss"
   ]
  },
  {
   "cell_type": "code",
   "execution_count": 17,
   "id": "779eca17-e9ef-4117-b846-9773a827bf46",
   "metadata": {
    "ExecuteTime": {
     "end_time": "2024-02-01T08:13:11.268725628Z",
     "start_time": "2024-02-01T08:13:11.259229752Z"
    }
   },
   "outputs": [],
   "source": [
    "def getCostFunctionVPINN(x, xB, u, uB, w, wB, EA, distLoad, uBLabel):\n",
    "    # derivative computation\n",
    "    dwdx = torch.zeros(w.shape)\n",
    "    for i in range(w.shape[1]):\n",
    "        dwdx[:, i : (i + 1)] = getDerivative(w[:, i : (i + 1)], x, 1)\n",
    "\n",
    "    integrand = dwdx * EA(x) * getDerivative(u, x, 1)\n",
    "    cost_ = -getIntegral(integrand, x)  # boundary points are treated separately [1:-1]\n",
    "\n",
    "    integrand = w * distLoad(x)\n",
    "    cost_ += getIntegral(integrand, x)  # boundary points are treated separately [1:-1]\n",
    "\n",
    "    for i in range(len(uB)):\n",
    "        if uBLabel[i][1] == 1:\n",
    "            cost_ += wB[i] * EA(uBLabel[i][2]) * uBLabel[i][0]\n",
    "\n",
    "    cost = torch.sum(cost_**2)\n",
    "    return cost"
   ]
  },
  {
   "cell_type": "code",
   "execution_count": 18,
   "id": "dea0c4e0-3ff0-493e-8f6c-3a3de396b189",
   "metadata": {
    "ExecuteTime": {
     "end_time": "2024-02-01T08:13:11.283015315Z",
     "start_time": "2024-02-01T08:13:11.268212591Z"
    }
   },
   "outputs": [],
   "source": [
    "def getCostFunctionDEM(\n",
    "    x, xB, u, uB, w, wB, EA, distLoad, uBLabel\n",
    "):  # w is not used, only necessary for the consistency of the function interface\n",
    "    strain = getDerivative(u, x, 1)\n",
    "\n",
    "    internalEnergyDensity = 0.5 * EA(x) * strain**2\n",
    "    internalEnergy = getIntegral(internalEnergyDensity, x)\n",
    "\n",
    "    externalEnergyDistLoad = -getIntegral((distLoad(x) * u), x)\n",
    "    externalEnergyNeumannBC = torch.tensor([0.0])\n",
    "    for i in range(len(uB)):\n",
    "        if uBLabel[i][1] == 1:\n",
    "            externalEnergyNeumannBC -= (\n",
    "                uB[i] * EA(uBLabel[i][2]) * uBLabel[i][0]\n",
    "            )  # OBS CHECK IF YOU HAVE TO ADD EA HERE\n",
    "    externalEnergy = externalEnergyDistLoad + externalEnergyNeumannBC\n",
    "\n",
    "    return internalEnergy + externalEnergy"
   ]
  },
  {
   "cell_type": "markdown",
   "id": "b4dc0fd4-dc6c-41d3-92ad-44c503330933",
   "metadata": {},
   "source": [
    "**select PINN variation**"
   ]
  },
  {
   "cell_type": "code",
   "execution_count": 19,
   "id": "7dad2ef3-ee11-4d49-8bd8-b9e1597ac6aa",
   "metadata": {
    "ExecuteTime": {
     "end_time": "2024-02-01T08:13:11.292848350Z",
     "start_time": "2024-02-01T08:13:11.282853761Z"
    }
   },
   "outputs": [],
   "source": [
    "getCostFunction = getCostFunctionPINN\n",
    "# getCostFunction = getCostFunctionDGM\n",
    "# getCostFunction = getCostFunctionDEM\n",
    "# getCostFunction = getCostFunctionVPINN\n",
    "# for WAN go to block 19 and use getCostFunctionVPINN"
   ]
  },
  {
   "cell_type": "markdown",
   "id": "9d4e7265-83d4-4be6-b5d2-018649c32b21",
   "metadata": {},
   "source": [
    "## Problem setup"
   ]
  },
  {
   "cell_type": "markdown",
   "id": "2957569f-3de2-43dd-9b11-3221bf3d04b9",
   "metadata": {},
   "source": [
    "**physical parameters**"
   ]
  },
  {
   "cell_type": "code",
   "execution_count": 20,
   "id": "f7459465-221f-43d6-8c9f-0d7ff6938496",
   "metadata": {
    "ExecuteTime": {
     "end_time": "2024-02-01T08:13:11.304579571Z",
     "start_time": "2024-02-01T08:13:11.292686381Z"
    }
   },
   "outputs": [],
   "source": [
    "# Problem a\n",
    "# Analytial solution\n",
    "uAnalytic = lambda x: (1.0 - np.cos(3.0 * np.pi * x))\n",
    "\n",
    "# Problem data\n",
    "E = lambda x: 2.0 + x * 0  # Young's modulus\n",
    "A = lambda x: 1.0 + x * 0  # cross-sectional area\n",
    "L = 1  # bar length\n",
    "# boundary conditions: [value, degree of differentiation, coordinate] (Boundaries conditions can only be set at 0 and -1, maximum degree of differentiation is 1)\n",
    "uB = [\n",
    "    [0, 0, 0],\n",
    "    [3 * np.pi * np.sin(3 * np.pi * L), 1, L],\n",
    "]  # Neumann boundary condition becomes homogeneous for L=1\n",
    "distLoad = (\n",
    "    lambda x: -18 * np.pi**2 * torch.cos(3 * np.pi * x)\n",
    ")  # distributed load p(x)\n",
    "\n",
    "# Problem b\n",
    "# Analytical solution\n",
    "# uAnalytic = lambda x: -x**0.65 + 0.65 * x\n",
    "\n",
    "# Problem data\n",
    "# E = lambda x: 1. + x * 0\n",
    "# A = lambda x: 1. + x * 0\n",
    "# L = 1\n",
    "# uB = [[0, 0, 0], [0, 1, L]]\n",
    "# distLoad = lambda x: -0.2275 * x**-1.35"
   ]
  },
  {
   "cell_type": "markdown",
   "id": "75f533b6-272e-460a-8355-0850025d400f",
   "metadata": {},
   "source": [
    "**hyperparameters**\n",
    "\n",
    "currently Adam is selected as optimizer. By commenting the Adam block and uncommenting the LBFGS block, you can enable LBFGS as optimizer."
   ]
  },
  {
   "cell_type": "code",
   "execution_count": 21,
   "id": "15917078-13cb-4725-9164-cf409ada9530",
   "metadata": {
    "ExecuteTime": {
     "end_time": "2024-02-01T08:13:11.309165617Z",
     "start_time": "2024-02-01T08:13:11.296865564Z"
    }
   },
   "outputs": [],
   "source": [
    "Nx = 100  # number of collocation points\n",
    "hiddenDimensions = [100]  # definition of hidden layers\n",
    "activationFunction = (\n",
    "    torch.nn.Tanh()\n",
    ")  # if this is changed, also adapt the initialization\n",
    "\n",
    "epochs = 4000  # number of epochs\n",
    "lr = 1e-2  # 1e-2 # learning rate\n",
    "selectOptimizer = \"Adam\"\n",
    "\n",
    "# epochs = 500\n",
    "# selectOptimizer = \"LBFGS\"\n",
    "# lr = 1e-2"
   ]
  },
  {
   "cell_type": "markdown",
   "id": "7c2fddfc-395b-4339-bebe-6558fde75679",
   "metadata": {},
   "source": [
    "**training grid**"
   ]
  },
  {
   "cell_type": "code",
   "execution_count": 22,
   "id": "e8609cae-76eb-450e-9b84-75a69068c7a0",
   "metadata": {
    "ExecuteTime": {
     "end_time": "2024-02-01T08:13:11.331182327Z",
     "start_time": "2024-02-01T08:13:11.308893596Z"
    }
   },
   "outputs": [],
   "source": [
    "if getIntegral == midpointIntegration:\n",
    "    dx = L / (Nx)\n",
    "    x = torch.linspace(0.5 * dx, L - 0.5 * dx, Nx - 2, requires_grad=True).unsqueeze(1)\n",
    "else:\n",
    "    x = torch.linspace(0, L, Nx - 2, requires_grad=True).unsqueeze(1)\n",
    "\n",
    "# boundary points\n",
    "xB = torch.tensor([uBi[2] for uBi in uB]).unsqueeze(1).to(torch.float32)\n",
    "xB.requires_grad = True"
   ]
  },
  {
   "cell_type": "markdown",
   "id": "b309db2e-aa72-4e72-bbd5-0d1df04fa0bf",
   "metadata": {},
   "source": [
    "**neural network & optimizer setup**"
   ]
  },
  {
   "cell_type": "code",
   "execution_count": 23,
   "id": "7e66f248-a5c1-4ca7-8552-41ffbe2e7828",
   "metadata": {
    "ExecuteTime": {
     "end_time": "2024-02-01T08:13:11.346875495Z",
     "start_time": "2024-02-01T08:13:11.330896100Z"
    }
   },
   "outputs": [],
   "source": [
    "modelU = NN(1, hiddenDimensions, 1, activationFunction)\n",
    "modelU.apply(initWeights)\n",
    "\n",
    "# for VPINN\n",
    "n = 10\n",
    "modelW = testFunctions(x, n, L)\n",
    "\n",
    "# for WAN\n",
    "# n = 10\n",
    "# modelW = NN(1, hiddenDimensions, n, activationFunction)\n",
    "# modelW.apply(initWeights)\n",
    "\n",
    "if selectOptimizer == \"Adam\":\n",
    "    optimizer = torch.optim.Adam(modelU.parameters(), lr)\n",
    "elif selectOptimizer == \"LBFGS\":\n",
    "    optimizer = torch.optim.LBFGS(modelU.parameters(), lr)\n",
    "\n",
    "if modelW.parameters() != None:\n",
    "    optimizer = torch.optim.Adam(\n",
    "        list(modelU.parameters()) + list(modelW.parameters()), lr\n",
    "    )"
   ]
  },
  {
   "cell_type": "markdown",
   "id": "cc5f755e-e923-49d3-954c-bf09cd8ee74d",
   "metadata": {},
   "source": [
    "## Training"
   ]
  },
  {
   "cell_type": "code",
   "execution_count": 24,
   "id": "b96bca03-41d4-4a84-9945-326f7f59c3a8",
   "metadata": {
    "ExecuteTime": {
     "end_time": "2024-02-01T08:14:31.141405692Z",
     "start_time": "2024-02-01T08:13:11.346367885Z"
    }
   },
   "outputs": [
    {
     "name": "stdout",
     "output_type": "stream",
     "text": [
      "Epoch: 0/3999\t\tCost = 1.562134e+06\t\tElapsed time per epoch = 0.000074\n"
     ]
    },
    {
     "name": "stdout",
     "output_type": "stream",
     "text": [
      "Epoch: 100/3999\t\tCost = 1.500093e+06\t\tElapsed time per epoch = 0.005549\n",
      "Epoch: 200/3999\t\tCost = 3.078498e+05\t\tElapsed time per epoch = 0.005792\n",
      "Epoch: 300/3999\t\tCost = 1.265452e+03\t\tElapsed time per epoch = 0.005633\n",
      "Epoch: 400/3999\t\tCost = 3.585541e+02\t\tElapsed time per epoch = 0.005545\n",
      "Epoch: 500/3999\t\tCost = 1.844989e+02\t\tElapsed time per epoch = 0.004241\n",
      "Epoch: 600/3999\t\tCost = 1.149944e+02\t\tElapsed time per epoch = 0.005229\n",
      "Epoch: 700/3999\t\tCost = 7.923244e+01\t\tElapsed time per epoch = 0.005278\n",
      "Epoch: 800/3999\t\tCost = 5.780957e+01\t\tElapsed time per epoch = 0.005386\n",
      "Epoch: 900/3999\t\tCost = 4.896161e+01\t\tElapsed time per epoch = 0.004975\n",
      "Epoch: 1000/3999\t\tCost = 8.456351e+01\t\tElapsed time per epoch = 0.004621\n",
      "Epoch: 1100/3999\t\tCost = 3.272372e+01\t\tElapsed time per epoch = 0.005216\n",
      "Epoch: 1200/3999\t\tCost = 2.893623e+01\t\tElapsed time per epoch = 0.004496\n",
      "Epoch: 1300/3999\t\tCost = 2.862562e+01\t\tElapsed time per epoch = 0.004407\n",
      "Epoch: 1400/3999\t\tCost = 2.334470e+01\t\tElapsed time per epoch = 0.004612\n",
      "Epoch: 1500/3999\t\tCost = 2.128376e+01\t\tElapsed time per epoch = 0.004392\n",
      "Epoch: 1600/3999\t\tCost = 1.928508e+01\t\tElapsed time per epoch = 0.004721\n",
      "Epoch: 1700/3999\t\tCost = 1.774652e+01\t\tElapsed time per epoch = 0.005274\n",
      "Epoch: 1800/3999\t\tCost = 9.531998e+01\t\tElapsed time per epoch = 0.005274\n",
      "Epoch: 1900/3999\t\tCost = 1.508010e+01\t\tElapsed time per epoch = 0.005508\n",
      "Epoch: 2000/3999\t\tCost = 1.784787e+01\t\tElapsed time per epoch = 0.004512\n",
      "Epoch: 2100/3999\t\tCost = 1.317734e+01\t\tElapsed time per epoch = 0.004259\n",
      "Epoch: 2200/3999\t\tCost = 1.228901e+01\t\tElapsed time per epoch = 0.004683\n",
      "Epoch: 2300/3999\t\tCost = 2.814686e+01\t\tElapsed time per epoch = 0.005204\n",
      "Epoch: 2400/3999\t\tCost = 1.094465e+01\t\tElapsed time per epoch = 0.005196\n",
      "Epoch: 2500/3999\t\tCost = 1.082224e+01\t\tElapsed time per epoch = 0.005154\n",
      "Epoch: 2600/3999\t\tCost = 5.297274e+01\t\tElapsed time per epoch = 0.005106\n",
      "Epoch: 2700/3999\t\tCost = 9.423450e+00\t\tElapsed time per epoch = 0.004470\n",
      "Epoch: 2800/3999\t\tCost = 9.075178e+00\t\tElapsed time per epoch = 0.004827\n",
      "Epoch: 2900/3999\t\tCost = 8.898375e+00\t\tElapsed time per epoch = 0.004588\n",
      "Epoch: 3000/3999\t\tCost = 8.372871e+00\t\tElapsed time per epoch = 0.004873\n",
      "Epoch: 3100/3999\t\tCost = 8.156164e+00\t\tElapsed time per epoch = 0.005124\n",
      "Epoch: 3200/3999\t\tCost = 7.860277e+00\t\tElapsed time per epoch = 0.005021\n",
      "Epoch: 3300/3999\t\tCost = 7.587243e+00\t\tElapsed time per epoch = 0.006020\n",
      "Epoch: 3400/3999\t\tCost = 8.611190e+00\t\tElapsed time per epoch = 0.004332\n",
      "Epoch: 3500/3999\t\tCost = 8.136537e+01\t\tElapsed time per epoch = 0.004355\n",
      "Epoch: 3600/3999\t\tCost = 6.956483e+00\t\tElapsed time per epoch = 0.004831\n",
      "Epoch: 3700/3999\t\tCost = 6.810569e+00\t\tElapsed time per epoch = 0.004429\n",
      "Epoch: 3800/3999\t\tCost = 6.712303e+00\t\tElapsed time per epoch = 0.005055\n",
      "Epoch: 3900/3999\t\tCost = 6.445768e+00\t\tElapsed time per epoch = 0.004371\n",
      "Total elapsed time: 19.717491\n",
      "Average elapsed time per epoch: 0.004929\n"
     ]
    }
   ],
   "source": [
    "costHistory = np.zeros(epochs)\n",
    "\n",
    "start = time.perf_counter()\n",
    "start0 = start\n",
    "for epoch in range(epochs):\n",
    "    # predict displacements\n",
    "    uPred = getDisplacements(modelU, x, uB, L)\n",
    "    uBPred = getDisplacements(modelU, xB, uB, L)\n",
    "    wPred = getTestFunctions(modelW, x, uB, L)  # modelW(x)\n",
    "    wBPred = getTestFunctions(modelW, x, uB, L)  # modelW(xB)\n",
    "\n",
    "    costHistory[epoch] = getCostFunction(\n",
    "        x, xB, uPred, uBPred, wPred, wBPred, lambda x: E(x) * A(x), distLoad, uB\n",
    "    ).detach()\n",
    "\n",
    "    def closure():\n",
    "        optimizer.zero_grad()\n",
    "        uPred = getDisplacements(modelU, x, uB, L)\n",
    "        uBPred = getDisplacements(modelU, xB, uB, L)\n",
    "        wPred = getTestFunctions(modelW, x, uB, L)  # modelW(x)\n",
    "        cost = getCostFunction(\n",
    "            x, xB, uPred, uBPred, wPred, wBPred, lambda x: E(x) * A(x), distLoad, uB\n",
    "        )\n",
    "        cost.backward(retain_graph=True)\n",
    "        if modelW.parameters() != None:\n",
    "            for i in range(len(list(modelW.parameters()))):\n",
    "                list(modelW.parameters())[i].grad = (\n",
    "                    -list(modelW.parameters())[i].grad * 1e0\n",
    "                )  # maximization with regard to test function, gradients can be scaled\n",
    "        return cost\n",
    "\n",
    "    optimizer.step(closure)\n",
    "\n",
    "    if epoch % 100 == 0:\n",
    "        elapsedTime = (time.perf_counter() - start) / 100\n",
    "        string = \"Epoch: {}/{}\\t\\tCost = {:2e}\\t\\tElapsed time per epoch = {:2f}\"\n",
    "        # Format string and print\n",
    "        print(string.format(epoch, epochs - 1, costHistory[epoch], elapsedTime))\n",
    "        start = time.perf_counter()\n",
    "elapsedTime = time.perf_counter() - start0\n",
    "string = \"Total elapsed time: {:2f}\\nAverage elapsed time per epoch: {:2f}\"\n",
    "print(string.format(elapsedTime, elapsedTime / epochs))"
   ]
  },
  {
   "cell_type": "markdown",
   "id": "42e63a9d-ea31-4930-90bb-b429637ca35c",
   "metadata": {},
   "source": [
    "## Post-processing"
   ]
  },
  {
   "cell_type": "markdown",
   "id": "44b677c7-9d31-4451-8562-8aa347e04726",
   "metadata": {},
   "source": [
    "**training history**"
   ]
  },
  {
   "cell_type": "code",
   "execution_count": 25,
   "id": "77a6c235-0210-40aa-a4d4-b93afc51989f",
   "metadata": {
    "ExecuteTime": {
     "end_time": "2024-02-01T08:14:31.411634078Z",
     "start_time": "2024-02-01T08:14:31.151420508Z"
    }
   },
   "outputs": [
    {
     "data": {
      "image/png": "[encoded data removed]",
      "text/plain": [
       "<Figure size 640x480 with 1 Axes>"
      ]
     },
     "metadata": {},
     "output_type": "display_data"
    }
   ],
   "source": [
    "fig, ax = plt.subplots()\n",
    "ax.set_xlabel(\"Epochs\")\n",
    "ax.set_ylabel(\"Cost function $C$\")\n",
    "ax.set_yscale(\"log\")\n",
    "\n",
    "ax.plot(costHistory, \"k\", linewidth=2, label=\"Cost $C$\")\n",
    "\n",
    "ax.grid()\n",
    "ax.legend()\n",
    "fig.tight_layout()\n",
    "plt.show()"
   ]
  },
  {
   "cell_type": "markdown",
   "id": "954f6de0-2ef2-4c1d-bad3-714c954ac14f",
   "metadata": {},
   "source": [
    "**displacement prediction**"
   ]
  },
  {
   "cell_type": "code",
   "execution_count": 26,
   "id": "5cd55fa0-2d9e-4e79-be43-3f4164db12ae",
   "metadata": {
    "ExecuteTime": {
     "end_time": "2024-02-01T08:14:31.578470Z",
     "start_time": "2024-02-01T08:14:31.414871116Z"
    }
   },
   "outputs": [
    {
     "name": "stderr",
     "output_type": "stream",
     "text": [
      "/tmp/xpython_148290/16767099.py:3: DeprecationWarning: __array_wrap__ must accept context and return_scalar arguments (positionally) in the future. (Deprecated NumPy 2.0)\n",
      "  uAnalytic = lambda x: (1.0 - np.cos(3.0 * np.pi * x))\n"
     ]
    },
    {
     "data": {
      "image/png": "[encoded data removed]",
      "text/plain": [
       "<Figure size 640x480 with 1 Axes>"
      ]
     },
     "metadata": {},
     "output_type": "display_data"
    }
   ],
   "source": [
    "xTest = torch.linspace(0, L, 1000).unsqueeze(1)\n",
    "uPredTest = getDisplacements(modelU, xTest, uB, L).detach()\n",
    "uPred = getDisplacements(modelU, x, uB, L).detach()\n",
    "\n",
    "fig, ax = plt.subplots()\n",
    "ax.set_xlabel(\"$x$\")\n",
    "ax.set_ylabel(\"Displacement $u$\")\n",
    "\n",
    "ax.plot(xTest, uAnalytic(xTest), \"gray\", linewidth=2, label=\"Analytical solution\")\n",
    "ax.plot(xTest, uPredTest, \"k:\", linewidth=2, label=\"Prediction\")\n",
    "ax.plot(x.detach(), uPred, \"rs\", markersize=6, label=\"Collocation points\")\n",
    "\n",
    "ax.grid()\n",
    "ax.legend()\n",
    "fig.tight_layout()\n",
    "plt.show()"
   ]
  }
 ],
 "metadata": {
  "kernelspec": {
   "display_name": "Python . (XPython)",
   "language": "python",
   "name": "xpython"
  },
  "language_info": {
   "file_extension": ".py",
   "mimetype": "text/x-python",
   "name": "python",
   "version": "3.12.9"
  }
 },
 "nbformat": 4,
 "nbformat_minor": 5
}
