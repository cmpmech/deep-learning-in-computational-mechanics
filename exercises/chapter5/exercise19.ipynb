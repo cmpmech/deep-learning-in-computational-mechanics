{
 "cells": [
  {
   "cell_type": "markdown",
   "id": "13ba11a8-9964-4b7e-b262-8b631b887188",
   "metadata": {},
   "source": [
    "# Exercise 19 - Deep Energy Method for a Plate in Membrane Action\n",
    "### Task\n",
    "1. Implement the physics-informed loss for a two-dimensional plate in membrane action as `getLossTerms`\n",
    "2. Solve the problem by executing the training loop\n",
    "3. Introduce a more complex geometry through the indicator `alpha`. To this end, modify the function `getLossTerms`\n",
    "4. Modify the indicator with the function `getIndicator` to provide a indicator that is one everywhere except at a centered circle with radius 0.2\n",
    "\n",
    "### Learning goals\n",
    "- Familiarize yourself with the deep energy method in a two-dimensional framework\n",
    "- Understand the idea behind embedded domain methods (that discretize geometries through indicator functions instead of boundary conforming meshes/collocation points)"
   ]
  },
  {
   "cell_type": "markdown",
   "id": "04fc65ef-fdb0-409a-8b58-6ee22a3a38db",
   "metadata": {},
   "source": [
    "**import libraries & set seed**"
   ]
  },
  {
   "cell_type": "code",
   "execution_count": null,
   "id": "4dfeb949-ac58-4b07-9687-c41064b91f0c",
   "metadata": {
    "ExecuteTime": {
     "end_time": "2024-02-01T11:01:17.044534806Z",
     "start_time": "2024-02-01T11:01:15.989343082Z"
    }
   },
   "outputs": [],
   "source": [
    "import numpy as np\n",
    "import torch\n",
    "from torch.autograd import grad\n",
    "import time\n",
    "import matplotlib.pyplot as plt"
   ]
  },
  {
   "cell_type": "code",
   "execution_count": null,
   "id": "ab338c73",
   "metadata": {},
   "outputs": [],
   "source": [
    "torch.manual_seed(2)"
   ]
  },
  {
   "cell_type": "markdown",
   "id": "a287a8dc-3ef0-490c-a549-a4c06474f8b9",
   "metadata": {},
   "source": [
    "## Utilities"
   ]
  },
  {
   "cell_type": "markdown",
   "id": "3837a3c0-c7e6-4750-94d6-07b83721493f",
   "metadata": {},
   "source": [
    "**gradient computation with automatic differentiation**"
   ]
  },
  {
   "cell_type": "code",
   "execution_count": null,
   "id": "9d9ff7cc-b51d-4a65-b314-06d55506104a",
   "metadata": {
    "ExecuteTime": {
     "end_time": "2024-02-01T11:01:17.045040323Z",
     "start_time": "2024-02-01T11:01:17.044361613Z"
    }
   },
   "outputs": [],
   "source": [
    "def getDerivative(y, x, n):\n",
    "    if n == 0:\n",
    "        return y\n",
    "    else:\n",
    "        dy_dx = grad(y, x, torch.ones(x.shape), create_graph=True, retain_graph=True)[0]\n",
    "        return getDerivative(dy_dx, x, n - 1)"
   ]
  },
  {
   "cell_type": "markdown",
   "id": "3351b4bd-8953-4816-87ac-fd5abb029b75",
   "metadata": {},
   "source": [
    "**neural network**"
   ]
  },
  {
   "cell_type": "code",
   "execution_count": null,
   "id": "01fa82fc-8100-4a35-9709-9f3ff1272515",
   "metadata": {
    "ExecuteTime": {
     "end_time": "2024-02-01T11:01:17.045383617Z",
     "start_time": "2024-02-01T11:01:17.044541012Z"
    }
   },
   "outputs": [],
   "source": [
    "class NN(torch.nn.Module):\n",
    "    def __init__(\n",
    "            self,\n",
    "            inputDimension,\n",
    "            hiddenDimensions,\n",
    "            outputDimension,\n",
    "            activationFunction=torch.nn.Tanh(),\n",
    "    ):\n",
    "        super().__init__()\n",
    "\n",
    "        modules = []\n",
    "\n",
    "        modules.append(torch.nn.Linear(inputDimension, hiddenDimensions[0]))\n",
    "        modules.append(activationFunction)\n",
    "        for i in range(len(hiddenDimensions) - 1):\n",
    "            modules.append(\n",
    "                torch.nn.Linear(hiddenDimensions[i], hiddenDimensions[i + 1])\n",
    "            )\n",
    "            modules.append(activationFunction)\n",
    "        modules.append(torch.nn.Linear(hiddenDimensions[-1], outputDimension))\n",
    "\n",
    "        self.model = torch.nn.Sequential(*modules)\n",
    "\n",
    "    def forward(self, x):\n",
    "        u = self.model(x)\n",
    "        return u"
   ]
  },
  {
   "cell_type": "markdown",
   "id": "21022e9800868b18",
   "metadata": {},
   "source": [
    "**grid creation**"
   ]
  },
  {
   "cell_type": "code",
   "execution_count": null,
   "id": "e86ed635f1d54280",
   "metadata": {
    "ExecuteTime": {
     "end_time": "2024-02-01T11:01:17.045942872Z",
     "start_time": "2024-02-01T11:01:17.044643539Z"
    }
   },
   "outputs": [],
   "source": [
    "def getGrid(Lx, Ly, Nx, Ny):\n",
    "    x = torch.linspace(0, Lx, Nx)\n",
    "    y = torch.linspace(0, Ly, Ny)\n",
    "    x, y = torch.meshgrid(x, y, indexing=\"ij\")\n",
    "    x.requires_grad = True\n",
    "    y.requires_grad = True\n",
    "    input = torch.cat((x.reshape(-1, 1), y.reshape(-1, 1)), 1)\n",
    "    return x, y, input"
   ]
  },
  {
   "cell_type": "markdown",
   "id": "ac280a6c-0742-4bf8-b6f2-0995b3680079",
   "metadata": {},
   "source": [
    "## PINN helper functions"
   ]
  },
  {
   "cell_type": "markdown",
   "id": "f551c1ad-ef82-4af5-bc7c-658fb6d16913",
   "metadata": {},
   "source": [
    "**displacement computation**\n",
    "$$\\hat{\\boldsymbol{u}}=(\\hat{u},\\hat{v})^\\intercal=F_{NN}(x)$$"
   ]
  },
  {
   "cell_type": "code",
   "execution_count": null,
   "id": "21eda658-51ba-47bc-a7ff-ed2bb47c4c42",
   "metadata": {
    "ExecuteTime": {
     "end_time": "2024-02-01T11:01:17.046268515Z",
     "start_time": "2024-02-01T11:01:17.044716729Z"
    }
   },
   "outputs": [],
   "source": [
    "def getDisplacements(model, x, strongEnforcementx, strongEnforcementy):\n",
    "    u = model(x)\n",
    "    ux = strongEnforcementx(u[:, 0], x[:, 0], x[:, 1]).unsqueeze(1)\n",
    "    uy = strongEnforcementy(u[:, 1], x[:, 0], x[:, 1]).unsqueeze(1)\n",
    "    u = torch.cat((ux, uy), 1)\n",
    "    return u  # model(x)"
   ]
  },
  {
   "cell_type": "markdown",
   "id": "1a05d0fe9ea322d1",
   "metadata": {},
   "source": [
    "**strain computation**\n",
    "$$\\boldsymbol{\\varepsilon}=\\begin{pmatrix}\n",
    "\\frac{\\partial u}{\\partial x}\\\\\n",
    "\\frac{\\partial v}{\\partial y}\\\\\n",
    "\\frac{1}{2}(\\frac{\\partial u}{\\partial y} + \\frac{\\partial v}{\\partial x})\n",
    "\\end{pmatrix}\n",
    "$$"
   ]
  },
  {
   "cell_type": "code",
   "execution_count": null,
   "id": "c0300ee04811642e",
   "metadata": {
    "ExecuteTime": {
     "end_time": "2024-02-01T11:01:17.046886957Z",
     "start_time": "2024-02-01T11:01:17.044786983Z"
    }
   },
   "outputs": [],
   "source": [
    "def getStrains(u, x, y, Nx, Ny):\n",
    "    strain = torch.zeros((3, Nx, Ny))\n",
    "    strain[0] = getDerivative(u[:, 0].reshape(Nx, Ny), x, 1)\n",
    "    strain[1] = getDerivative(u[:, 1].reshape(Nx, Ny), y, 1)\n",
    "    strain[2] = 0.5 * (\n",
    "            getDerivative(u[:, 0].reshape(Nx, Ny), y, 1)\n",
    "            + getDerivative(u[:, 1].reshape(Nx, Ny), x, 1)\n",
    "    )\n",
    "    return strain"
   ]
  },
  {
   "cell_type": "markdown",
   "id": "b9999f25-b7e7-42fa-a1bd-4824a0a32fa3",
   "metadata": {},
   "source": [
    "**loss term computation**\n",
    "\n",
    "stress $$\\boldsymbol{\\sigma}=\\boldsymbol{C}\\boldsymbol{\\varepsilon}$$\n",
    "\n",
    "internal energy $$\\Pi_i = \\frac{1}{2} \\int_{\\Omega} \\boldsymbol{\\varepsilon}\\cdot \\boldsymbol{\\sigma} d\\Omega$$\n",
    "\n",
    "external energy (assuming homogeneous Neumann boundary conditions) $$\\Pi_e = -\\int_{\\Omega}\\boldsymbol{p}\\cdot\\boldsymbol{u}d\\Omega$$"
   ]
  },
  {
   "cell_type": "code",
   "execution_count": null,
   "id": "1b1e36d4-ee7e-4450-8c50-a4ba4fd101e5",
   "metadata": {
    "ExecuteTime": {
     "end_time": "2024-02-01T11:01:17.047246193Z",
     "start_time": "2024-02-01T11:01:17.044893508Z"
    }
   },
   "outputs": [],
   "source": [
    "def getLossTerms(x, y, u, Nx, Ny, Lx, Ly, C, force, alpha):\n",
    "    raise NotImplementedError()  # your code goes here\n",
    "    # return internalEnergy, externalEnergy"
   ]
  },
  {
   "cell_type": "markdown",
   "id": "9d4e7265-83d4-4be6-b5d2-018649c32b21",
   "metadata": {},
   "source": [
    "## Problem setup"
   ]
  },
  {
   "cell_type": "markdown",
   "id": "2957569f-3de2-43dd-9b11-3221bf3d04b9",
   "metadata": {},
   "source": [
    "**physical parameters**"
   ]
  },
  {
   "cell_type": "code",
   "execution_count": null,
   "id": "f7459465-221f-43d6-8c9f-0d7ff6938496",
   "metadata": {
    "ExecuteTime": {
     "end_time": "2024-02-01T11:01:17.056363505Z",
     "start_time": "2024-02-01T11:01:17.044977498Z"
    }
   },
   "outputs": [],
   "source": [
    "# Problem data\n",
    "Lx = 1\n",
    "Ly = 1\n",
    "\n",
    "E = 1.0\n",
    "nu = 0.3\n",
    "C = torch.zeros((3, 3))\n",
    "C[0, 0] = 1\n",
    "C[0, 1] = nu\n",
    "C[1, 0] = nu\n",
    "C[1, 1] = 1\n",
    "C[2, 2] = 1 - nu\n",
    "C *= E / (1 - nu ** 2)\n",
    "\n",
    "# Neumann boundary condition on right edge\n",
    "force = 1\n",
    "\n",
    "# Dirichlet boundary conditions through strong enforcement\n",
    "strongEnforcementx = lambda u, x, y: x * u\n",
    "strongEnforcementy = lambda u, x, y: y * u\n",
    "\n",
    "\n",
    "# Geometry through indicator\n",
    "def getIndicator(x, y):\n",
    "    alpha = torch.ones_like(x, dtype=torch.float)\n",
    "    return alpha"
   ]
  },
  {
   "cell_type": "markdown",
   "id": "75f533b6-272e-460a-8355-0850025d400f",
   "metadata": {},
   "source": [
    "**hyperparameters**"
   ]
  },
  {
   "cell_type": "code",
   "execution_count": null,
   "id": "15917078-13cb-4725-9164-cf409ada9530",
   "metadata": {
    "ExecuteTime": {
     "end_time": "2024-02-01T11:01:17.059873614Z",
     "start_time": "2024-02-01T11:01:17.057559623Z"
    }
   },
   "outputs": [],
   "source": [
    "Nx = 20  # number of collocation points in x\n",
    "Ny = 20  # number of collocation points in y\n",
    "hiddenDimensions = [20, 20, 20]\n",
    "activationFunction = torch.nn.SiLU()\n",
    "\n",
    "epochs = 300  # number of epochs\n",
    "lr = 1e-2  # learning rate"
   ]
  },
  {
   "cell_type": "markdown",
   "id": "b309db2e-aa72-4e72-bbd5-0d1df04fa0bf",
   "metadata": {},
   "source": [
    "**neural network & optimizer setup**"
   ]
  },
  {
   "cell_type": "code",
   "execution_count": null,
   "id": "7e66f248-a5c1-4ca7-8552-41ffbe2e7828",
   "metadata": {
    "ExecuteTime": {
     "end_time": "2024-02-01T11:01:17.066704949Z",
     "start_time": "2024-02-01T11:01:17.059742687Z"
    }
   },
   "outputs": [],
   "source": [
    "model = NN(2, hiddenDimensions, 2, activationFunction)\n",
    "optimizer = torch.optim.Adam(model.parameters(), lr)"
   ]
  },
  {
   "cell_type": "markdown",
   "id": "7c2fddfc-395b-4339-bebe-6558fde75679",
   "metadata": {},
   "source": [
    "**training grid**"
   ]
  },
  {
   "cell_type": "code",
   "execution_count": null,
   "id": "e8609cae-76eb-450e-9b84-75a69068c7a0",
   "metadata": {
    "ExecuteTime": {
     "end_time": "2024-02-01T11:01:17.099614352Z",
     "start_time": "2024-02-01T11:01:17.063966663Z"
    }
   },
   "outputs": [],
   "source": [
    "x, y, input = getGrid(Lx, Ly, Nx, Ny)\n",
    "alpha = getIndicator(x, y)  # geometry through indicator"
   ]
  },
  {
   "cell_type": "markdown",
   "id": "cc5f755e-e923-49d3-954c-bf09cd8ee74d",
   "metadata": {},
   "source": [
    "## Training\n",
    "**cost function**\n",
    "$$C=\\Pi_i+\\Pi_e$$"
   ]
  },
  {
   "cell_type": "code",
   "execution_count": null,
   "id": "77a11a8d5e28c258",
   "metadata": {
    "ExecuteTime": {
     "end_time": "2024-02-01T11:01:18.415536024Z",
     "start_time": "2024-02-01T11:01:17.071023963Z"
    }
   },
   "outputs": [],
   "source": [
    "internalEnergyHistory = np.zeros(epochs)\n",
    "externalEnergyHistory = np.zeros(epochs)\n",
    "costHistory = np.zeros(epochs)\n",
    "start = time.perf_counter()\n",
    "start0 = start\n",
    "for epoch in range(epochs):\n",
    "    optimizer.zero_grad()\n",
    "    uPred = getDisplacements(model, input, strongEnforcementx, strongEnforcementy)\n",
    "\n",
    "    lossTerms = getLossTerms(x, y, uPred, Nx, Ny, Lx, Ly, C, force, alpha)\n",
    "\n",
    "    cost = lossTerms[0] + lossTerms[1]\n",
    "\n",
    "    cost.backward()\n",
    "\n",
    "    optimizer.step()\n",
    "\n",
    "    internalEnergyHistory[epoch] = lossTerms[0].detach()\n",
    "    externalEnergyHistory[epoch] = lossTerms[1].detach()\n",
    "    costHistory[epoch] = lossTerms[0].detach() + lossTerms[1].detach()\n",
    "\n",
    "    if epoch % 50 == 0:\n",
    "        elapsedTime = (time.perf_counter() - start) / 50\n",
    "        string = \"Epoch: {}/{}\\t\\tDifferential equation cost = {:.2e}\\t\\tBoundary condition cost = {:.2e}\\t\\tTotal cost = {:.2e}\\t\\tElapsed time = {:2f}\"\n",
    "        print(\n",
    "            string.format(\n",
    "                epoch,\n",
    "                epochs,\n",
    "                internalEnergyHistory[epoch],\n",
    "                externalEnergyHistory[epoch],\n",
    "                costHistory[epoch],\n",
    "                elapsedTime,\n",
    "            )\n",
    "        )\n",
    "        start = time.perf_counter()\n",
    "elapsedTime = time.perf_counter() - start0\n",
    "string = \"Total elapsed time: {:2f}\\nAverage elapsed time per epoch: {:2f}\"\n",
    "print(string.format(elapsedTime, elapsedTime / epochs))"
   ]
  },
  {
   "cell_type": "markdown",
   "id": "42e63a9d-ea31-4930-90bb-b429637ca35c",
   "metadata": {},
   "source": [
    "## Post-processing"
   ]
  },
  {
   "cell_type": "markdown",
   "id": "44b677c7-9d31-4451-8562-8aa347e04726",
   "metadata": {},
   "source": [
    "**training history**"
   ]
  },
  {
   "cell_type": "code",
   "execution_count": null,
   "id": "77a6c235-0210-40aa-a4d4-b93afc51989f",
   "metadata": {
    "ExecuteTime": {
     "end_time": "2024-02-01T11:01:18.526405831Z",
     "start_time": "2024-02-01T11:01:18.421806293Z"
    }
   },
   "outputs": [],
   "source": [
    "fig, ax = plt.subplots()\n",
    "ax.plot(costHistory, \"k\", label=\"cost\")\n",
    "ax.plot(internalEnergyHistory, \"r:\", label=\"internal energy\")\n",
    "ax.plot(externalEnergyHistory, \"b:\", label=\"external energy\")\n",
    "ax.grid()\n",
    "ax.legend()\n",
    "plt.show()"
   ]
  },
  {
   "cell_type": "markdown",
   "id": "954f6de0-2ef2-4c1d-bad3-714c954ac14f",
   "metadata": {},
   "source": [
    "**displacement prediction**"
   ]
  },
  {
   "cell_type": "code",
   "execution_count": null,
   "id": "5cd55fa0-2d9e-4e79-be43-3f4164db12ae",
   "metadata": {
    "ExecuteTime": {
     "end_time": "2024-02-01T11:01:18.921356728Z",
     "start_time": "2024-02-01T11:01:18.529520201Z"
    }
   },
   "outputs": [],
   "source": [
    "Nx_ = 100\n",
    "Ny_ = 100\n",
    "x_, y_, input_ = getGrid(Lx, Ly, Nx_, Ny_)\n",
    "\n",
    "upred_ = getDisplacements(model, input_, strongEnforcementx, strongEnforcementy)\n",
    "strain_ = getStrains(upred_, x_, y_, Nx_, Ny_)\n",
    "\n",
    "alpha_ = getIndicator(x_, y_)\n",
    "maskedu1pred_ = np.ma.masked_array(upred_[:, 0].detach(), ~(alpha_.detach() > 0)).reshape(Nx_, Ny_)\n",
    "maskedu2pred_ = np.ma.masked_array(upred_[:, 1].detach(), ~(alpha_.detach() > 0)).reshape(Nx_, Ny_)\n",
    "\n",
    "fig, ax = plt.subplots()\n",
    "cp = ax.pcolormesh(\n",
    "    x_.detach(), y_.detach(), maskedu1pred_, cmap=plt.cm.jet, shading='auto'\n",
    ")\n",
    "fig.colorbar(cp)\n",
    "ax.plot(x.detach(), y.detach(), \"k.\")\n",
    "plt.gca().set_aspect(\"equal\", adjustable=\"box\")\n",
    "ax.set_title(\"$u$\")\n",
    "plt.show()\n",
    "\n",
    "fig, ax = plt.subplots()\n",
    "cp = ax.pcolormesh(\n",
    "    x_.detach(), y_.detach(), maskedu2pred_, cmap=plt.cm.jet, shading='auto'\n",
    ")\n",
    "fig.colorbar(cp)\n",
    "ax.plot(x.detach(), y.detach(), \"k.\")\n",
    "plt.gca().set_aspect(\"equal\", adjustable=\"box\")\n",
    "ax.set_title(\"$v$\")\n",
    "plt.show()"
   ]
  }
 ],
 "metadata": {
  "kernelspec": {
   "display_name": "Python 3",
   "language": "python",
   "name": "python3"
  },
  "language_info": {
   "codemirror_mode": {
    "name": "ipython",
    "version": 3
   },
   "file_extension": ".py",
   "mimetype": "text/x-python",
   "name": "python",
   "nbconvert_exporter": "python",
   "pygments_lexer": "ipython3",
   "version": "3.8.10"
  }
 },
 "nbformat": 4,
 "nbformat_minor": 5
}
