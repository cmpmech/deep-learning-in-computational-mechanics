{
 "cells": [
  {
   "cell_type": "markdown",
   "id": "f91a922eeaf007c6",
   "metadata": {},
   "source": [
    "# Exercise 21 - Variations of the Ansatz Space\n",
    "### Task\n",
    "Compare the deep energy method, FE-interpolated neural networks, and HiDeNN with and without automatic differentiation. Select the corresponding method with `method`. Can you reproduce the results from Table 5.2?\n",
    "\n",
    "### Learning goals\n",
    "- Understand the difference between the deep energy method, FE-intepolated neural networks, and HiDeNN (theory & implementation)\n",
    "- Understand the problems and benefits associated with correspondingly neural network and linear ansatz'"
   ]
  },
  {
   "cell_type": "code",
   "execution_count": null,
   "id": "3ceee23bea87f55e",
   "metadata": {
    "ExecuteTime": {
     "end_time": "2024-02-01T11:19:26.757280388Z",
     "start_time": "2024-02-01T11:19:25.391140276Z"
    }
   },
   "outputs": [],
   "source": [
    "import numpy as np\n",
    "import torch\n",
    "from torch.autograd import grad\n",
    "import time\n",
    "import matplotlib.pyplot as plt"
   ]
  },
  {
   "cell_type": "code",
   "execution_count": null,
   "id": "3e2ee024ee8c7077",
   "metadata": {
    "ExecuteTime": {
     "end_time": "2024-02-01T11:19:26.760248208Z",
     "start_time": "2024-02-01T11:19:26.757633551Z"
    }
   },
   "outputs": [],
   "source": [
    "torch.manual_seed(2)"
   ]
  },
  {
   "cell_type": "markdown",
   "id": "1aec03d8f74c376d",
   "metadata": {},
   "source": [
    "## Method selection"
   ]
  },
  {
   "cell_type": "code",
   "execution_count": null,
   "id": "55dfdfcbc06d17ea",
   "metadata": {},
   "outputs": [],
   "source": [
    "# method = \"DEM\"\n",
    "# method = \"interpolatedNN\"\n",
    "# method = \"hiDeNN\"\n",
    "method = \"hiDeNNWithoutAD\""
   ]
  },
  {
   "cell_type": "markdown",
   "id": "f185c16180139a9a",
   "metadata": {},
   "source": [
    "## Utilities"
   ]
  },
  {
   "cell_type": "markdown",
   "id": "be5d5a7ab992dcf",
   "metadata": {},
   "source": [
    "**gradient computation with automatic differentiation**"
   ]
  },
  {
   "cell_type": "code",
   "execution_count": null,
   "id": "e0943fae91de7dae",
   "metadata": {
    "ExecuteTime": {
     "end_time": "2024-02-01T11:19:26.766540924Z",
     "start_time": "2024-02-01T11:19:26.761779242Z"
    }
   },
   "outputs": [],
   "source": [
    "def getDerivative(y, x, n):\n",
    "    \"\"\"Compute the nth order derivative of y = f(x) with respect to x.\"\"\"\n",
    "\n",
    "    if n == 0:\n",
    "        return y\n",
    "    else:\n",
    "        dy_dx = grad(y, x, torch.ones(x.shape), create_graph=True, retain_graph=True)[0]\n",
    "        return getDerivative(dy_dx, x, n - 1)"
   ]
  },
  {
   "cell_type": "markdown",
   "id": "6ed6fec38cfec853",
   "metadata": {},
   "source": [
    "**weight initialization**"
   ]
  },
  {
   "cell_type": "code",
   "execution_count": null,
   "id": "24a0f35095825bd8",
   "metadata": {
    "ExecuteTime": {
     "end_time": "2024-02-01T11:19:26.768603450Z",
     "start_time": "2024-02-01T11:19:26.766321122Z"
    }
   },
   "outputs": [],
   "source": [
    "def initWeights(m):\n",
    "    \"\"\"Initialize weights of neural network with xavier initialization.\"\"\"\n",
    "    if type(m) == torch.nn.Linear:\n",
    "        torch.nn.init.xavier_uniform_(\n",
    "            m.weight, gain=torch.nn.init.calculate_gain(\"tanh\")\n",
    "        )  # adapt if using a different initialization\n",
    "        m.bias.data.fill_(0.0)"
   ]
  },
  {
   "cell_type": "markdown",
   "id": "e853a3879fad6cc3",
   "metadata": {},
   "source": [
    "**neural network**"
   ]
  },
  {
   "cell_type": "code",
   "execution_count": null,
   "id": "7a51f749b82c03bb",
   "metadata": {
    "ExecuteTime": {
     "end_time": "2024-02-01T11:19:26.813697721Z",
     "start_time": "2024-02-01T11:19:26.770809079Z"
    }
   },
   "outputs": [],
   "source": [
    "class NN(torch.nn.Module):\n",
    "    def __init__(\n",
    "            self,\n",
    "            inputDimension,\n",
    "            hiddenDimensions,\n",
    "            outputDimension,\n",
    "            activationFunction=torch.nn.Tanh(),\n",
    "    ):\n",
    "        super().__init__()\n",
    "\n",
    "        modules = []\n",
    "\n",
    "        modules.append(torch.nn.Linear(inputDimension, hiddenDimensions[0]))\n",
    "        modules.append(activationFunction)\n",
    "        for i in range(len(hiddenDimensions) - 1):\n",
    "            modules.append(\n",
    "                torch.nn.Linear(hiddenDimensions[i], hiddenDimensions[i + 1])\n",
    "            )\n",
    "            modules.append(activationFunction)\n",
    "        modules.append(torch.nn.Linear(hiddenDimensions[-1], outputDimension))\n",
    "\n",
    "        self.model = torch.nn.Sequential(*modules)\n",
    "\n",
    "    def forward(self, x):\n",
    "        return self.model(x)"
   ]
  },
  {
   "cell_type": "markdown",
   "id": "7040017c23414d5",
   "metadata": {},
   "source": [
    "**degrees of freedom as (neural network) model**"
   ]
  },
  {
   "cell_type": "code",
   "execution_count": null,
   "id": "f0c6e4d02ac863e8",
   "metadata": {
    "ExecuteTime": {
     "end_time": "2024-02-01T11:19:26.814493488Z",
     "start_time": "2024-02-01T11:19:26.812324150Z"
    }
   },
   "outputs": [],
   "source": [
    "class directDofs(torch.nn.Module):\n",
    "    def __init__(self, numberOfDofs):\n",
    "        super().__init__()\n",
    "\n",
    "        self.dofs = torch.nn.Parameter(torch.zeros(numberOfDofs))\n",
    "\n",
    "    def forward(self, dummy):\n",
    "        return self.dofs * 1"
   ]
  },
  {
   "cell_type": "markdown",
   "id": "a5c43826cf00830d",
   "metadata": {},
   "source": [
    "## Finite element helper functions"
   ]
  },
  {
   "cell_type": "markdown",
   "id": "2847f4c6b9d35c57",
   "metadata": {},
   "source": [
    "**potential energy computation**"
   ]
  },
  {
   "cell_type": "code",
   "execution_count": null,
   "id": "b8d3aba72842b8a4",
   "metadata": {
    "ExecuteTime": {
     "end_time": "2024-02-01T11:19:26.815079156Z",
     "start_time": "2024-02-01T11:19:26.812476213Z"
    }
   },
   "outputs": [],
   "source": [
    "def getPotentialEnergy(\n",
    "        u, dudx, E, A, distLoad, x, integrationWeights, Jacobian\n",
    "):  # assuming homogeneous Neumann boundary conditions\n",
    "    internalEnergy = 0.5 * torch.sum(\n",
    "        dudx ** 2 * E(x) * A(x) * integrationWeights * Jacobian\n",
    "    )\n",
    "    externalEnergy = torch.sum(distLoad(x) * u * integrationWeights * Jacobian)\n",
    "    return internalEnergy, externalEnergy"
   ]
  },
  {
   "cell_type": "markdown",
   "id": "c2d1af3dc4092f5a",
   "metadata": {},
   "source": [
    "**analytic computation of displacement derivative**"
   ]
  },
  {
   "cell_type": "code",
   "execution_count": null,
   "id": "1c04c88ee23d51a6",
   "metadata": {
    "ExecuteTime": {
     "end_time": "2024-02-01T11:19:26.815590776Z",
     "start_time": "2024-02-01T11:19:26.812568499Z"
    }
   },
   "outputs": [],
   "source": [
    "def getFirstDisplacementDerivativeAnalytically(\n",
    "        dofs, dofMaskMatrix, derivedShapeFunctionMatrix, Jacobian\n",
    "):\n",
    "    return (\n",
    "            torch.sum(\n",
    "                derivedShapeFunctionMatrix\n",
    "                * torch.vstack([dofs.squeeze()[mask] for mask in dofMaskMatrix]),\n",
    "                axis=1,\n",
    "            )\n",
    "            / Jacobian\n",
    "    )"
   ]
  },
  {
   "cell_type": "markdown",
   "id": "c210173f0a7b684a",
   "metadata": {},
   "source": [
    "**analytic computation of cost function derivative**"
   ]
  },
  {
   "cell_type": "code",
   "execution_count": null,
   "id": "a5c07990eb717daa",
   "metadata": {
    "ExecuteTime": {
     "end_time": "2024-02-01T11:19:26.816107571Z",
     "start_time": "2024-02-01T11:19:26.812651992Z"
    }
   },
   "outputs": [],
   "source": [
    "def getCostFunctionGradientAnalytically(\n",
    "        dudx,\n",
    "        dofs,\n",
    "        E,\n",
    "        A,\n",
    "        distLoad,\n",
    "        x,\n",
    "        integrationWeights,\n",
    "        derivedShapeFunctionMatrix,\n",
    "        Jacobian,\n",
    "        integrationOrder,\n",
    "):\n",
    "    costGradient = torch.zeros(len(dofs))\n",
    "    # internal Energy # Note that Jacobian cancels out (derivatives and integral)\n",
    "    # left element\n",
    "    costGradient[:-1] += torch.sum(\n",
    "        (\n",
    "                dudx[:]\n",
    "                * derivedShapeFunctionMatrix[:, 0]\n",
    "                * E(x[:])\n",
    "                * A(x[:])\n",
    "                * integrationWeights[:]\n",
    "        ).reshape((-1, integrationOrder)),\n",
    "        axis=1,\n",
    "    )\n",
    "    # right element\n",
    "    costGradient[1:] += torch.sum(\n",
    "        (\n",
    "                dudx[:]\n",
    "                * derivedShapeFunctionMatrix[:, 1]\n",
    "                * E(x[:])\n",
    "                * A(x[:])\n",
    "                * integrationWeights[:]\n",
    "        ).reshape((-1, integrationOrder)),\n",
    "        axis=1,\n",
    "    )\n",
    "    # external Energy # Here the Jacobian does not cancel out\n",
    "    # left element\n",
    "    costGradient[:-1] -= (\n",
    "            torch.sum(\n",
    "                (\n",
    "                        distLoad(x[:]) * shapeFunctionMatrix[:, 0] * integrationWeights[:]\n",
    "                ).reshape((-1, integrationOrder)),\n",
    "                axis=1,\n",
    "            )\n",
    "            * Jacobian\n",
    "    )\n",
    "    # right element\n",
    "    costGradient[1:] -= (\n",
    "            torch.sum(\n",
    "                (\n",
    "                        distLoad(x[:]) * shapeFunctionMatrix[:, 1] * integrationWeights[:]\n",
    "                ).reshape((-1, integrationOrder)),\n",
    "                axis=1,\n",
    "            )\n",
    "            * Jacobian\n",
    "    )\n",
    "    return costGradient"
   ]
  },
  {
   "cell_type": "markdown",
   "id": "523aba4dad0b3004",
   "metadata": {},
   "source": [
    "**integration point determinor**"
   ]
  },
  {
   "cell_type": "code",
   "execution_count": null,
   "id": "cc3753f8572b9ebf",
   "metadata": {
    "ExecuteTime": {
     "end_time": "2024-02-01T11:19:26.816637309Z",
     "start_time": "2024-02-01T11:19:26.812733353Z"
    }
   },
   "outputs": [],
   "source": [
    "def getIntegrationPoints(numberOfElements, nodes, integrationOrder):\n",
    "    gaussPoints, integrationWeights = np.polynomial.legendre.leggauss(integrationOrder)\n",
    "    gaussPoints = torch.from_numpy(gaussPoints)\n",
    "    integrationWeights = torch.from_numpy(integrationWeights)\n",
    "    integrationWeights = torch.tile(integrationWeights, (numberOfElements,))\n",
    "    integrationPoints = torch.zeros(integrationOrder * numberOfElements)\n",
    "    for i in range(numberOfElements):\n",
    "        integrationPoints[i * integrationOrder: (i + 1) * integrationOrder] = (\n",
    "                0.5 * (gaussPoints + 1) * (nodes[i + 1] - nodes[i]) + nodes[i]\n",
    "        )\n",
    "    return integrationPoints, integrationWeights"
   ]
  },
  {
   "cell_type": "markdown",
   "id": "e99d8087aaecd4e4",
   "metadata": {},
   "source": [
    "**shape function computation**"
   ]
  },
  {
   "cell_type": "code",
   "execution_count": null,
   "id": "ee76804bc9945ced",
   "metadata": {
    "ExecuteTime": {
     "end_time": "2024-02-01T11:19:26.817120081Z",
     "start_time": "2024-02-01T11:19:26.812868723Z"
    }
   },
   "outputs": [],
   "source": [
    "def integratedLegendrePolynomials(x, nodes):\n",
    "    xi = 2 * (x - nodes[0]) / (nodes[-1] - nodes[0]) - 1\n",
    "    shapeFunctions = torch.zeros(2)\n",
    "    shapeFunctions[0] = 0.5 * (1 - xi)\n",
    "    shapeFunctions[-1] = 0.5 * (1 + xi)\n",
    "    return shapeFunctions"
   ]
  },
  {
   "cell_type": "markdown",
   "id": "d3d1eab4404ae9c2",
   "metadata": {},
   "source": [
    "**shape function derivative computation**"
   ]
  },
  {
   "cell_type": "code",
   "execution_count": null,
   "id": "36af36656d40e519",
   "metadata": {
    "ExecuteTime": {
     "end_time": "2024-02-01T11:19:26.817590647Z",
     "start_time": "2024-02-01T11:19:26.812930706Z"
    }
   },
   "outputs": [],
   "source": [
    "def derivativesOfIntegratedLegendrePolynomials(x, nodes):\n",
    "    xi = 2 * (x - nodes[0]) / (nodes[-1] - nodes[0]) - 1\n",
    "    shapeFunctions = torch.zeros(2)\n",
    "    shapeFunctions[0] = -0.5\n",
    "    shapeFunctions[-1] = 0.5\n",
    "    return shapeFunctions"
   ]
  },
  {
   "cell_type": "markdown",
   "id": "43f2158beb49a85a",
   "metadata": {},
   "source": [
    "**shape functions assembled in matrix**"
   ]
  },
  {
   "cell_type": "code",
   "execution_count": null,
   "id": "e8fc7ecff0156e02",
   "metadata": {
    "ExecuteTime": {
     "end_time": "2024-02-01T11:19:26.818084791Z",
     "start_time": "2024-02-01T11:19:26.812988724Z"
    }
   },
   "outputs": [],
   "source": [
    "def getShapeFunctionMatrix(x, nodes, numberOfElements, L):\n",
    "    shapeFunctionMatrix = torch.zeros((len(x), 2))\n",
    "    derivedShapeFunctionMatrix = torch.zeros((len(x), 2))\n",
    "    dofMaskMatrix = torch.zeros((len(x), numberOfElements + 1), dtype=bool)\n",
    "\n",
    "    for i in range(len(x)):\n",
    "        elementIndex = torch.searchsorted(nodes, x[i], side=\"right\") - 1\n",
    "        # check right-most entry\n",
    "        if x[i] == L:\n",
    "            elementIndex = numberOfElements - 1  # last point on last element\n",
    "\n",
    "        shapeFunctionMatrix[i, :] = integratedLegendrePolynomials(\n",
    "            x[i], nodes[elementIndex: (elementIndex + 2)]\n",
    "        )\n",
    "        dofMaskMatrix[i, elementIndex: (elementIndex + 2)] = True\n",
    "        derivedShapeFunctionMatrix[i, :] = derivativesOfIntegratedLegendrePolynomials(\n",
    "            x[i], nodes[elementIndex: (elementIndex + 2)]\n",
    "        )\n",
    "\n",
    "    return shapeFunctionMatrix, derivedShapeFunctionMatrix, dofMaskMatrix"
   ]
  },
  {
   "cell_type": "markdown",
   "id": "1cc5537def0a6bc0",
   "metadata": {},
   "source": [
    "## Problem setup"
   ]
  },
  {
   "cell_type": "code",
   "execution_count": null,
   "id": "e32edc71878132c9",
   "metadata": {
    "ExecuteTime": {
     "end_time": "2024-02-01T11:19:26.866392290Z",
     "start_time": "2024-02-01T11:19:26.813053106Z"
    }
   },
   "outputs": [],
   "source": [
    "# analytial solution\n",
    "uAnalytic = lambda x: (1.0 - np.cos(3.0 * np.pi * x))\n",
    "analyticPotentialEnergy = 0.5 * 116.959701987868 - 86.329173615\n",
    "\n",
    "# problem data\n",
    "E = lambda x: 1.0\n",
    "A = lambda x: x ** 2 + 1.0\n",
    "L = 3.0 / 2.0\n",
    "bcMask = [[0, -1], torch.tensor([0.0, 1.0])]\n",
    "strongEnforcement = lambda u, x: u * x * (L - x) + x / L * 1.0\n",
    "distLoad = lambda x: -6 * x * np.pi * torch.sin(3 * np.pi * x) - 9 * (\n",
    "        x ** 2 + 1\n",
    ") * np.pi ** 2 * torch.cos(3 * np.pi * x)"
   ]
  },
  {
   "cell_type": "markdown",
   "id": "a052ca822700abcc",
   "metadata": {},
   "source": [
    "**hyperparameters**"
   ]
  },
  {
   "cell_type": "code",
   "execution_count": null,
   "id": "973c3c3b6c0a83f2",
   "metadata": {
    "ExecuteTime": {
     "end_time": "2024-02-01T11:19:26.867620824Z",
     "start_time": "2024-02-01T11:19:26.856453002Z"
    }
   },
   "outputs": [],
   "source": [
    "if method == \"DEM\":\n",
    "    lr = 5e-3\n",
    "    epochs = 1000\n",
    "    hiddenDimensions = [100]\n",
    "    activationFunction = (\n",
    "        torch.nn.Tanh()\n",
    "    )  # if this is changed, also adapt the initialization\n",
    "elif method == \"interpolatedNN\":\n",
    "    lr = 2e-3  # 8e-3 #1e-2\n",
    "    epochs = 400\n",
    "    hiddenDimensions = [50, 50, 50]  # [50, 50]\n",
    "    activationFunction = torch.nn.ReLU()\n",
    "elif method == \"hiDeNN\" or method == \"hiDeNNWithoutAD\":\n",
    "    lr = 1e0\n",
    "    epochs = 100\n",
    "# if you increase number of elements, increase epochs and decrease learning rate, e.g., lr = 1e-2, epochs = 1000"
   ]
  },
  {
   "cell_type": "markdown",
   "id": "ef8c177d4578204f",
   "metadata": {},
   "source": [
    "**finite element parameters**"
   ]
  },
  {
   "cell_type": "code",
   "execution_count": null,
   "id": "a0144b8bb603c4f7",
   "metadata": {
    "ExecuteTime": {
     "end_time": "2024-02-01T11:19:26.868113905Z",
     "start_time": "2024-02-01T11:19:26.856535598Z"
    }
   },
   "outputs": [],
   "source": [
    "integrationOrder = 2\n",
    "\n",
    "numberOfElements = 30\n",
    "elementLength = L / numberOfElements\n",
    "Jacobian = 0.5 * elementLength\n",
    "nodes = torch.linspace(0, L, numberOfElements + 1)  # uniformly distributed weights\n",
    "integrationPoints, integrationWeights = getIntegrationPoints(\n",
    "    numberOfElements, nodes, integrationOrder\n",
    ")\n",
    "x = integrationPoints\n",
    "x.requires_grad = True"
   ]
  },
  {
   "cell_type": "markdown",
   "id": "d561d2833d69ea36",
   "metadata": {},
   "source": [
    "**training setup**"
   ]
  },
  {
   "cell_type": "code",
   "execution_count": null,
   "id": "5337d0a5f3c6fb36",
   "metadata": {
    "ExecuteTime": {
     "end_time": "2024-02-01T11:19:26.868599337Z",
     "start_time": "2024-02-01T11:19:26.856604015Z"
    }
   },
   "outputs": [],
   "source": [
    "if method == \"DEM\" or method == \"interpolatedNN\":\n",
    "    model = NN(1, hiddenDimensions, 1, activationFunction)\n",
    "    if method == \"DEM\":\n",
    "        model.apply(initWeights)\n",
    "elif method == \"hiDeNN\" or method == \"hiDeNNWithoutAD\":\n",
    "    model = directDofs(numberOfElements + 1)\n",
    "\n",
    "shapeFunctionMatrix, derivedShapeFunctionMatrix, dofMaskMatrix = getShapeFunctionMatrix(\n",
    "    x, nodes, numberOfElements, L\n",
    ")  # TODO change x to integrationPoints\n",
    "optimizer = torch.optim.Adam(model.parameters(), lr)"
   ]
  },
  {
   "cell_type": "markdown",
   "id": "64eab75104262747",
   "metadata": {},
   "source": [
    "## Training"
   ]
  },
  {
   "cell_type": "code",
   "execution_count": null,
   "id": "bc5c3f121d5d5d73",
   "metadata": {
    "ExecuteTime": {
     "end_time": "2024-02-01T11:19:27.049242408Z",
     "start_time": "2024-02-01T11:19:26.864629750Z"
    }
   },
   "outputs": [],
   "source": [
    "costHistory = np.zeros(epochs)\n",
    "start0 = time.perf_counter()\n",
    "start = time.perf_counter()\n",
    "for epoch in range(epochs):\n",
    "    optimizer.zero_grad()\n",
    "\n",
    "    dofs = model(nodes.unsqueeze(1)).squeeze()\n",
    "    # enforce boundary conditions\n",
    "    dofs[bcMask[0]] = bcMask[1]\n",
    "\n",
    "    if method == \"DEM\":\n",
    "        uPred = strongEnforcement(model(x.unsqueeze(1)).squeeze(), x)\n",
    "    elif (\n",
    "            method == \"interpolatedNN\" or method == \"hiDeNN\" or method == \"hiDeNNWithoutAD\"\n",
    "    ):\n",
    "        uPred = torch.sum(\n",
    "            shapeFunctionMatrix\n",
    "            * torch.vstack([dofs.squeeze()[mask] for mask in dofMaskMatrix]),\n",
    "            axis=1,\n",
    "        )\n",
    "\n",
    "    if method == \"DEM\" or method == \"interpolatedNN\" or method == \"hiDeNN\":\n",
    "        dudxPred = getDerivative(uPred, x, 1)\n",
    "    elif method == \"hiDeNNWithoutAD\":\n",
    "        dudxPred = getFirstDisplacementDerivativeAnalytically(\n",
    "            dofs, dofMaskMatrix, derivedShapeFunctionMatrix, Jacobian\n",
    "        )\n",
    "\n",
    "    internalEnergy, externalEnergy = getPotentialEnergy(\n",
    "        uPred, dudxPred, E, A, distLoad, x, integrationWeights, Jacobian\n",
    "    )\n",
    "\n",
    "    cost = internalEnergy - externalEnergy\n",
    "    costHistory[epoch] = cost.detach()\n",
    "\n",
    "    if method == \"DEM\" or method == \"interpolatedNN\" or method == \"hiDeNN\":\n",
    "        cost.backward(retain_graph=True)\n",
    "        # gradient stored in dofs.grad\n",
    "    elif method == \"hiDeNNWithoutAD\":\n",
    "        costGradient = getCostFunctionGradientAnalytically(\n",
    "            dudxPred,\n",
    "            dofs,\n",
    "            E,\n",
    "            A,\n",
    "            distLoad,\n",
    "            x,\n",
    "            integrationWeights,\n",
    "            derivedShapeFunctionMatrix,\n",
    "            Jacobian,\n",
    "            integrationOrder,\n",
    "        )\n",
    "        model.dofs.grad = costGradient\n",
    "\n",
    "    optimizer.step()\n",
    "\n",
    "    if epoch % 10 == 0:\n",
    "        elapsedTime = (time.perf_counter() - start) / 10.0\n",
    "        string = \"Epoch: {}/{}\\t\\tCost = {:.2f}\\t\\tElapsed time = {:2f}\"\n",
    "        # Format string and print\n",
    "        print(string.format(epoch, epochs - 1, costHistory[epoch], elapsedTime))\n",
    "        start = time.perf_counter()\n",
    "\n",
    "elapsedTime = time.perf_counter() - start0\n",
    "string = \"Total elapsed time: {:2f} s\\nAverage elapsed time per epoch: {:.2e} s\"\n",
    "print(string.format(elapsedTime, elapsedTime / epochs))"
   ]
  },
  {
   "cell_type": "markdown",
   "id": "97c4c39fac2000",
   "metadata": {},
   "source": [
    "## Post-processing"
   ]
  },
  {
   "cell_type": "markdown",
   "id": "6756e654e0649cd8",
   "metadata": {},
   "source": [
    "**training history**"
   ]
  },
  {
   "cell_type": "code",
   "execution_count": null,
   "id": "ab0b1202e7124f3c",
   "metadata": {
    "ExecuteTime": {
     "end_time": "2024-02-01T11:19:27.140746816Z",
     "start_time": "2024-02-01T11:19:27.053587877Z"
    }
   },
   "outputs": [],
   "source": [
    "fig, ax = plt.subplots()\n",
    "ax.plot(costHistory, \"k\")\n",
    "ax.grid()\n",
    "plt.show()"
   ]
  },
  {
   "cell_type": "markdown",
   "id": "4e27fc8020f9a5cd",
   "metadata": {},
   "source": [
    "**displacement prediction**"
   ]
  },
  {
   "cell_type": "code",
   "execution_count": null,
   "id": "2f1e49605b8c8803",
   "metadata": {
    "ExecuteTime": {
     "end_time": "2024-02-01T11:19:27.269300995Z",
     "start_time": "2024-02-01T11:19:27.140458099Z"
    }
   },
   "outputs": [],
   "source": [
    "postProcessingGrid = torch.linspace(0, L, 10 * numberOfElements + 1)\n",
    "shapeFunctionMatrix, derivedShapeFunctionMatrix, dofMaskMatrix = getShapeFunctionMatrix(\n",
    "    postProcessingGrid, nodes, numberOfElements, L\n",
    ")\n",
    "\n",
    "if method == \"DEM\":\n",
    "    uPred = strongEnforcement(\n",
    "        model(postProcessingGrid.unsqueeze(1)).squeeze(), postProcessingGrid\n",
    "    )\n",
    "elif method == \"interpolatedNN\" or method == \"hiDeNN\" or method == \"hiDeNNWithoutAD\":\n",
    "    uPred = torch.sum(\n",
    "        shapeFunctionMatrix\n",
    "        * torch.vstack([dofs.squeeze()[mask] for mask in dofMaskMatrix]),\n",
    "        axis=1,\n",
    "    )\n",
    "\n",
    "fig, ax = plt.subplots()\n",
    "ax.plot(postProcessingGrid.detach(), uPred.detach(), \"k\")\n",
    "if method == \"interpolatedNN\" or method == \"hiDeNN\" or method == \"hiDeNNWithoutAD\":\n",
    "    ax.plot(nodes.detach(), dofs.detach(), \"ko\")\n",
    "ax.plot(postProcessingGrid.detach(), uAnalytic(postProcessingGrid.detach()), \"r:\")\n",
    "ax.grid()\n",
    "plt.show()"
   ]
  },
  {
   "cell_type": "code",
   "execution_count": null,
   "id": "9004c08eb9a5521",
   "metadata": {
    "ExecuteTime": {
     "end_time": "2024-02-01T11:20:16.167029637Z",
     "start_time": "2024-02-01T11:20:16.163679761Z"
    }
   },
   "outputs": [],
   "source": [
    "print(\"MSE: {:.2e}\".format(torch.mean((uAnalytic(postProcessingGrid) - uPred) ** 2)))"
   ]
  }
 ],
 "metadata": {
  "kernelspec": {
   "display_name": "Python . (XPython)",
   "language": "python",
   "name": "xpython"
  },
  "language_info": {
   "file_extension": ".py",
   "mimetype": "text/x-python",
   "name": "python",
   "version": "3.12.9"
  }
 },
 "nbformat": 4,
 "nbformat_minor": 5
}
