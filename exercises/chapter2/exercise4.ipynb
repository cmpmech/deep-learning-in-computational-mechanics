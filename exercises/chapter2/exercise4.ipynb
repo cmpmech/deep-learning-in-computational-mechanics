{
 "cells": [
  {
   "cell_type": "markdown",
   "metadata": {},
   "source": [
    "# Exercise 4 - Linear Regression\n",
    "\n",
    "### Task\n",
    "Implement a linear regression model with the provided class structure. \n",
    "Write the following member functions:\n",
    "- the forward prediction\n",
    "- the cost function computation\n",
    "- the gradient computation\n",
    "- the training algorithm \n",
    "\n",
    "### Learning goals\n",
    "- Understand the foundational steps of machine learning by implementing each of the components\n",
    "- Compare with regression using the normal equations"
   ]
  },
  {
   "cell_type": "code",
   "execution_count": null,
   "metadata": {},
   "outputs": [],
   "source": [
    "import numpy as np\n",
    "import matplotlib.pyplot as plt"
   ]
  },
  {
   "cell_type": "markdown",
   "metadata": {},
   "source": [
    "**generate noisy training and test data with an 80/20 split**"
   ]
  },
  {
   "cell_type": "code",
   "execution_count": null,
   "metadata": {},
   "outputs": [],
   "source": [
    "np.random.seed(7654)  # deterministic random seed\n",
    "xTrain = np.random.randn(80)\n",
    "yTrain = 2 * xTrain + 3 + np.random.randn(80)\n",
    "\n",
    "xTest = np.random.randn(20)\n",
    "yTest = 2 * xTest + 3 + np.random.randn(20)"
   ]
  },
  {
   "cell_type": "markdown",
   "metadata": {},
   "source": [
    "**mathematical background for the implementation**\n",
    "model definition in `forward`: $\\hat{y}=wx+b$ \n",
    "\n",
    "cost function: $C(\\boldsymbol{w},b)=\\frac1{m_\\mathcal{D}}\\sum_{i=1}^{m_\\mathcal{D}}(\\tilde{y}_i-(\\boldsymbol{w}^\\mathsf{T}\\tilde{x}_i+b))^2$\n",
    "\n",
    "gradient of weights: $\\frac{\\partial C}{\\partial w} =\\frac{1}{m_{\\mathcal{D}}}\\sum_{i=1}^{m_{\\mathcal{D}}}-2\\tilde{x}_{i}\\left(\\tilde{y}_{i}-(w\\tilde{x}_{i}+b)\\right)$\n",
    "\n",
    "gradient of biases: $\\frac{\\partial C}{\\partial b} =\\frac{1}{m_{\\mathcal{D}}}\\sum_{i=1}^{m_{\\mathcal{D}}}-2\\left(\\tilde{y}_{i}-(w\\tilde{x}_{i}+b)\\right)$\n",
    "\n",
    "training update steps:\n",
    "$w\\leftarrow w-\\alpha\\frac{\\partial C}{\\partial w} \\\\\n",
    "b\\leftarrow b-\\alpha\\frac{\\partial C}{\\partial b}$"
   ]
  },
  {
   "cell_type": "code",
   "execution_count": null,
   "metadata": {},
   "outputs": [],
   "source": [
    "class LinearRegression:\n",
    "    def __init__(self):\n",
    "        self.weight = 0\n",
    "        self.bias = 0\n",
    "\n",
    "    def forward(self, x):\n",
    "        raise NotImplementedError()  # your code goes here\n",
    "        return y\n",
    "\n",
    "    def costFunction(self, x, y):\n",
    "        raise NotImplementedError()  # your code goes here\n",
    "        return cost\n",
    "\n",
    "    def gradient(self, x, y):\n",
    "        raise NotImplementedError()  # your code goes here\n",
    "        return gradientWeight, gradientBias\n",
    "\n",
    "    def train(self, epochs, lr, xTrain, yTrain, xTest, yTest):\n",
    "        for epoch in range(epochs):\n",
    "            raise NotImplementedError()  # your code goes here"
   ]
  },
  {
   "cell_type": "markdown",
   "metadata": {},
   "source": [
    "**model training**"
   ]
  },
  {
   "cell_type": "code",
   "execution_count": null,
   "metadata": {},
   "outputs": [],
   "source": [
    "lr = 1e-1\n",
    "epochs = 100\n",
    "\n",
    "model = LinearRegression()\n",
    "model.train(epochs, lr, xTrain, yTrain, xTest, yTest)"
   ]
  },
  {
   "cell_type": "markdown",
   "metadata": {},
   "source": [
    "**visualize the prediction**"
   ]
  },
  {
   "cell_type": "code",
   "execution_count": null,
   "metadata": {},
   "outputs": [],
   "source": [
    "yTrainPred = model.forward(xTrain)  # not visualized\n",
    "yTestPred = model.forward(xTest)  # not visualized\n",
    "\n",
    "x = np.linspace(np.min(xTest), np.max(xTest), 100)\n",
    "yPred = model.forward(x)\n",
    "\n",
    "fig, ax = plt.subplots(figsize=(12, 6))\n",
    "ax.scatter(xTest, yTest, color=\"r\", label=\"testing data\")\n",
    "ax.scatter(xTrain, yTrain, color=\"k\", label=\"training data\")\n",
    "ax.plot(x, yPred, \"b\", label=\"prediction\")\n",
    "ax.legend()\n",
    "plt.show()"
   ]
  },
  {
   "cell_type": "markdown",
   "metadata": {},
   "source": [
    "**learned model parameters**"
   ]
  },
  {
   "cell_type": "code",
   "execution_count": null,
   "metadata": {},
   "outputs": [],
   "source": [
    "print('model bias, b = ', model.bias)\n",
    "print('model weight, w = ', model.weight)"
   ]
  }
 ],
 "metadata": {
  "kernelspec": {
   "display_name": "Python 3",
   "language": "python",
   "name": "python3"
  },
  "language_info": {
   "codemirror_mode": {
    "name": "ipython",
    "version": 3
   },
   "file_extension": ".py",
   "mimetype": "text/x-python",
   "name": "python",
   "nbconvert_exporter": "python",
   "pygments_lexer": "ipython3",
   "version": "3.8.10"
  }
 },
 "nbformat": 4,
 "nbformat_minor": 4
}
