{
 "cells": [
  {
   "cell_type": "markdown",
   "id": "8ffbf192-4ba9-4aa9-a90a-4974e829bc39",
   "metadata": {},
   "source": [
    "# Exercise 34 (2) - Data-Driven Solver: identify reduced basis\n",
    "### Task\n",
    "Using the generated data, identify a reduced basis via singular value decomposition. Modify the level of truncation for the wave pressure with `uTruncation` and for the wave speed with `cTruncation`. How does the level of truncation affect the reconstructions?  \n",
    "\n",
    "### Learning goals\n",
    "- Understand how to simplify complex datasets via dimensionality reduction methods\n",
    "- Familiarize yourself with the effect of the singular value decomposition's truncation"
   ]
  },
  {
   "cell_type": "code",
   "execution_count": null,
   "id": "21ce013e-5489-4095-8050-bd23f7b9b729",
   "metadata": {
    "ExecuteTime": {
     "end_time": "2024-10-24T05:58:30.644938Z",
     "start_time": "2024-10-24T05:58:30.642360Z"
    },
    "slideshow": {
     "slide_type": ""
    },
    "tags": []
   },
   "outputs": [],
   "source": [
    "import torch\n",
    "import matplotlib.pyplot as plt\n",
    "import pandas as pd\n",
    "import numpy as np\n",
    "from torch.utils.data import DataLoader"
   ]
  },
  {
   "cell_type": "code",
   "execution_count": null,
   "id": "13cf9736",
   "metadata": {},
   "outputs": [],
   "source": [
    "import DataSet"
   ]
  },
  {
   "cell_type": "code",
   "execution_count": null,
   "id": "f9a7b908",
   "metadata": {},
   "outputs": [],
   "source": [
    "torch.manual_seed(2)\n",
    "device = torch.device('cuda' if torch.cuda.is_available() else 'cpu')"
   ]
  },
  {
   "cell_type": "markdown",
   "id": "2b15a3ef45f8dc4e",
   "metadata": {},
   "source": [
    "## Pre-processing"
   ]
  },
  {
   "cell_type": "markdown",
   "id": "dca66bb2",
   "metadata": {},
   "source": [
    "**loading settings of measurements**"
   ]
  },
  {
   "cell_type": "code",
   "execution_count": null,
   "id": "45e9087b",
   "metadata": {},
   "outputs": [],
   "source": [
    "settings = pd.read_csv(\"dataset1DFWI/settings.csv\")\n",
    "dataset = DataSet.FullWaveFormInversionDataset1D(settings, device)\n",
    "datasetTraining, datasetValidation = torch.utils.data.random_split(dataset, [0.9, 0.1],\n",
    "                                                                   generator=torch.Generator().manual_seed(2))"
   ]
  },
  {
   "cell_type": "markdown",
   "id": "533a321e",
   "metadata": {},
   "source": [
    "## Identification of reduced basis"
   ]
  },
  {
   "cell_type": "code",
   "execution_count": null,
   "id": "50c946eb",
   "metadata": {},
   "outputs": [],
   "source": [
    "dataloaderAll = DataLoader(datasetTraining, batch_size=len(datasetTraining))\n",
    "uAll, cAll, _ = next(iter(dataloaderAll))"
   ]
  },
  {
   "cell_type": "markdown",
   "id": "b66a2e5f",
   "metadata": {},
   "source": [
    "## Reduced order identification of encoding"
   ]
  },
  {
   "cell_type": "markdown",
   "id": "85f5ad5c",
   "metadata": {},
   "source": [
    "**truncation level (wave pressure)**"
   ]
  },
  {
   "cell_type": "code",
   "execution_count": null,
   "id": "725e9245",
   "metadata": {},
   "outputs": [],
   "source": [
    "uTruncation = 25"
   ]
  },
  {
   "cell_type": "markdown",
   "id": "396e6524",
   "metadata": {},
   "source": [
    "**truncated basis**"
   ]
  },
  {
   "cell_type": "code",
   "execution_count": null,
   "id": "5310f241",
   "metadata": {},
   "outputs": [],
   "source": [
    "uReshaped = uAll.reshape(-1, uAll.shape[-1])\n",
    "uSVD = torch.svd(uReshaped)\n",
    "Vu = uSVD[2].t()[:uTruncation]\n",
    "\n",
    "torch.save(torch.as_tensor(Vu), \"dataset1DFWI/measurementBasis.pt\")"
   ]
  },
  {
   "cell_type": "markdown",
   "id": "717346d9",
   "metadata": {},
   "source": [
    "## Reduced order identification of decoding"
   ]
  },
  {
   "cell_type": "markdown",
   "id": "3d8df49f",
   "metadata": {},
   "source": [
    "**truncation level (wave speed)**"
   ]
  },
  {
   "cell_type": "code",
   "execution_count": null,
   "id": "fba96c4b",
   "metadata": {},
   "outputs": [],
   "source": [
    "cTruncation = 50"
   ]
  },
  {
   "cell_type": "markdown",
   "id": "59d663ad",
   "metadata": {},
   "source": [
    "**truncated basis**"
   ]
  },
  {
   "cell_type": "code",
   "execution_count": null,
   "id": "23a6337a",
   "metadata": {},
   "outputs": [],
   "source": [
    "cSVD = torch.svd(cAll)\n",
    "Vc = cSVD[2].t()[:cTruncation]\n",
    "\n",
    "torch.save(torch.as_tensor(Vc), \"dataset1DFWI/materialBasis.pt\")"
   ]
  },
  {
   "cell_type": "markdown",
   "id": "48e388b2",
   "metadata": {},
   "source": [
    "## Post-processing"
   ]
  },
  {
   "cell_type": "markdown",
   "id": "d580f551",
   "metadata": {},
   "source": [
    "**SVD coefficients of wave pressure**"
   ]
  },
  {
   "cell_type": "code",
   "execution_count": null,
   "id": "9ff545f2",
   "metadata": {},
   "outputs": [],
   "source": [
    "fig, ax = plt.subplots(figsize=(6, 4))\n",
    "ax.plot([uTruncation, uTruncation], [torch.min(uSVD[1]), torch.max(uSVD[1])], 'r', linewidth=2, label=\"truncation\")\n",
    "ax.plot(uSVD[1], 'k.', label=\"singular values\")\n",
    "ax.set_yscale('log')\n",
    "ax.set_xlabel(\"$n$\")\n",
    "ax.set_ylabel(\"Singular values $\\Sigma_{n}$\")\n",
    "ax.grid()\n",
    "ax.legend()\n",
    "fig.tight_layout()\n",
    "plt.show()"
   ]
  },
  {
   "cell_type": "markdown",
   "id": "ea1579c4",
   "metadata": {},
   "source": [
    "**reconstruction of wave pressure**"
   ]
  },
  {
   "cell_type": "code",
   "execution_count": null,
   "id": "27a53696",
   "metadata": {},
   "outputs": [],
   "source": [
    "t = np.linspace(0, (settings.N[0] + 1) * settings.dt[0], settings.N[0] + 1)\n",
    "i = 200\n",
    "fig, ax = plt.subplots(figsize=(6, 4))\n",
    "ax.plot(t, uReshaped[i], 'k', linewidth=3, label=\"ground truth\")\n",
    "ax.plot(t, (uReshaped[i] @ Vu.t()) @ Vu, 'r:', linewidth=2, label=\"SVD reconstruction\")\n",
    "ax.grid()\n",
    "ax.set_xlabel(\"$t$\")\n",
    "ax.set_ylabel(\"$\\\\tilde{u}(t)$\")\n",
    "ax.legend()\n",
    "fig.tight_layout()\n",
    "plt.show()"
   ]
  },
  {
   "cell_type": "markdown",
   "id": "87e29b1a",
   "metadata": {},
   "source": [
    "**SVD coefficients of wave speed**"
   ]
  },
  {
   "cell_type": "code",
   "execution_count": null,
   "id": "8987a1f0",
   "metadata": {},
   "outputs": [],
   "source": [
    "fig, ax = plt.subplots(figsize=(6, 4))\n",
    "ax.plot([cTruncation, cTruncation], [torch.min(cSVD[1]), torch.max(cSVD[1])], 'r', linewidth=2, label=\"truncation\")\n",
    "ax.plot(cSVD[1], 'k.', label=\"singular values\")\n",
    "ax.set_yscale('log')\n",
    "ax.set_xlabel(\"$n$\")\n",
    "ax.set_ylabel(\"Singular values $\\Sigma_{n}$\")\n",
    "ax.grid()\n",
    "ax.legend(loc=\"best\")\n",
    "fig.tight_layout()\n",
    "plt.show()"
   ]
  },
  {
   "cell_type": "markdown",
   "id": "1c150c21",
   "metadata": {},
   "source": [
    "**reconstruction of wave speed**"
   ]
  },
  {
   "cell_type": "code",
   "execution_count": null,
   "id": "825a70f7",
   "metadata": {},
   "outputs": [],
   "source": [
    "x = np.linspace(0, settings.Lx[0], settings.Nx[0] + 1)\n",
    "i = 20\n",
    "fig, ax = plt.subplots(figsize=(6, 4))\n",
    "ax.plot(x, cAll[i, 1:-1], 'k', linewidth=3, label=\"ground truth\")\n",
    "ax.plot(x, ((cAll[i] @ Vc.t()) @ Vc)[1:-1], 'r:', linewidth=2, label=\"SVD\\nreconstruction\")\n",
    "ax.grid()\n",
    "ax.set_xlabel(\"$x$\")\n",
    "ax.set_ylabel(\"$\\\\tilde{c}(t)$\")\n",
    "ax.legend(loc=\"best\")\n",
    "fig.tight_layout()\n",
    "plt.show()"
   ]
  }
 ],
 "metadata": {
  "kernelspec": {
   "display_name": "aicome",
   "language": "python",
   "name": "python3"
  },
  "language_info": {
   "codemirror_mode": {
    "name": "ipython",
    "version": 3
   },
   "file_extension": ".py",
   "mimetype": "text/x-python",
   "name": "python",
   "nbconvert_exporter": "python",
   "pygments_lexer": "ipython3",
   "version": "3.12.9"
  }
 },
 "nbformat": 4,
 "nbformat_minor": 5
}
