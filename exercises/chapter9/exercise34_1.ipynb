{
 "cells": [
  {
   "cell_type": "markdown",
   "id": "8ffbf192-4ba9-4aa9-a90a-4974e829bc39",
   "metadata": {},
   "source": [
    "# Exercise 34 (1) - Data-Driven Solver: generate a data set\n",
    "### Task\n",
    "Generate a data set with the code below\n",
    "\n",
    "### Learning goals\n",
    "- Familiarize yourself with a data generation pipeline in simulation"
   ]
  },
  {
   "cell_type": "code",
   "execution_count": null,
   "id": "21ce013e-5489-4095-8050-bd23f7b9b729",
   "metadata": {
    "ExecuteTime": {
     "end_time": "2024-10-24T05:58:30.644938Z",
     "start_time": "2024-10-24T05:58:30.642360Z"
    },
    "slideshow": {
     "slide_type": ""
    },
    "tags": []
   },
   "outputs": [],
   "source": [
    "import torch\n",
    "import pandas as pd\n",
    "import numpy as np\n",
    "import time"
   ]
  },
  {
   "cell_type": "code",
   "execution_count": null,
   "id": "f9a7b908",
   "metadata": {},
   "outputs": [],
   "source": [
    "import FiniteDifference"
   ]
  },
  {
   "cell_type": "markdown",
   "id": "2b15a3ef45f8dc4e",
   "metadata": {},
   "source": [
    "## Pre-processing"
   ]
  },
  {
   "cell_type": "markdown",
   "id": "dca66bb2",
   "metadata": {},
   "source": [
    "**loading settings of measurements**"
   ]
  },
  {
   "cell_type": "code",
   "execution_count": null,
   "id": "45e9087b",
   "metadata": {},
   "outputs": [],
   "source": [
    "settings = pd.read_csv(\"dataset1DFWI/settings.csv\")\n",
    "\n",
    "numberOfSamples = settings.numberOfSamples[0]\n",
    "\n",
    "Lx = settings.Lx[0]\n",
    "Nx = settings.Nx[0]\n",
    "dx = Lx / Nx\n",
    "dt = settings.dt[0]\n",
    "N = settings.N[0]\n",
    "c0 = settings.c0[0]"
   ]
  },
  {
   "cell_type": "markdown",
   "id": "c87e0245",
   "metadata": {},
   "source": [
    "**generate grid**"
   ]
  },
  {
   "cell_type": "code",
   "execution_count": null,
   "id": "da40b180",
   "metadata": {},
   "outputs": [],
   "source": [
    "x = np.linspace(0 - dx, Lx + dx, Nx + 3)  # with ghost cells\n",
    "t = np.linspace(0, (N - 1) * dt, N)\n",
    "x_, t_ = np.meshgrid(x, t, indexing='ij')"
   ]
  },
  {
   "cell_type": "markdown",
   "id": "b208c089",
   "metadata": {},
   "source": [
    "**define source**"
   ]
  },
  {
   "cell_type": "code",
   "execution_count": null,
   "id": "04aec0e2",
   "metadata": {},
   "outputs": [],
   "source": [
    "def diracx(x, i):\n",
    "    x = x * 0\n",
    "    x[i] = 1\n",
    "    return x\n",
    "\n",
    "\n",
    "def generateSineBurst(frequency, cycles):\n",
    "    omega = frequency * 2 * np.pi\n",
    "    return lambda t: 1e14 * ((t <= cycles / frequency) & (t > 0)) * np.sin(omega * t) * (\n",
    "        np.sin(omega * t / 2 / cycles)) ** 2\n",
    "\n",
    "\n",
    "frequency = settings.frequency[0]\n",
    "cycles = settings.cycles[0]"
   ]
  },
  {
   "cell_type": "markdown",
   "id": "f45f90b5",
   "metadata": {},
   "source": [
    "**define experiment in terms of source and sensor placement**"
   ]
  },
  {
   "cell_type": "code",
   "execution_count": null,
   "id": "0468aaee",
   "metadata": {},
   "outputs": [],
   "source": [
    "sourcePositions = (1, -2)\n",
    "sensorPositions = (1, -2)"
   ]
  },
  {
   "cell_type": "markdown",
   "id": "e0c3de67",
   "metadata": {},
   "source": [
    "## Data generation"
   ]
  },
  {
   "cell_type": "code",
   "execution_count": null,
   "id": "34c40226",
   "metadata": {},
   "outputs": [],
   "source": [
    "for j in range(numberOfSamples):\n",
    "\n",
    "    minimumSizeOfDefect = 0.01  # in percent\n",
    "    defect = np.random.rand(3)  # uniform distribution in range 0, 1\n",
    "\n",
    "    defect[0] *= Lx * (1 - minimumSizeOfDefect)\n",
    "    defect[1] = defect[0] + np.max([defect[1] * (Lx - defect[0]), Lx * minimumSizeOfDefect])\n",
    "    defect[2] = np.max([defect[2] * c0, 100])\n",
    "\n",
    "    index = (x > defect[0]) & (x < defect[1])\n",
    "    c = x * 0 + c0\n",
    "    c[index] = defect[2]\n",
    "\n",
    "    U = np.zeros((len(sourcePositions), len(sensorPositions), N + 1))\n",
    "\n",
    "    for i in range(len(sourcePositions)):\n",
    "\n",
    "        source = generateSineBurst(frequency, cycles)\n",
    "        f_source = lambda x, t, i: diracx(x, i) * source(t)\n",
    "        f = f_source(x_, t_, sourcePositions[i])[1:-1, :]\n",
    "\n",
    "        u0 = x * 0\n",
    "        u1 = x * 0\n",
    "\n",
    "        start = time.perf_counter()\n",
    "        u = FiniteDifference.finiteDifference1D(u0.copy(), u1.copy(), f, c, dx, Nx, dt, N)\n",
    "        U[i] = u[sensorPositions, :]\n",
    "        end = time.perf_counter()\n",
    "        if (j % 100 == 0) & (i == 0):\n",
    "            print(\"Elapased time of sample {:d}: {:2f} ms\".format(j, (end - start) * 1000))\n",
    "\n",
    "        if j == 0:\n",
    "            pd.DataFrame(f).to_hdf(\"dataset1DFWI/source\" + str(i) + \".h5\", key='F', index=False, mode='w', complevel=1)\n",
    "\n",
    "    # export data\n",
    "    torch.save(torch.as_tensor(U).to(torch.float32), \"dataset1DFWI/measurement\" + str(j) + \".pt\")\n",
    "    torch.save(torch.as_tensor(c).to(torch.float32), \"dataset1DFWI/material\" + str(j) + \".pt\")\n",
    "    torch.save(torch.as_tensor(defect).to(torch.float32), \"dataset1DFWI/materialCoefficients\" + str(j) + \".pt\")"
   ]
  }
 ],
 "metadata": {
  "kernelspec": {
   "display_name": "aicome",
   "language": "python",
   "name": "python3"
  },
  "language_info": {
   "codemirror_mode": {
    "name": "ipython",
    "version": 3
   },
   "file_extension": ".py",
   "mimetype": "text/x-python",
   "name": "python",
   "nbconvert_exporter": "python",
   "pygments_lexer": "ipython3",
   "version": "3.12.9"
  }
 },
 "nbformat": 4,
 "nbformat_minor": 5
}
