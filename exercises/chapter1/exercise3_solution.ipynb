{
 "cells": [
  {
   "cell_type": "markdown",
   "metadata": {},
   "source": [
    "# Exercise 3 Solution - Stress Fields from Perceptrons"
   ]
  },
  {
   "cell_type": "markdown",
   "metadata": {},
   "source": [
    "### Task\n",
    "For a one-dimensional displacement field, calculate the strains and stresses using PyTorch\n",
    "\n",
    "### Learning goals\n",
    "- Use PyTorch syntax to create a (one-to-one) linear function (a perceptron)\n",
    "- Work with a fundamental example of differentiation with PyTorch \n",
    "- Draw an analogy between the neural network model and kinematic relations from mechanics"
   ]
  },
  {
   "cell_type": "code",
   "execution_count": null,
   "metadata": {},
   "outputs": [],
   "source": [
    "import torch\n",
    "import matplotlib.pyplot as plt\n",
    "from torch.autograd import grad"
   ]
  },
  {
   "cell_type": "markdown",
   "metadata": {},
   "source": [
    "**perceptron parameters and perceptron definition**\n",
    "\n",
    "displacement field definition\n",
    "$$u(x)=wx+b$$\n",
    "\n",
    "linear transormation defined by `torch.nn.Linear(1,1)`\n",
    "$$y=xW^T+b$$"
   ]
  },
  {
   "cell_type": "code",
   "execution_count": null,
   "metadata": {},
   "outputs": [],
   "source": [
    "w = 200.0E-6\n",
    "b = 1.0\n",
    "model = torch.nn.Linear(1, 1)  # input dimension, output dimension\n",
    "\n",
    "#overwrite random weights initially assigned\n",
    "model.weight.data = torch.tensor([[w]])\n",
    "model.weight.bias = torch.tensor([b])"
   ]
  },
  {
   "cell_type": "markdown",
   "metadata": {},
   "source": [
    "**spatial grid creation**"
   ]
  },
  {
   "cell_type": "code",
   "execution_count": null,
   "metadata": {},
   "outputs": [],
   "source": [
    "nx = 5\n",
    "x = torch.linspace(-1, 1, nx, requires_grad=True).unsqueeze(1)"
   ]
  },
  {
   "cell_type": "markdown",
   "metadata": {},
   "source": [
    "**sample displacement field at points on x vector**"
   ]
  },
  {
   "cell_type": "code",
   "execution_count": null,
   "metadata": {},
   "outputs": [],
   "source": [
    "d = model(x)"
   ]
  },
  {
   "cell_type": "markdown",
   "metadata": {},
   "source": [
    "**gradient computation of modeled displacement field**"
   ]
  },
  {
   "cell_type": "code",
   "execution_count": null,
   "metadata": {},
   "outputs": [],
   "source": [
    "dd_dx = grad(d, x, torch.ones_like(x), create_graph=True, retain_graph=True)[0]"
   ]
  },
  {
   "cell_type": "markdown",
   "metadata": {},
   "source": [
    "**strain computation** $$\\varepsilon = \\nabla u$$"
   ]
  },
  {
   "cell_type": "code",
   "execution_count": null,
   "metadata": {},
   "outputs": [],
   "source": [
    "eps = dd_dx"
   ]
  },
  {
   "cell_type": "markdown",
   "metadata": {},
   "source": [
    "**stress computation**\n",
    "$$\\sigma = E \\varepsilon$$"
   ]
  },
  {
   "cell_type": "code",
   "execution_count": null,
   "metadata": {},
   "outputs": [],
   "source": [
    "E = 210000.0\n",
    "sig = E * eps"
   ]
  },
  {
   "cell_type": "markdown",
   "metadata": {
    "jupyter": {
     "outputs_hidden": false
    }
   },
   "source": [
    "**visualize displacement, strain and stress across spatial grid**"
   ]
  },
  {
   "cell_type": "code",
   "execution_count": null,
   "metadata": {
    "jupyter": {
     "outputs_hidden": false
    }
   },
   "outputs": [],
   "source": [
    "fig, ax = plt.subplots(1, 3, figsize=(15, 5))\n",
    "ax[0].plot(x.detach(), d.detach(), \"k\")\n",
    "ax[0].set_title(\"$u$\")\n",
    "ax[1].plot(x.detach(), eps.detach(), \"k\")\n",
    "ax[1].set_title(\"$\\\\varepsilon$\")\n",
    "ax[2].plot(x.detach(), sig.detach(), \"k\")\n",
    "ax[2].set_title(\"$\\\\sigma$\")\n",
    "fig.tight_layout()\n",
    "plt.show()"
   ]
  }
 ],
 "metadata": {
  "kernelspec": {
   "display_name": "Python 3",
   "language": "python",
   "name": "python3"
  },
  "language_info": {
   "codemirror_mode": {
    "name": "ipython",
    "version": 3
   },
   "file_extension": ".py",
   "mimetype": "text/x-python",
   "name": "python",
   "nbconvert_exporter": "python",
   "pygments_lexer": "ipython3",
   "version": "3.8.10"
  }
 },
 "nbformat": 4,
 "nbformat_minor": 4
}
