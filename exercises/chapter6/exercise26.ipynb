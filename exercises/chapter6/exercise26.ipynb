{
 "cells": [
  {
   "cell_type": "markdown",
   "id": "ce482b8bf733cac3",
   "metadata": {},
   "source": [
    "# Exercise 26 - SINDy for Structural Dynamics"
   ]
  },
  {
   "cell_type": "markdown",
   "id": "8ffbf192-4ba9-4aa9-a90a-4974e829bc39",
   "metadata": {},
   "source": [
    "### Task\n",
    "Adapt the model parameters and the right-hand side of the system of differential equations\n",
    "\n",
    "### Learning goals\n",
    "- Understand how to apply SINDy to systems of ordinary differential equations (from structural dynamics)\n",
    "- Experiment with SINDy"
   ]
  },
  {
   "cell_type": "code",
   "execution_count": null,
   "id": "21ce013e-5489-4095-8050-bd23f7b9b729",
   "metadata": {
    "slideshow": {
     "slide_type": ""
    },
    "tags": []
   },
   "outputs": [],
   "source": [
    "import numpy as np\n",
    "import matplotlib.pyplot as plt\n",
    "from matplotlib.pyplot import cm\n",
    "from scipy.integrate import solve_ivp"
   ]
  },
  {
   "cell_type": "markdown",
   "id": "0270ce4d",
   "metadata": {},
   "source": [
    "## Sequential thresholded least squares algorithm"
   ]
  },
  {
   "cell_type": "markdown",
   "id": "1049d76f",
   "metadata": {},
   "source": [
    "**solves sparse regression**\n",
    "$$\\dot{\\boldsymbol{X}}=\\boldsymbol{\\Theta}(\\boldsymbol{X})\\boldsymbol{\\Xi}$$"
   ]
  },
  {
   "cell_type": "code",
   "execution_count": null,
   "id": "feb0a357",
   "metadata": {},
   "outputs": [],
   "source": [
    "def sequentialThresholdedLeastSquares(theta, dXdt, k=10, tol=1e-1):\n",
    "    Xi = np.linalg.lstsq(theta, dXdt, rcond=None)[0]\n",
    "    for i in range(k):\n",
    "        smallindices = abs(Xi) < tol\n",
    "        Xi[smallindices] = 0\n",
    "        for j in range(len(dXdt[1])):\n",
    "            bigindices = ~smallindices[:, j]\n",
    "            Xi[bigindices, j] = np.linalg.lstsq(theta[:, bigindices], dXdt[:, j], rcond=None)[0]\n",
    "    return Xi"
   ]
  },
  {
   "cell_type": "markdown",
   "id": "9d6313bf",
   "metadata": {},
   "source": [
    "## SINDy class"
   ]
  },
  {
   "cell_type": "code",
   "execution_count": null,
   "id": "beda48b9",
   "metadata": {},
   "outputs": [],
   "source": [
    "class SINDy:\n",
    "    \"\"\"A class used for sparse system identification of nonlinear dynamical systems\n",
    "       Implementation adapted from https://arxiv.org/pdf/1509.03580.pdf\"\"\"\n",
    "\n",
    "    def __init__(self, X, dXdt, theta):\n",
    "        self.Xi = None\n",
    "        self.X = X\n",
    "        self.dXdt = dXdt\n",
    "        self.theta = theta\n",
    "\n",
    "    def solveSINDy(self, k=10, tol=1e-1):\n",
    "        self.Xi = sequentialThresholdedLeastSquares(self.theta(np.transpose(self.X)), self.dXdt, k, tol)\n",
    "        return self.Xi\n",
    "\n",
    "    def solveODEs(self, interval, initialValues):\n",
    "        if self.Xi is not None:\n",
    "            def rhs(t, y):\n",
    "                return np.dot(self.theta(y), self.Xi)\n",
    "\n",
    "            solution = solve_ivp(rhs, interval, initialValues, method='LSODA', rtol=1e-6, min_step=1e-3, max_step=1e-3)\n",
    "            return solution.t, solution.y\n",
    "        else:\n",
    "            return 1, 1"
   ]
  },
  {
   "cell_type": "markdown",
   "id": "b7fdef72",
   "metadata": {},
   "source": [
    "## Pre-processing"
   ]
  },
  {
   "cell_type": "markdown",
   "id": "40f80066",
   "metadata": {},
   "source": [
    "**SINDy hyperparameters (for sequential thresholded least squares)**"
   ]
  },
  {
   "cell_type": "code",
   "execution_count": null,
   "id": "d6c64782",
   "metadata": {},
   "outputs": [],
   "source": [
    "tol = 1e-2\n",
    "k = 10"
   ]
  },
  {
   "cell_type": "markdown",
   "id": "d6dc496b",
   "metadata": {},
   "source": [
    "**multi-dof system parameters** (adapt)"
   ]
  },
  {
   "cell_type": "code",
   "execution_count": null,
   "id": "cb56d23d",
   "metadata": {},
   "outputs": [],
   "source": [
    "k1 = lambda x: x\n",
    "k2 = lambda x: 2 * x ** 3\n",
    "m1 = 5\n",
    "m2 = 2\n",
    "d1 = lambda x: x\n",
    "d2 = lambda x: 1"
   ]
  },
  {
   "cell_type": "markdown",
   "id": "255d83b2",
   "metadata": {},
   "source": [
    "## Data generation "
   ]
  },
  {
   "attachments": {
    "image.png": {
     "image/png": "[encoded data removed]"
    }
   },
   "cell_type": "markdown",
   "id": "7cdb64ec",
   "metadata": {},
   "source": [
    "**definition of the right hand sides** (adapt)\n",
    "\n",
    "![image.png](attachment:image.png)"
   ]
  },
  {
   "cell_type": "code",
   "execution_count": null,
   "id": "62cdd2bd",
   "metadata": {},
   "outputs": [],
   "source": [
    "def rhs(t, y):\n",
    "    return [y[1],\n",
    "            -(k1(y[0]) + d1(y[1]) + k2(y[0] - y[2]) + d2(y[1] - y[3])) / m1,\n",
    "            y[3],\n",
    "            -(k2(y[2] - y[0]) + d2(y[3] - y[1])) / m2]"
   ]
  },
  {
   "cell_type": "markdown",
   "id": "85a63875",
   "metadata": {},
   "source": [
    "**solve system of ordinary differential equations**"
   ]
  },
  {
   "cell_type": "code",
   "execution_count": null,
   "id": "08af3ca8",
   "metadata": {},
   "outputs": [],
   "source": [
    "solution = solve_ivp(rhs, (0, 50), [1, 0, 0, 0], method='LSODA', rtol=1e-6, min_step=1e-3, max_step=1e-3)"
   ]
  },
  {
   "cell_type": "markdown",
   "id": "27846f15",
   "metadata": {},
   "source": [
    "**sampling parameters for snapshot matrix**"
   ]
  },
  {
   "cell_type": "code",
   "execution_count": null,
   "id": "fa9f75bc",
   "metadata": {},
   "outputs": [],
   "source": [
    "everyn = 20\n",
    "cap = 400"
   ]
  },
  {
   "cell_type": "markdown",
   "id": "3b62c2b9",
   "metadata": {},
   "source": [
    "**snapshot matrix**"
   ]
  },
  {
   "cell_type": "code",
   "execution_count": null,
   "id": "9719d2e5",
   "metadata": {},
   "outputs": [],
   "source": [
    "t = np.expand_dims(solution.t[::everyn], axis=1)\n",
    "\n",
    "X = np.transpose(solution.y[:, ::everyn])\n",
    "dXdt = (X[1:] - X[:-1]) / ((t[1:] - t[:-1]))  #forward difference\n",
    "t = t[:-1]\n",
    "X = X[:-1]\n",
    "\n",
    "t = t[:cap]\n",
    "X = X[:cap]\n",
    "dXdt = dXdt[:cap]"
   ]
  },
  {
   "cell_type": "markdown",
   "id": "154007e2",
   "metadata": {},
   "source": [
    "**library of candidate functions**"
   ]
  },
  {
   "cell_type": "code",
   "execution_count": null,
   "id": "362ae552",
   "metadata": {},
   "outputs": [],
   "source": [
    "theta = lambda X: np.transpose(np.array([X[0] * 0 + 1,\n",
    "                                         X[0], X[1], X[2], X[3],\n",
    "                                         X[0] ** 2, X[2] ** 2, X[0] * X[2],\n",
    "                                         X[0] ** 3, X[2] ** 3,\n",
    "                                         X[0] ** 2 * X[2], X[0] * X[2] ** 2]))"
   ]
  },
  {
   "cell_type": "markdown",
   "id": "9eb1364a",
   "metadata": {},
   "source": [
    "## SINDy"
   ]
  },
  {
   "cell_type": "code",
   "execution_count": null,
   "id": "d2c98b99",
   "metadata": {},
   "outputs": [],
   "source": [
    "model = SINDy(X, dXdt, theta)\n",
    "Xi = model.solveSINDy(k, tol)\n",
    "print(Xi)"
   ]
  },
  {
   "cell_type": "markdown",
   "id": "7cf94eac",
   "metadata": {},
   "source": [
    "## Post-processing"
   ]
  },
  {
   "cell_type": "markdown",
   "id": "8c018c66",
   "metadata": {},
   "source": [
    "**post-processing helper (plots trajectory based on identified system)**"
   ]
  },
  {
   "cell_type": "code",
   "execution_count": null,
   "id": "143e56e3",
   "metadata": {},
   "outputs": [],
   "source": [
    "def plotEstimate(tSample, XSample, tEstimate, XEstimate):\n",
    "    color = ['b', 'r', 'gray', 'silver']\n",
    "\n",
    "    # Set up plot\n",
    "    fig, ax = plt.subplots()\n",
    "\n",
    "    # Plot data\n",
    "    for i in range(len(XSample[0])):\n",
    "        plt.plot(tSample, XSample[:, i], 'o', color=color[i])\n",
    "        plt.plot(tEstimate, XEstimate[i], '-', color=color[i], label='$y_{}$'.format(i + 1))\n",
    "\n",
    "    l1 = plt.Line2D([0], [0], marker='o', lw=0, color='k', label='sample', markersize=12)\n",
    "    l2 = plt.Line2D([0], [0], color='k', label='prediction')\n",
    "    handles, labels = plt.gca().get_legend_handles_labels()\n",
    "    handles.extend([l1, l2])\n",
    "\n",
    "    ax.set_xlabel(\"$t$\")\n",
    "    ax.set_ylabel(\"$y$\")\n",
    "    ax.legend()\n",
    "    fig.tight_layout()\n",
    "    plt.show()"
   ]
  },
  {
   "cell_type": "markdown",
   "id": "8dd1ff01",
   "metadata": {},
   "source": [
    "**predict trajectories by solving system of ordinary differential equations**"
   ]
  },
  {
   "cell_type": "code",
   "execution_count": null,
   "id": "7edad159",
   "metadata": {},
   "outputs": [],
   "source": [
    "tEstimate, XEstimate = model.solveODEs((0, 20), [X[0, 0], X[0, 1], X[0, 2], X[0, 3]])"
   ]
  },
  {
   "cell_type": "markdown",
   "id": "b0065af4",
   "metadata": {},
   "source": [
    "**predicted trajectories**"
   ]
  },
  {
   "cell_type": "code",
   "execution_count": null,
   "id": "07237b89",
   "metadata": {},
   "outputs": [],
   "source": [
    "plotEstimate(t, X, tEstimate, XEstimate)"
   ]
  }
 ],
 "metadata": {
  "kernelspec": {
   "display_name": "aicome",
   "language": "python",
   "name": "python3"
  },
  "language_info": {
   "codemirror_mode": {
    "name": "ipython",
    "version": 3
   },
   "file_extension": ".py",
   "mimetype": "text/x-python",
   "name": "python",
   "nbconvert_exporter": "python",
   "pygments_lexer": "ipython3",
   "version": "3.12.9"
  }
 },
 "nbformat": 4,
 "nbformat_minor": 5
}
