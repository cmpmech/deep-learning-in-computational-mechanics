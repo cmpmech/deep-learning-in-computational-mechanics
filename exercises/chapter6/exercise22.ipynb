{
 "cells": [
  {
   "cell_type": "markdown",
   "id": "ce482b8bf733cac3",
   "metadata": {},
   "source": [
    "# Exercise 22 - Singular Value Decomposition"
   ]
  },
  {
   "cell_type": "markdown",
   "id": "8ffbf192-4ba9-4aa9-a90a-4974e829bc39",
   "metadata": {},
   "source": [
    "### Task\n",
    "Implement the singular value decomposition as function and apply it to three examples\n",
    "\n",
    "### Learning goals\n",
    "- Understand and be able to compute a singular value decomposition\n",
    "- Familiarize yourself with its effect on linear dependent matrices"
   ]
  },
  {
   "cell_type": "code",
   "execution_count": null,
   "id": "21ce013e-5489-4095-8050-bd23f7b9b729",
   "metadata": {
    "slideshow": {
     "slide_type": ""
    },
    "tags": []
   },
   "outputs": [],
   "source": [
    "import numpy as np\n",
    "from PIL import Image\n",
    "import matplotlib.pyplot as plt"
   ]
  },
  {
   "cell_type": "markdown",
   "id": "51e1a105",
   "metadata": {},
   "source": [
    "## Singular value decomposition implementation"
   ]
  },
  {
   "cell_type": "markdown",
   "id": "c379760a",
   "metadata": {},
   "source": [
    "decompose as\n",
    "$$\\boldsymbol{A}=\\boldsymbol{U}\\boldsymbol{\\Sigma}\\boldsymbol{V}^\\intercal$$\n",
    "such that \n",
    "$$\\boldsymbol{U}^\\intercal \\boldsymbol{U}=\\boldsymbol{I}$$\n",
    "$$\\boldsymbol{V}^\\intercal \\boldsymbol{V}=\\boldsymbol{I}$$\n",
    "and\n",
    "$$\\boldsymbol{\\Sigma}=\\boldsymbol{U}^\\intercal \\boldsymbol{A} \\boldsymbol{V}$$\n",
    "\n",
    "hint: use `np.linalg.eig`"
   ]
  },
  {
   "cell_type": "code",
   "execution_count": null,
   "id": "d4fb7e6a",
   "metadata": {},
   "outputs": [],
   "source": [
    "def SVD(A):\n",
    "    raise NotImplementedError()  # your code goes here\n",
    "    return U, S, V"
   ]
  },
  {
   "cell_type": "markdown",
   "id": "9e8b50ba",
   "metadata": {},
   "source": [
    "## Singular value decomposition"
   ]
  },
  {
   "cell_type": "markdown",
   "id": "4d15df3b",
   "metadata": {},
   "source": [
    "### example 1 (3x3) matrix"
   ]
  },
  {
   "cell_type": "markdown",
   "id": "673ad2e1",
   "metadata": {},
   "source": [
    "**decomposition**"
   ]
  },
  {
   "cell_type": "code",
   "execution_count": null,
   "id": "5153bf31",
   "metadata": {},
   "outputs": [],
   "source": [
    "A = np.array([[3, 2, 2], [2, 3, -2]])\n",
    "U, S, V = SVD(A)"
   ]
  },
  {
   "cell_type": "markdown",
   "id": "1d67d9b4",
   "metadata": {},
   "source": [
    "**reconstruction**"
   ]
  },
  {
   "cell_type": "code",
   "execution_count": null,
   "id": "e2d72ebf",
   "metadata": {},
   "outputs": [],
   "source": [
    "AReconstruct = np.dot(np.dot(U, S), np.transpose(V))\n",
    "print(AReconstruct)"
   ]
  },
  {
   "cell_type": "markdown",
   "id": "b8d54fd2",
   "metadata": {},
   "source": [
    "### example 2 (5x5) matrix (with linear dependencies)"
   ]
  },
  {
   "cell_type": "markdown",
   "id": "4dc3274d",
   "metadata": {},
   "source": [
    "**decomposition**"
   ]
  },
  {
   "cell_type": "code",
   "execution_count": null,
   "id": "6602a713",
   "metadata": {},
   "outputs": [],
   "source": [
    "A = np.array([[1, 0, 0, 2, 0],\n",
    "              [0, 0, 0, 0, 1],\n",
    "              [3, 4, 1, 1, 2],\n",
    "              [2, 0, 0, 4, 0],\n",
    "              [0, 0, 0, 0, 2]])\n",
    "U, S, V = SVD(A)"
   ]
  },
  {
   "cell_type": "code",
   "execution_count": null,
   "id": "1ba3161d",
   "metadata": {},
   "outputs": [],
   "source": [
    "print(S)"
   ]
  },
  {
   "cell_type": "markdown",
   "id": "b89a57e6",
   "metadata": {},
   "source": [
    "### example 3 image as matrix"
   ]
  },
  {
   "cell_type": "markdown",
   "id": "6cd33097",
   "metadata": {},
   "source": [
    "**load image**"
   ]
  },
  {
   "cell_type": "code",
   "execution_count": null,
   "id": "7fe2ab87",
   "metadata": {},
   "outputs": [],
   "source": [
    "img = Image.open('GuntherSmall.jpg')\n",
    "data = np.asarray(img)"
   ]
  },
  {
   "cell_type": "markdown",
   "id": "42a4178f",
   "metadata": {},
   "source": [
    "**convert image to grayscale image**"
   ]
  },
  {
   "cell_type": "code",
   "execution_count": null,
   "id": "edca5f84",
   "metadata": {},
   "outputs": [],
   "source": [
    "rgb_weights = [0.2989, 0.5870, 0.1140]\n",
    "data = np.dot(data[..., :3], rgb_weights)"
   ]
  },
  {
   "cell_type": "markdown",
   "id": "d2a55c84",
   "metadata": {},
   "source": [
    "**singular value decomposition**"
   ]
  },
  {
   "cell_type": "code",
   "execution_count": null,
   "id": "1269f64d",
   "metadata": {},
   "outputs": [],
   "source": [
    "U, S, V = np.linalg.svd(data)"
   ]
  },
  {
   "cell_type": "markdown",
   "id": "1b122a27",
   "metadata": {},
   "source": [
    "**truncation**"
   ]
  },
  {
   "cell_type": "code",
   "execution_count": null,
   "id": "c585ec28",
   "metadata": {},
   "outputs": [],
   "source": [
    "r = 20  # truncation level\n",
    "dataReconstruct = U[:, :r] @ np.diag(S[:r]) @ V[:r, :]\n",
    "\n",
    "n = data.shape[0]\n",
    "m = data.shape[1]\n",
    "\n",
    "print(f\"Original image size: {n} x {m} = {n*m} pixels\")\n",
    "print(f\"Reduced image size: {n} x {r} + {r} x {r} + {m} x {r} = {n*r + r*r + m*r} pixels\")\n",
    "print(f\"Compressed size: {(100*(n*r + r*r + m*r) / (n*m)):.2f}%\")"
   ]
  },
  {
   "cell_type": "markdown",
   "id": "b1256215",
   "metadata": {},
   "source": [
    "### post-processing"
   ]
  },
  {
   "cell_type": "markdown",
   "id": "d4bedcd9",
   "metadata": {},
   "source": [
    "**post-processing helper (plots a gray-scale image)**"
   ]
  },
  {
   "cell_type": "code",
   "execution_count": null,
   "id": "e6457ab6",
   "metadata": {},
   "outputs": [],
   "source": [
    "def plotImage(data):\n",
    "    print(data.shape)\n",
    "    fig, ax = plt.subplots()\n",
    "    ax.get_xaxis().set_visible(False)\n",
    "    ax.get_yaxis().set_visible(False)\n",
    "    ax.imshow(data, cmap='gray')\n",
    "    fig.tight_layout()\n",
    "    plt.show()"
   ]
  },
  {
   "cell_type": "markdown",
   "id": "81721cb1",
   "metadata": {},
   "source": [
    "**reconstruction of truncated data**"
   ]
  },
  {
   "cell_type": "code",
   "execution_count": null,
   "id": "ab5439a7",
   "metadata": {},
   "outputs": [],
   "source": [
    "plotImage(dataReconstruct)"
   ]
  },
  {
   "cell_type": "markdown",
   "id": "f2def001",
   "metadata": {},
   "source": [
    "**singular values**"
   ]
  },
  {
   "cell_type": "code",
   "execution_count": null,
   "id": "85cc46ac",
   "metadata": {},
   "outputs": [],
   "source": [
    "print(f\"Fraction of singular values: {100*np.sum(S[:r]) / np.sum(S):.2f}%\")\n",
    "print(f\"Fraction of energy: {100*np.sum(S[:r]**2) / np.sum(S**2):.2f}%\")\n",
    "\n",
    "fig, ax = plt.subplots()\n",
    "ax.set_yscale('log')\n",
    "ax.plot(S, 'ko')\n",
    "fig.tight_layout()\n",
    "plt.show()"
   ]
  }
 ],
 "metadata": {
  "kernelspec": {
   "display_name": "Python 3",
   "language": "python",
   "name": "python3"
  },
  "language_info": {
   "codemirror_mode": {
    "name": "ipython",
    "version": 3
   },
   "file_extension": ".py",
   "mimetype": "text/x-python",
   "name": "python",
   "nbconvert_exporter": "python",
   "pygments_lexer": "ipython3",
   "version": "3.8.10"
  }
 },
 "nbformat": 4,
 "nbformat_minor": 5
}
