{
 "cells": [
  {
   "cell_type": "markdown",
   "id": "ce482b8bf733cac3",
   "metadata": {},
   "source": [
    "# Exercise 25 Solution - Introduction to SINDy"
   ]
  },
  {
   "cell_type": "markdown",
   "id": "8ffbf192-4ba9-4aa9-a90a-4974e829bc39",
   "metadata": {},
   "source": [
    "### Task\n",
    "Implement the sequential thresholded least squares algorithm and perform SINDy on the herein given example and the example from the book\n",
    "\n",
    "### Learning goals\n",
    "- Familiarize yourself with SINDy\n",
    "- Understand the sequential thresholded least squares algorithm "
   ]
  },
  {
   "cell_type": "code",
   "execution_count": null,
   "id": "21ce013e-5489-4095-8050-bd23f7b9b729",
   "metadata": {
    "scrolled": false,
    "slideshow": {
     "slide_type": ""
    },
    "tags": []
   },
   "outputs": [],
   "source": [
    "import numpy as np\n",
    "import matplotlib.pyplot as plt\n",
    "from matplotlib.pyplot import cm\n",
    "from scipy.integrate import solve_ivp"
   ]
  },
  {
   "cell_type": "markdown",
   "id": "8f5f4d2a",
   "metadata": {},
   "source": [
    "## Sequential thresholded least squares algorithm"
   ]
  },
  {
   "cell_type": "markdown",
   "id": "def99c1a",
   "metadata": {},
   "source": [
    "**solves sparse regression**\n",
    "$$\\dot{\\boldsymbol{X}}=\\boldsymbol{\\Theta}(\\boldsymbol{X})\\boldsymbol{\\Xi}$$"
   ]
  },
  {
   "cell_type": "code",
   "execution_count": null,
   "id": "a58970f9",
   "metadata": {
    "scrolled": false
   },
   "outputs": [],
   "source": [
    "def sequentialThresholdedLeastSquares(theta, dXdt, k=10, tol=1e-1):\n",
    "    Xi = np.linalg.lstsq(theta, dXdt, rcond=None)[0]\n",
    "    for i in range(k):\n",
    "        smallindices = abs(Xi) < tol\n",
    "        Xi[smallindices] = 0\n",
    "        for j in range(len(dXdt[1])):\n",
    "            bigindices = ~smallindices[:, j]\n",
    "            Xi[bigindices, j] = np.linalg.lstsq(theta[:, bigindices], dXdt[:, j], rcond=None)[0]\n",
    "    return Xi"
   ]
  },
  {
   "cell_type": "markdown",
   "id": "5952df49",
   "metadata": {},
   "source": [
    "## SINDy class"
   ]
  },
  {
   "cell_type": "code",
   "execution_count": null,
   "id": "a2b5b921",
   "metadata": {
    "scrolled": false
   },
   "outputs": [],
   "source": [
    "class SINDy:\n",
    "    \"\"\"A class used for sparse system identification of nonlinear dynamical systems\n",
    "       Implementation adapted from https://arxiv.org/pdf/1509.03580.pdf\"\"\"\n",
    "\n",
    "    def __init__(self, X, dXdt, theta):\n",
    "        self.Xi = None\n",
    "        self.X = X\n",
    "        self.dXdt = dXdt\n",
    "        self.theta = theta\n",
    "\n",
    "    def solveSINDy(self, k=10, tol=1e-1):\n",
    "        self.Xi = sequentialThresholdedLeastSquares(self.theta(np.transpose(self.X)), self.dXdt, k, tol)\n",
    "        return self.Xi\n",
    "\n",
    "    def solveODEs(self, interval, initialValues):\n",
    "        if self.Xi is not None:\n",
    "            def rhs(t, y):\n",
    "                return np.dot(self.theta(y), self.Xi)\n",
    "\n",
    "            solution = solve_ivp(rhs, interval, initialValues, method='LSODA', rtol=1e-6, min_step=1e-3, max_step=1e-3)\n",
    "            return solution.t, solution.y\n",
    "        else:\n",
    "            return 1, 1"
   ]
  },
  {
   "cell_type": "markdown",
   "id": "b29518a0",
   "metadata": {},
   "source": [
    "## Pre-processing"
   ]
  },
  {
   "cell_type": "markdown",
   "id": "f34a49c1",
   "metadata": {},
   "source": [
    "**SINDy hyperparameters (for sequential thresholded least squares)**"
   ]
  },
  {
   "cell_type": "code",
   "execution_count": null,
   "id": "e4595eac",
   "metadata": {
    "scrolled": false
   },
   "outputs": [],
   "source": [
    "tol = 1e-2\n",
    "k = 10"
   ]
  },
  {
   "cell_type": "markdown",
   "id": "8c34bd9d",
   "metadata": {},
   "source": [
    "**helpers for sampling of the snapshot matrix**"
   ]
  },
  {
   "cell_type": "code",
   "execution_count": null,
   "id": "3cb8090f",
   "metadata": {
    "scrolled": false
   },
   "outputs": [],
   "source": [
    "t = np.linspace(0, 2 * np.pi, 10)\n",
    "t = np.expand_dims(t, axis=1)"
   ]
  },
  {
   "cell_type": "code",
   "execution_count": null,
   "id": "0c04b097",
   "metadata": {
    "scrolled": false
   },
   "outputs": [],
   "source": [
    "x = np.sin(t) + np.cos(t)\n",
    "y = np.cos(t)\n",
    "dxdt = np.cos(t) - np.sin(t)\n",
    "dydt = -np.sin(t)\n",
    "\n",
    "# case from the exercise\n",
    "#x = np.sin(2*t) \n",
    "#y = 2*np.cos(2*t) - np.sin(2*t)\n",
    "#dxdt = 2*np.cos(2*t)\n",
    "#dydt = -4*np.sin(2*t) - 2*np.cos(2*t)"
   ]
  },
  {
   "cell_type": "markdown",
   "id": "12342b9f",
   "metadata": {},
   "source": [
    "**collect time history for snapshot matrix**"
   ]
  },
  {
   "cell_type": "code",
   "execution_count": null,
   "id": "16f26713",
   "metadata": {
    "scrolled": false
   },
   "outputs": [],
   "source": [
    "X = np.concatenate((x, y), axis=1)\n",
    "dXdt = np.concatenate((dxdt, dydt), axis=1)"
   ]
  },
  {
   "cell_type": "markdown",
   "id": "3e3de5c3",
   "metadata": {},
   "source": [
    "**library of candidate functions**"
   ]
  },
  {
   "cell_type": "code",
   "execution_count": null,
   "id": "2f92ab18",
   "metadata": {
    "scrolled": false
   },
   "outputs": [],
   "source": [
    "theta = lambda X: np.transpose(np.array([X[0] * 0 + 1, X[0], X[1], X[0] ** 2, X[1] ** 2, X[0] * X[1]]))"
   ]
  },
  {
   "cell_type": "markdown",
   "id": "638e6797",
   "metadata": {},
   "source": [
    "## SINDy"
   ]
  },
  {
   "cell_type": "code",
   "execution_count": null,
   "id": "11d75d8e",
   "metadata": {
    "scrolled": false
   },
   "outputs": [],
   "source": [
    "model = SINDy(X, dXdt, theta)\n",
    "Xi = model.solveSINDy(k, tol)\n",
    "print(Xi)"
   ]
  },
  {
   "cell_type": "markdown",
   "id": "23a2e504",
   "metadata": {},
   "source": [
    "**prediction**"
   ]
  },
  {
   "cell_type": "code",
   "execution_count": null,
   "id": "957fac2a",
   "metadata": {
    "scrolled": false
   },
   "outputs": [],
   "source": [
    "tEstimate, XEstimate = model.solveODEs((0, 2 * np.pi), [x[0, 0], y[0, 0]])"
   ]
  },
  {
   "cell_type": "markdown",
   "id": "b7b04447",
   "metadata": {},
   "source": [
    "## Post-processing"
   ]
  },
  {
   "cell_type": "markdown",
   "id": "ac1318b5",
   "metadata": {},
   "source": [
    "**post-processing helper (plots trajectory based on identified system)**"
   ]
  },
  {
   "cell_type": "code",
   "execution_count": null,
   "id": "6111a44e",
   "metadata": {
    "scrolled": false
   },
   "outputs": [],
   "source": [
    "def plotEstimate(tSample, XSample, tEstimate, XEstimate):\n",
    "    color = ['b', 'r', 'gray', 'silver']\n",
    "\n",
    "    # Set up plot\n",
    "    fig, ax = plt.subplots()\n",
    "\n",
    "    # Plot data\n",
    "    for i in range(len(XSample[0])):\n",
    "        plt.plot(tSample, XSample[:, i], 'o', color=color[i])\n",
    "        plt.plot(tEstimate, XEstimate[i], '-', color=color[i], label='$y_{}$'.format(i + 1))\n",
    "\n",
    "    l1 = plt.Line2D([0], [0], marker='o', lw=0, color='k', label='sample', markersize=12)\n",
    "    l2 = plt.Line2D([0], [0], color='k', label='prediction')\n",
    "    handles, labels = plt.gca().get_legend_handles_labels()\n",
    "    handles.extend([l1, l2])\n",
    "\n",
    "    ax.set_xlabel(\"$t$\")\n",
    "    ax.set_ylabel(\"$y$\")\n",
    "    ax.legend()\n",
    "    fig.tight_layout()\n",
    "    plt.show()"
   ]
  },
  {
   "cell_type": "markdown",
   "id": "de49e5ae",
   "metadata": {},
   "source": [
    "**predicted trajectories**"
   ]
  },
  {
   "cell_type": "code",
   "execution_count": null,
   "id": "dc143803",
   "metadata": {
    "scrolled": false
   },
   "outputs": [],
   "source": [
    "plotEstimate(t, X, tEstimate, XEstimate)"
   ]
  }
 ],
 "metadata": {
  "kernelspec": {
   "display_name": "aicome",
   "language": "python",
   "name": "python3"
  },
  "language_info": {
   "codemirror_mode": {
    "name": "ipython",
    "version": 3
   },
   "file_extension": ".py",
   "mimetype": "text/x-python",
   "name": "python",
   "nbconvert_exporter": "python",
   "pygments_lexer": "ipython3",
   "version": "3.12.9"
  }
 },
 "nbformat": 4,
 "nbformat_minor": 5
}
