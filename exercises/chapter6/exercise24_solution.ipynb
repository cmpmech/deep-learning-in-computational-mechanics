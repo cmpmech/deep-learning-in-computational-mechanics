{
 "cells": [
  {
   "cell_type": "markdown",
   "id": "ce482b8bf733cac3",
   "metadata": {},
   "source": [
    "# Exercise 24 Solution - Reduced Order Models with Finite Elements"
   ]
  },
  {
   "cell_type": "markdown",
   "id": "8ffbf192-4ba9-4aa9-a90a-4974e829bc39",
   "metadata": {},
   "source": [
    "### Task\n",
    "Implement a reduced order model within a dynamic finite element simulation. This occurs in the `solve` member function of the `Dynamic_cantileverbeam`. Take a look at the two if statements `if phi is not None:`-\n",
    "\n",
    "### Learning goals\n",
    "- Understand how to identify a reduced basis from simulation data\n",
    "- Understand how to implement a reduced basis within a dynamic finite element code\n",
    "- Experience the speed-up accomplished by a reduced order model"
   ]
  },
  {
   "cell_type": "code",
   "execution_count": null,
   "id": "21ce013e-5489-4095-8050-bd23f7b9b729",
   "metadata": {
    "slideshow": {
     "slide_type": ""
    },
    "tags": []
   },
   "outputs": [],
   "source": [
    "import numpy as np\n",
    "import time\n",
    "from scipy.sparse.linalg import spsolve\n",
    "import warnings\n",
    "import matplotlib.pyplot as plt\n",
    "from mpl_toolkits.axes_grid1 import make_axes_locatable"
   ]
  },
  {
   "cell_type": "markdown",
   "id": "da21ea00",
   "metadata": {},
   "source": [
    "## Identifier of reduced order basis"
   ]
  },
  {
   "cell_type": "markdown",
   "id": "11a75346",
   "metadata": {},
   "source": [
    "$\\boldsymbol{\\psi}$ which can be used as \n",
    "$$\\boldsymbol{u}(t)\\approx \\boldsymbol{\\psi} \\boldsymbol{c}(t)$$\n",
    "$$\\boldsymbol{\\psi}(t)^\\intercal \\boldsymbol{M}\\boldsymbol{\\psi}\\ddot{\\boldsymbol{c}}(t)+\\boldsymbol{\\psi}^\\intercal \\boldsymbol{K}\\boldsymbol{\\psi}\\boldsymbol{c}(t)=\\boldsymbol{\\psi}^\\intercal\\boldsymbol{F}(t)$$"
   ]
  },
  {
   "cell_type": "code",
   "execution_count": null,
   "id": "d6ff7404",
   "metadata": {},
   "outputs": [],
   "source": [
    "def ROM(U, r):\n",
    "    u, s, vh = np.linalg.svd(np.transpose(U))\n",
    "    return u[:, :r], s"
   ]
  },
  {
   "cell_type": "markdown",
   "id": "f4b87c5f",
   "metadata": {},
   "source": [
    "## Finite element method"
   ]
  },
  {
   "cell_type": "markdown",
   "id": "02022f0b",
   "metadata": {},
   "source": [
    "**boundary condition helper**"
   ]
  },
  {
   "cell_type": "code",
   "execution_count": null,
   "id": "739ddb82",
   "metadata": {},
   "outputs": [],
   "source": [
    "def applyDirichletBC(index, K):\n",
    "    K[index, :] = 0.\n",
    "    K[:, index] = 0.\n",
    "    K[index, index] = 1.\n",
    "    return K"
   ]
  },
  {
   "cell_type": "markdown",
   "id": "fbdab6ad",
   "metadata": {},
   "source": [
    "**class used for basic 2D finite element formulation** (using linear quadrilatereal elements applied to a cantilever beam)\n",
    "\n",
    "The class consists of the following member functions\n",
    "- `__init__` as constructor initializing the global mass and stiffness matrix (and computing the local mass and stiffness matrix, which is the same for every element)\n",
    "- `LocalStiffnessMatrix` computes the local stiffness matrix\n",
    "- `LocalMassMatrix` computes the local mass matrix\n",
    "- `GlobalSystem` assembles the global system consting of global mass and stiffness matrix and global force vector\n",
    "- `ApplyDirichletBC` applies the Dirichlet boundary conditions to the global system\n",
    "- `ApplyNeumannBC` applies the Neumann boundary conditions to the global system\n",
    "- `Solve` solves the system (if a reduced basis `phi` is used, the **projection to the reduced basis** is performed within this member function)"
   ]
  },
  {
   "cell_type": "code",
   "execution_count": null,
   "id": "7f5231d4",
   "metadata": {},
   "outputs": [],
   "source": [
    "class Dynamic_cantileverbeam:\n",
    "    def __init__(self, nx, ny, E, nu, rho, f, omega):\n",
    "        self.nx = nx\n",
    "        self.ny = ny\n",
    "        x = np.linspace(0, 2 * nx, nx + 1)\n",
    "        y = np.linspace(0, 2 * ny, ny + 1)\n",
    "        self.X, self.Y = np.meshgrid(x, y)\n",
    "        self.f = f\n",
    "        self.omega = omega\n",
    "\n",
    "        self.Kl = self.LocalStiffnessMatrix(E, nu)\n",
    "        self.Ml = self.LocalMassMatrix(rho)\n",
    "        self.eft = lambda i, j: np.array(\n",
    "            [(i + 1) * 2 * (nx + 1) + 2 * j, (i + 1) * 2 * (nx + 1) + 2 * j + 1,  # element freedom table\n",
    "             (i + 1) * 2 * (nx + 1) + 2 * j + 2, (i + 1) * 2 * (nx + 1) + 2 * j + 3,\n",
    "             i * 2 * (nx + 1) + 2 * j + 2, i * 2 * (nx + 1) + 2 * j + 3,\n",
    "             i * 2 * (nx + 1) + 2 * j, i * 2 * (nx + 1) + 2 * j + 1])\n",
    "        # initial conditions\n",
    "        self.u0 = np.zeros(2 * (nx + 1) * (ny + 1))\n",
    "        self.du0 = np.zeros(2 * (nx + 1) * (ny + 1))\n",
    "\n",
    "        self.K, self.M, self.F = self.GlobalSystem(nx, ny, self.Kl, self.Ml)\n",
    "        self.K = self.ApplyDirichletBC(nx, ny, self.K)\n",
    "\n",
    "    def LocalStiffnessMatrix(self, E, nu):\n",
    "        Kl = np.zeros((8, 8))\n",
    "        gp = np.sqrt(1. / 3.) * np.array([-1, 1])  # gauss points\n",
    "        C = E / (1 - nu ** 2) * np.array([[1, nu, 0],  # plane stress\n",
    "                                          [nu, 1, 0],\n",
    "                                          [0, 0, 1 - nu]])\n",
    "        for i in range(2):\n",
    "            for j in range(2):\n",
    "                xi = gp[i]\n",
    "                eta = gp[j]\n",
    "                dN = 0.25 * np.array([[-(1 - eta), -(1 - xi)],  # shape function derivatives\n",
    "                                      [(1 - eta), -(1 + xi)],\n",
    "                                      [(1 + eta), (1 + xi)],\n",
    "                                      [-(1 + eta), (1 - xi)]])\n",
    "                B = np.zeros((3, 8))\n",
    "                for k in range(4):\n",
    "                    B[:, 2 * k:2 * k + 2] = np.array([[dN[k, 0], 0],\n",
    "                                                      [0, dN[k, 1]],\n",
    "                                                      [dN[k, 1], dN[k, 0]]])\n",
    "                Kl += np.dot(np.dot(np.transpose(B), C), B)\n",
    "        return Kl\n",
    "\n",
    "    def LocalMassMatrix(self, rho):\n",
    "        Ml = np.zeros((8, 8))\n",
    "\n",
    "        gp = np.sqrt(1. / 3.) * np.array([-1, 1])  # gauss points\n",
    "        gw = np.array([1, 1])  # gauss weights\n",
    "\n",
    "        for i in range(len(gp)):\n",
    "            for j in range(len(gp)):\n",
    "                xi = gp[i]\n",
    "                eta = gp[j]\n",
    "                N = 0.25 * np.array([[(1 - xi) * (1 - eta), 0, (1 + xi) * (1 - eta), 0, (1 + xi) * (1 + eta), 0,\n",
    "                                      (1 - xi) * (1 + eta), 0],\n",
    "                                     [0, (1 - xi) * (1 - eta), 0, (1 + xi) * (1 - eta), 0, (1 + xi) * (1 + eta), 0,\n",
    "                                      (1 - xi) * (1 + eta)]])\n",
    "\n",
    "                Ml += gw[i] * gw[j] * rho * np.dot(np.transpose(N), N)\n",
    "        return Ml\n",
    "\n",
    "    def GlobalSystem(self, nx, ny, Kl, Ml):\n",
    "        ndofs = 2 * (nx + 1) * (ny + 1)  # number of degrees of freedom\n",
    "        K = np.zeros((ndofs, ndofs))\n",
    "        M = np.zeros((ndofs, ndofs))\n",
    "        F = np.zeros((ndofs))\n",
    "\n",
    "        for i in range(nx):\n",
    "            for j in range(ny):\n",
    "                eftij = self.eft(j, i)\n",
    "                for k in range(8):\n",
    "                    K[eftij, eftij[k]] += Kl[:, k]\n",
    "                    M[eftij, eftij[k]] += Ml[:, k]\n",
    "        return K, M, F\n",
    "\n",
    "    def ApplyDirichletBC(self, nx, ny, K):\n",
    "        # Dirichlet\n",
    "        for i in range(ny + 1):  # x\n",
    "            K = applyDirichletBC(self.eft(i, 0)[6], K)\n",
    "        K = applyDirichletBC(self.eft(0, 0)[7], K)  # y\n",
    "        return K\n",
    "\n",
    "    def ApplyNeumannBC(self, nx, ny, f, omega, t, F):\n",
    "        # Neumann    \n",
    "        for i in range(ny + 1):  # y\n",
    "            if i == 0 or i == ny:\n",
    "                F[self.eft(i, nx - 1)[5]] = f * np.cos(omega * t) * 0.5 / ny\n",
    "            else:\n",
    "                F[self.eft(i, nx - 1)[5]] = f * np.cos(omega * t) / ny\n",
    "        return F\n",
    "\n",
    "    def Solve(self, n, dt, phi=None):\n",
    "\n",
    "        if phi is not None:\n",
    "            U = np.zeros((n + 2, phi.shape[1]))\n",
    "            u0 = np.dot(self.u0, phi)\n",
    "            u1 = np.dot(self.du0 * dt + self.u0, phi)\n",
    "            F = np.dot(self.F, phi)\n",
    "            K = np.dot(np.dot(np.transpose(phi), self.K), phi)\n",
    "            M = np.dot(np.dot(np.transpose(phi), self.M), phi)\n",
    "            U[0] = u0\n",
    "            U[1] = u1\n",
    "        else:\n",
    "            U = np.zeros((n + 2,) + self.u0.shape)\n",
    "            M = self.M\n",
    "            K = self.K\n",
    "            F = self.F\n",
    "            u0 = self.u0\n",
    "            u1 = self.du0 * dt + self.u0\n",
    "            U[0] = u0\n",
    "            U[1] = u1\n",
    "\n",
    "        t = 0\n",
    "        for i in range(n):\n",
    "            F = self.ApplyNeumannBC(self.nx, self.ny, self.f, self.omega, t, self.F)\n",
    "            if phi is not None:\n",
    "                F = np.dot(F, phi)\n",
    "            rhs = F - np.dot(K - 2. / dt ** 2 * M, u1) - np.dot(1. / dt ** 2 * M, u0)\n",
    "            lhs = (1. / dt ** 2 * M)\n",
    "            warnings.simplefilter(\"ignore\")\n",
    "            u2 = spsolve(lhs, rhs)\n",
    "            u0 = u1\n",
    "            u1 = u2\n",
    "            t += dt\n",
    "            U[i + 2] = u2\n",
    "        if phi is not None:\n",
    "            U = np.dot(U, np.transpose(phi))\n",
    "        self.U = U\n",
    "        return np.reshape(U[:, ::2], (n + 2, self.ny + 1, self.nx + 1)), np.reshape(U[:, 1::2],\n",
    "                                                                                    (n + 2, self.ny + 1, self.nx + 1))"
   ]
  },
  {
   "cell_type": "markdown",
   "id": "b7a9bdb4",
   "metadata": {},
   "source": [
    "## Post-processing helpers"
   ]
  },
  {
   "cell_type": "markdown",
   "id": "fb31f262",
   "metadata": {},
   "source": [
    "**field visualization with contourplot**"
   ]
  },
  {
   "cell_type": "code",
   "execution_count": null,
   "id": "96c20abc",
   "metadata": {},
   "outputs": [],
   "source": [
    "def plot_field(x, y, z, title):\n",
    "    # Set up plot\n",
    "    fig, ax = plt.subplots()\n",
    "\n",
    "    # Plot the field\n",
    "    cp = ax.contourf(x, y, z, levels=12, cmap=plt.cm.jet)\n",
    "    ax.pcolormesh(0.5 * (x[:-1, :-1] + x[1:, 1:]),\n",
    "                  0.5 * (y[:-1, :-1] + y[1:, 1:]),\n",
    "                  0.5 * (z[:-1, :-1] + z[1:, 1:]),\n",
    "                  facecolor='None', edgecolors='k', linewidth=1)\n",
    "    plt.gca().set_aspect('equal', adjustable='box')\n",
    "    plt.gca().axes.get_yaxis().set_visible(False)\n",
    "    plt.gca().axes.get_xaxis().set_visible(False)\n",
    "    for spine in ax.spines.values():\n",
    "        spine.set_visible(False)\n",
    "\n",
    "    # Add a colorbar to the plot\n",
    "    divider = make_axes_locatable(ax)\n",
    "    cax = divider.append_axes(\"top\", size=\"25%\", pad=\"20%\")\n",
    "    fig.colorbar(cp, cax=cax, format='%.2f', orientation=\"horizontal\")\n",
    "    cax.xaxis.set_ticks_position(\"top\")\n",
    "\n",
    "    ax.set_xlabel(\"$x$\")\n",
    "    ax.set_ylabel(title)\n",
    "\n",
    "    fig.tight_layout()\n",
    "    plt.show()"
   ]
  },
  {
   "cell_type": "markdown",
   "id": "4d32ca69",
   "metadata": {},
   "source": [
    "**field visualization including deformations**"
   ]
  },
  {
   "cell_type": "code",
   "execution_count": null,
   "id": "ffaa1c69",
   "metadata": {},
   "outputs": [],
   "source": [
    "def plot_deformedfield(x, y, ux, uy, z, title, s=1):\n",
    "    plot_field(x + ux * s, y + uy * s, z, title)"
   ]
  },
  {
   "cell_type": "markdown",
   "id": "4eda8f6e",
   "metadata": {},
   "source": [
    "**visualization of time history at a selected node**"
   ]
  },
  {
   "cell_type": "code",
   "execution_count": null,
   "id": "6e5d9de2",
   "metadata": {},
   "outputs": [],
   "source": [
    "def plot_timehistory_at_node(x, y, z, x0, y0, dt, ylabel):\n",
    "    n = len(z)\n",
    "    z = z[:, y0 // 2, x0 // 2]\n",
    "\n",
    "    t = np.linspace(0, dt * (n), n)\n",
    "    fig, ax = plt.subplots()\n",
    "\n",
    "    plt.plot(t, z, 'k')\n",
    "\n",
    "    ax.set_xlabel('$t$')\n",
    "    ax.set_ylabel(ylabel)\n",
    "\n",
    "    fig.tight_layout()\n",
    "    plt.show()"
   ]
  },
  {
   "cell_type": "markdown",
   "id": "62825de9",
   "metadata": {},
   "source": [
    "**modeshape visualization**"
   ]
  },
  {
   "cell_type": "code",
   "execution_count": null,
   "id": "4e1abf5f",
   "metadata": {},
   "outputs": [],
   "source": [
    "def plot_modeshapes(phi, x, j, s, dim=None, modeshape=None):\n",
    "    ny, nx = x.shape\n",
    "    ny = ny - 1\n",
    "    nx = nx - 1\n",
    "    phi[:, j][dim::2] = phi[:, j][dim::2] / max(abs(phi[:, j][dim::2])) * s\n",
    "    fig, ax = plt.subplots()\n",
    "\n",
    "    for i in range(ny + 1):\n",
    "        plt.plot(x[0], phi[:, j][dim::2][i * (nx + 1):(i + 1) * (nx + 1)] + 2 * i, 'o', color='k')\n",
    "    if modeshape is not None:\n",
    "        plt.plot(x[0], modeshape(x[0]) * s + ny, color='r', label='Analytic Mode')\n",
    "        # ax.legend()\n",
    "    plt.gca().set_aspect('equal', adjustable='box')\n",
    "    plt.gca().axes.get_yaxis().set_visible(False)\n",
    "    plt.gca().axes.get_xaxis().set_visible(False)\n",
    "    for spine in ax.spines.values():\n",
    "        spine.set_visible(False)\n",
    "    plt.minorticks_off()\n",
    "    fig.tight_layout()\n",
    "    plt.show()"
   ]
  },
  {
   "cell_type": "markdown",
   "id": "060c018e",
   "metadata": {},
   "source": [
    "**plotting of modeshape coefficients**"
   ]
  },
  {
   "cell_type": "code",
   "execution_count": null,
   "id": "801ac71c",
   "metadata": {},
   "outputs": [],
   "source": [
    "def plot_modeshape_coefficients(s, r):\n",
    "    fig, ax = plt.subplots()\n",
    "    ax.scatter(np.linspace(1, len(s[:5 * r]), len(s[:5 * r])), s[:5 * r], color='k', marker='o')\n",
    "    ax.set_yscale('log')\n",
    "    plt.minorticks_off()\n",
    "    ax.set_xlabel('index')\n",
    "    ax.set_ylabel('coefficient')\n",
    "    fig.tight_layout()\n",
    "    plt.show()"
   ]
  },
  {
   "cell_type": "markdown",
   "id": "a4d19cc8",
   "metadata": {},
   "source": [
    "## Pre-processing"
   ]
  },
  {
   "cell_type": "markdown",
   "id": "fc77522e",
   "metadata": {},
   "source": [
    "**mesh parameters**"
   ]
  },
  {
   "cell_type": "code",
   "execution_count": null,
   "id": "b4d57751",
   "metadata": {},
   "outputs": [],
   "source": [
    "nx = 40\n",
    "ny = 4  # use even number"
   ]
  },
  {
   "cell_type": "markdown",
   "id": "65315a30",
   "metadata": {},
   "source": [
    "**physical parameters**"
   ]
  },
  {
   "cell_type": "code",
   "execution_count": null,
   "id": "4467f9bf",
   "metadata": {},
   "outputs": [],
   "source": [
    "E = 210000.\n",
    "nu = 0.3\n",
    "rho = 7800. / 1000. ** 3\n",
    "f = 100.\n",
    "omega = 0. * np.pi"
   ]
  },
  {
   "cell_type": "markdown",
   "id": "0c4dfcd1",
   "metadata": {},
   "source": [
    "**simulation for 5000 timesteps as snapshot collection**"
   ]
  },
  {
   "cell_type": "code",
   "execution_count": null,
   "id": "fe2359c8",
   "metadata": {},
   "outputs": [],
   "source": [
    "model = Dynamic_cantileverbeam(nx, ny, E, nu, rho, f, omega)\n",
    "n = 5000\n",
    "dt = 5e-6\n",
    "start = time.perf_counter()\n",
    "Ux, Uy = model.Solve(n, dt)\n",
    "end = time.perf_counter()\n",
    "print(\"Elapsed time: {:.2f}\".format(end - start))"
   ]
  },
  {
   "cell_type": "markdown",
   "id": "9d068e0b",
   "metadata": {},
   "source": [
    "**visualization of four snapshots**"
   ]
  },
  {
   "cell_type": "code",
   "execution_count": null,
   "id": "9f708f7a",
   "metadata": {},
   "outputs": [],
   "source": [
    "for i in range(4):\n",
    "    plot_deformedfield(model.X, model.Y, Ux[(i + 1) * 1000], Uy[(i + 1) * 1000], Ux[(i + 1) * 1000],\n",
    "                       \"$t={:.1e}$\".format((i + 1) * 1000 * dt) + \",  $u_{1}$\", s=2)"
   ]
  },
  {
   "cell_type": "markdown",
   "id": "e4b17615",
   "metadata": {},
   "source": [
    "**time history at the central node at the right edge**"
   ]
  },
  {
   "cell_type": "code",
   "execution_count": null,
   "id": "0e0eaf1f",
   "metadata": {},
   "outputs": [],
   "source": [
    "plot_timehistory_at_node(model.X, model.Y, Uy, nx * 2, ny, dt, \"$u_{2}$\")"
   ]
  },
  {
   "cell_type": "markdown",
   "id": "bbdc82bd",
   "metadata": {},
   "source": [
    "## Reduced order model"
   ]
  },
  {
   "cell_type": "markdown",
   "id": "4d168ae1",
   "metadata": {},
   "source": [
    "**truncation level**"
   ]
  },
  {
   "cell_type": "code",
   "execution_count": null,
   "id": "ddfe2ae4",
   "metadata": {},
   "outputs": [],
   "source": [
    "r = 5"
   ]
  },
  {
   "cell_type": "markdown",
   "id": "4512de2d",
   "metadata": {},
   "source": [
    "**number of timesteps with reduced order model**"
   ]
  },
  {
   "cell_type": "code",
   "execution_count": null,
   "id": "f122fa9f",
   "metadata": {},
   "outputs": [],
   "source": [
    "nr = 10 * n"
   ]
  },
  {
   "cell_type": "markdown",
   "id": "7de84363",
   "metadata": {},
   "source": [
    "**identification of reduced basis**"
   ]
  },
  {
   "cell_type": "code",
   "execution_count": null,
   "id": "63fff926",
   "metadata": {},
   "outputs": [],
   "source": [
    "phi, s = ROM(model.U, r)"
   ]
  },
  {
   "cell_type": "markdown",
   "id": "d5709a42",
   "metadata": {},
   "source": [
    "**simulation with reduced basis**"
   ]
  },
  {
   "cell_type": "code",
   "execution_count": null,
   "id": "2b5554fb",
   "metadata": {},
   "outputs": [],
   "source": [
    "start = time.perf_counter()\n",
    "Uxr, Uyr = model.Solve(nr, dt, phi)\n",
    "end = time.perf_counter()\n",
    "print(\"Elapsed time: {:.2f}\".format(end - start))"
   ]
  },
  {
   "cell_type": "markdown",
   "id": "16cf3082",
   "metadata": {},
   "source": [
    "**Reduction in numbers of degrees of freedom**"
   ]
  },
  {
   "cell_type": "code",
   "execution_count": null,
   "id": "77f12b99",
   "metadata": {},
   "outputs": [],
   "source": [
    "print(\"full system: {:d}\\t reduced system: {:d}\".format(2 * (nx + 1) * (ny + 1), r))"
   ]
  },
  {
   "cell_type": "markdown",
   "id": "881bc4b5",
   "metadata": {},
   "source": [
    "**time history at central node at right edge**"
   ]
  },
  {
   "cell_type": "code",
   "execution_count": null,
   "id": "7e904b9e",
   "metadata": {},
   "outputs": [],
   "source": [
    "plot_timehistory_at_node(model.X, model.Y, Uyr, nx * 2, ny, dt, \"$\\\\hat{u}_{2}$\")"
   ]
  },
  {
   "cell_type": "markdown",
   "id": "9c9d45b2",
   "metadata": {},
   "source": [
    "## Modeshape analysis"
   ]
  },
  {
   "cell_type": "markdown",
   "id": "48db5cd8",
   "metadata": {},
   "source": [
    "**analytical mode shapes of a Euler-Bernoulli beam**"
   ]
  },
  {
   "cell_type": "code",
   "execution_count": null,
   "id": "9857a1cf",
   "metadata": {},
   "outputs": [],
   "source": [
    "modeshape = lambda x, beta, sigma: (np.cosh(beta / (2 * nx) * x) - np.cos(beta / (2 * nx) * x)\n",
    "                                    - sigma * (np.sinh(beta / (2 * nx) * x) - np.sin(beta / (2 * nx) * x)))\n",
    "modeshape_norm = lambda x, beta, sigma: modeshape(x, beta, sigma) / max(abs(modeshape(x, beta, sigma)))"
   ]
  },
  {
   "cell_type": "markdown",
   "id": "2b8f1f82",
   "metadata": {},
   "source": [
    "**comparison with the identified modeshapes**"
   ]
  },
  {
   "cell_type": "code",
   "execution_count": null,
   "id": "c69f8156",
   "metadata": {},
   "outputs": [],
   "source": [
    "plot_modeshapes(phi, model.X, 0, 10, 1, lambda x: modeshape_norm(x, 1.875, 0.7341))\n",
    "plot_modeshapes(phi, model.X, 1, 10, 1, lambda x: modeshape_norm(x, 4.694, 1.0185))\n",
    "plot_modeshapes(phi, model.X, 2, 10, 1, lambda x: modeshape_norm(x, 7.855, 0.9992))\n",
    "plot_modeshapes(-phi, model.X, 3, 10, 1, lambda x: modeshape_norm(x, 10.996, 1))"
   ]
  },
  {
   "cell_type": "markdown",
   "id": "4355c7d5",
   "metadata": {},
   "source": [
    "**modeshape coefficients**"
   ]
  },
  {
   "cell_type": "code",
   "execution_count": null,
   "id": "9df35893",
   "metadata": {},
   "outputs": [],
   "source": [
    "plot_modeshape_coefficients(s, r)"
   ]
  }
 ],
 "metadata": {
  "kernelspec": {
   "display_name": "jup2",
   "language": "python",
   "name": "python3"
  },
  "language_info": {
   "codemirror_mode": {
    "name": "ipython",
    "version": 3
   },
   "file_extension": ".py",
   "mimetype": "text/x-python",
   "name": "python",
   "nbconvert_exporter": "python",
   "pygments_lexer": "ipython3",
   "version": "3.12.2"
  }
 },
 "nbformat": 4,
 "nbformat_minor": 5
}
