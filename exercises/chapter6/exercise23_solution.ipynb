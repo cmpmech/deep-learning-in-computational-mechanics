{
 "cells": [
  {
   "cell_type": "markdown",
   "id": "ce482b8bf733cac3",
   "metadata": {},
   "source": [
    "# Exercise 23 Solution - Introduction to Reduced Order Models"
   ]
  },
  {
   "cell_type": "markdown",
   "id": "8ffbf192-4ba9-4aa9-a90a-4974e829bc39",
   "metadata": {},
   "source": [
    "### Task\n",
    "Sample the given function in the spatio-temporal domain and perform a singular value decomposition to identify a reduced basis. Look at the spatial and temporal modes.\n",
    "\n",
    "### Learning goals\n",
    "- Learn how singular value decomposition can be used to identify reduced order models\n",
    "- Understand how spatial and temporal modes may be distinguished"
   ]
  },
  {
   "cell_type": "code",
   "execution_count": null,
   "id": "21ce013e-5489-4095-8050-bd23f7b9b729",
   "metadata": {
    "slideshow": {
     "slide_type": ""
    },
    "tags": []
   },
   "outputs": [],
   "source": [
    "import matplotlib.pyplot as plt\n",
    "import numpy as np"
   ]
  },
  {
   "cell_type": "markdown",
   "id": "5d30d47f",
   "metadata": {},
   "source": [
    "## Function"
   ]
  },
  {
   "cell_type": "code",
   "execution_count": null,
   "id": "f531a28d",
   "metadata": {},
   "outputs": [],
   "source": [
    "f = lambda x, t: (3 * np.cos(2 * np.pi * x)) * t ** 2 + np.sin(6 * np.pi * x) * t + 4 * np.cos(12 * np.pi * x)"
   ]
  },
  {
   "cell_type": "markdown",
   "id": "f7637127",
   "metadata": {},
   "source": [
    "## Pre-processing"
   ]
  },
  {
   "cell_type": "markdown",
   "id": "b8e94287",
   "metadata": {},
   "source": [
    "**discretization parameters**"
   ]
  },
  {
   "cell_type": "code",
   "execution_count": null,
   "id": "40276ce9",
   "metadata": {},
   "outputs": [],
   "source": [
    "n = 100\n",
    "m = 20"
   ]
  },
  {
   "cell_type": "markdown",
   "id": "9e8cc9be",
   "metadata": {},
   "source": [
    "**grid creation**"
   ]
  },
  {
   "cell_type": "code",
   "execution_count": null,
   "id": "c1a02a94",
   "metadata": {},
   "outputs": [],
   "source": [
    "x = np.linspace(0, 1, n + 1)\n",
    "t = np.linspace(0, 10, m + 1)\n",
    "t, x = np.meshgrid(t, x, indexing='ij')"
   ]
  },
  {
   "cell_type": "markdown",
   "id": "2dddf48c",
   "metadata": {},
   "source": [
    "**sampling of function to create snapshot matrix**"
   ]
  },
  {
   "cell_type": "code",
   "execution_count": null,
   "id": "b32de8d4",
   "metadata": {},
   "outputs": [],
   "source": [
    "X = f(x, t)"
   ]
  },
  {
   "cell_type": "markdown",
   "id": "f1cb062d",
   "metadata": {},
   "source": [
    "## Model Reduction"
   ]
  },
  {
   "cell_type": "markdown",
   "id": "621a6f1b",
   "metadata": {},
   "source": [
    "**singular value decomposition**"
   ]
  },
  {
   "cell_type": "code",
   "execution_count": null,
   "id": "1563739f",
   "metadata": {},
   "outputs": [],
   "source": [
    "U, S, VTranspose = np.linalg.svd(X)"
   ]
  },
  {
   "cell_type": "markdown",
   "id": "6c926b12",
   "metadata": {},
   "source": [
    "**select truncation level (number of mode shape coefficients)**"
   ]
  },
  {
   "cell_type": "code",
   "execution_count": null,
   "id": "e48412a7",
   "metadata": {},
   "outputs": [],
   "source": [
    "r = 5"
   ]
  },
  {
   "cell_type": "markdown",
   "id": "a9c9ddfb",
   "metadata": {},
   "source": [
    "## Post-processing"
   ]
  },
  {
   "cell_type": "markdown",
   "id": "8af85f4d",
   "metadata": {},
   "source": [
    "**mode coefficients/singular values**"
   ]
  },
  {
   "cell_type": "code",
   "execution_count": null,
   "id": "899a3107",
   "metadata": {},
   "outputs": [],
   "source": [
    "fig, ax = plt.subplots()\n",
    "ax.set_title('mode coefficients')\n",
    "ax.set_xlabel('index')\n",
    "ax.set_ylabel('coefficient')\n",
    "ax.set_yscale('log')\n",
    "plt.plot(S[:5 * r], 'o', color='k')\n",
    "plt.tight_layout()\n",
    "plt.show()"
   ]
  },
  {
   "cell_type": "markdown",
   "id": "3496cd85",
   "metadata": {},
   "source": [
    "**temporal modes**"
   ]
  },
  {
   "cell_type": "code",
   "execution_count": null,
   "id": "ede60e44",
   "metadata": {},
   "outputs": [],
   "source": [
    "fig, ax = plt.subplots()\n",
    "ax.set_xlabel('x')\n",
    "ax.set_ylabel('y')\n",
    "ax.set_title('temporal modes')\n",
    "for j in range(4):\n",
    "    ax.plot(t[:, 0], U[:, j], label='mode ' + str(j + 1), linewidth=2)\n",
    "ax.legend()\n",
    "fig.tight_layout()\n",
    "plt.show()"
   ]
  },
  {
   "cell_type": "markdown",
   "id": "cee99d99",
   "metadata": {},
   "source": [
    "**spatial modes**"
   ]
  },
  {
   "cell_type": "code",
   "execution_count": null,
   "id": "dbe21534",
   "metadata": {},
   "outputs": [],
   "source": [
    "fig, ax = plt.subplots()\n",
    "ax.set_xlabel('t')\n",
    "ax.set_ylabel('y')\n",
    "ax.set_title('spatial modes')\n",
    "for j in range(4):\n",
    "    ax.plot(x[0, :], VTranspose[j, :], label='mode ' + str(j + 1), linewidth=2)\n",
    "ax.legend()\n",
    "fig.tight_layout()\n",
    "plt.show()"
   ]
  }
 ],
 "metadata": {
  "kernelspec": {
   "display_name": "jup2",
   "language": "python",
   "name": "python3"
  },
  "language_info": {
   "codemirror_mode": {
    "name": "ipython",
    "version": 3
   },
   "file_extension": ".py",
   "mimetype": "text/x-python",
   "name": "python",
   "nbconvert_exporter": "python",
   "pygments_lexer": "ipython3",
   "version": "3.12.2"
  }
 },
 "nbformat": 4,
 "nbformat_minor": 5
}
