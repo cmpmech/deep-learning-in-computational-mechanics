{
 "cells": [
  {
   "cell_type": "markdown",
   "id": "ce482b8bf733cac3",
   "metadata": {},
   "source": [
    "# Exercise 22 Solution - Singular Value Decomposition"
   ]
  },
  {
   "cell_type": "markdown",
   "id": "8ffbf192-4ba9-4aa9-a90a-4974e829bc39",
   "metadata": {},
   "source": [
    "### Task\n",
    "Implement the singular value decomposition as function and apply it to three examples\n",
    "\n",
    "### Learning goals\n",
    "- Understand and be able to compute a singular value decomposition\n",
    "- Familiarize yourself with its effect on linear dependent matrices"
   ]
  },
  {
   "cell_type": "code",
   "execution_count": null,
   "id": "21ce013e-5489-4095-8050-bd23f7b9b729",
   "metadata": {
    "slideshow": {
     "slide_type": ""
    },
    "tags": []
   },
   "outputs": [],
   "source": [
    "import numpy as np\n",
    "from PIL import Image\n",
    "import matplotlib.pyplot as plt"
   ]
  },
  {
   "cell_type": "markdown",
   "id": "51e1a105",
   "metadata": {},
   "source": [
    "## Singular value decomposition implementation"
   ]
  },
  {
   "cell_type": "markdown",
   "id": "3464e833",
   "metadata": {},
   "source": [
    "decompose as\n",
    "$$\\boldsymbol{A}=\\boldsymbol{U}\\boldsymbol{\\Sigma}\\boldsymbol{V}^\\intercal$$\n",
    "such that \n",
    "$$\\boldsymbol{U}^\\intercal \\boldsymbol{U}=\\boldsymbol{I}$$\n",
    "$$\\boldsymbol{V}^\\intercal \\boldsymbol{V}=\\boldsymbol{I}$$\n",
    "and\n",
    "$$\\boldsymbol{\\Sigma}=\\boldsymbol{U}^\\intercal \\boldsymbol{A} \\boldsymbol{V}$$\n",
    "\n",
    "hint: use `np.linalg.eig`"
   ]
  },
  {
   "cell_type": "code",
   "execution_count": null,
   "id": "d4fb7e6a",
   "metadata": {},
   "outputs": [],
   "source": [
    "def SVD(A):\n",
    "    lu, U = np.linalg.eig(np.dot(A, np.transpose(A)))\n",
    "    lu[np.abs(lu) < 1e-10] = 0.\n",
    "    index = np.argsort(lu)[::-1]\n",
    "    lu = lu[index]\n",
    "    U = U[:, index]\n",
    "\n",
    "    lv, V = np.linalg.eig(np.dot(np.transpose(A), A))\n",
    "    lv[np.abs(lv) < 1e-10] = 0.\n",
    "    index = np.argsort(lv)[::-1]\n",
    "    lv = lv[index]\n",
    "    V = V[:, index]\n",
    "\n",
    "    S = np.zeros((len(U), len(V)))\n",
    "    for i in range(min(len(U), len(V))):\n",
    "        S[i, i] = np.sqrt(lu[i])\n",
    "\n",
    "    # correction to make U and V consistent\n",
    "    S_correct = np.dot(np.dot(np.transpose(U), A), (V))\n",
    "    for i in range(min(len(U), len(V))):\n",
    "        V[:, i] = V[:, i] * np.sign(S_correct[i, i])\n",
    "    return U, S, V"
   ]
  },
  {
   "cell_type": "markdown",
   "id": "9e8b50ba",
   "metadata": {},
   "source": [
    "## Singular value decomposition"
   ]
  },
  {
   "cell_type": "markdown",
   "id": "4d15df3b",
   "metadata": {},
   "source": [
    "### example 1 (3x3) matrix"
   ]
  },
  {
   "cell_type": "markdown",
   "id": "673ad2e1",
   "metadata": {},
   "source": [
    "**decomposition**"
   ]
  },
  {
   "cell_type": "code",
   "execution_count": null,
   "id": "5153bf31",
   "metadata": {},
   "outputs": [],
   "source": [
    "A = np.array([[3, 2, 2], [2, 3, -2]])\n",
    "U, S, V = SVD(A)"
   ]
  },
  {
   "cell_type": "markdown",
   "id": "1d67d9b4",
   "metadata": {},
   "source": [
    "**reconstruction**"
   ]
  },
  {
   "cell_type": "code",
   "execution_count": null,
   "id": "e2d72ebf",
   "metadata": {},
   "outputs": [],
   "source": [
    "AReconstruct = np.dot(np.dot(U, S), np.transpose(V))\n",
    "print(AReconstruct)"
   ]
  },
  {
   "cell_type": "markdown",
   "id": "b8d54fd2",
   "metadata": {},
   "source": [
    "### example 2 (5x5) matrix (with linear dependencies)"
   ]
  },
  {
   "cell_type": "markdown",
   "id": "4dc3274d",
   "metadata": {},
   "source": [
    "**decomposition**"
   ]
  },
  {
   "cell_type": "code",
   "execution_count": null,
   "id": "6602a713",
   "metadata": {},
   "outputs": [],
   "source": [
    "A = np.array([[1, 0, 0, 2, 0],\n",
    "              [0, 0, 0, 0, 1],\n",
    "              [3, 4, 1, 1, 2],\n",
    "              [2, 0, 0, 4, 0],\n",
    "              [0, 0, 0, 0, 2]])\n",
    "U, S, V = SVD(A)"
   ]
  },
  {
   "cell_type": "code",
   "execution_count": null,
   "id": "1ba3161d",
   "metadata": {},
   "outputs": [],
   "source": [
    "print(S)"
   ]
  },
  {
   "cell_type": "markdown",
   "id": "b89a57e6",
   "metadata": {},
   "source": [
    "### example 3 image as matrix"
   ]
  },
  {
   "cell_type": "markdown",
   "id": "6cd33097",
   "metadata": {},
   "source": [
    "**load image**"
   ]
  },
  {
   "cell_type": "code",
   "execution_count": null,
   "id": "7fe2ab87",
   "metadata": {},
   "outputs": [],
   "source": [
    "img = Image.open('GuentherSmall.jpg')\n",
    "data = np.asarray(img)"
   ]
  },
  {
   "cell_type": "markdown",
   "id": "42a4178f",
   "metadata": {},
   "source": [
    "**convert image to grayscale image**"
   ]
  },
  {
   "cell_type": "code",
   "execution_count": null,
   "id": "edca5f84",
   "metadata": {},
   "outputs": [],
   "source": [
    "rgb_weights = [0.2989, 0.5870, 0.1140]\n",
    "data = np.dot(data[..., :3], rgb_weights)"
   ]
  },
  {
   "cell_type": "markdown",
   "id": "d2a55c84",
   "metadata": {},
   "source": [
    "**singular value decomposition**"
   ]
  },
  {
   "cell_type": "code",
   "execution_count": null,
   "id": "1269f64d",
   "metadata": {},
   "outputs": [],
   "source": [
    "U, S, V = np.linalg.svd(data)\n",
    "# U is orthogonal and an orthonormal basis for column space of data\n",
    "# S is diagonal: singular values in descending order\n",
    "# V is orthogonal: orthonormal basis for row space of data"
   ]
  },
  {
   "cell_type": "markdown",
   "id": "1b122a27",
   "metadata": {},
   "source": [
    "**truncation**"
   ]
  },
  {
   "cell_type": "code",
   "execution_count": null,
   "id": "c585ec28",
   "metadata": {},
   "outputs": [],
   "source": [
    "r = 20  # truncation level\n",
    "dataReconstruct = U[:, :r] @ np.diag(S[:r]) @ V[:r, :]\n",
    "\n",
    "rows, cols = data.shape\n",
    "\n",
    "print(f\"Original image size: {rows} x {cols} = {rows*cols} pixels\")\n",
    "print(f\"Reduced image size: {rows} x {r} + {r} x {r} + {cols} x {r} = {rows*r + r*r + cols*r} pixels\")\n",
    "print(f\"Compressed size: {(100*(rows*r + r*r + cols*r) / (rows*cols)):.2f}%\")"
   ]
  },
  {
   "cell_type": "markdown",
   "id": "b1256215",
   "metadata": {},
   "source": [
    "### post-processing"
   ]
  },
  {
   "cell_type": "markdown",
   "id": "d4bedcd9",
   "metadata": {},
   "source": [
    "**post-processing helper (plots a gray-scale image)**"
   ]
  },
  {
   "cell_type": "code",
   "execution_count": null,
   "id": "e6457ab6",
   "metadata": {},
   "outputs": [],
   "source": [
    "def plotImage(data):\n",
    "    print(data.shape)\n",
    "    fig, ax = plt.subplots()\n",
    "    ax.get_xaxis().set_visible(False)\n",
    "    ax.get_yaxis().set_visible(False)\n",
    "    ax.imshow(data, cmap='gray')\n",
    "    fig.tight_layout()\n",
    "    plt.show()"
   ]
  },
  {
   "cell_type": "markdown",
   "id": "81721cb1",
   "metadata": {},
   "source": [
    "**reconstruction of truncated data**"
   ]
  },
  {
   "cell_type": "code",
   "execution_count": null,
   "id": "ab5439a7",
   "metadata": {},
   "outputs": [],
   "source": [
    "plotImage(dataReconstruct)"
   ]
  },
  {
   "cell_type": "markdown",
   "id": "f2def001",
   "metadata": {},
   "source": [
    "**singular values**"
   ]
  },
  {
   "cell_type": "code",
   "execution_count": null,
   "id": "85cc46ac",
   "metadata": {},
   "outputs": [],
   "source": [
    "print(f\"Truncation at r = {r}\\nFraction of singular values: {100*np.sum(S[:r]) / np.sum(S):.2f}%\")\n",
    "\n",
    "fig, ax = plt.subplots()\n",
    "ax.set_yscale('log')\n",
    "ax.plot(S, 'ko')\n",
    "fig.tight_layout()\n",
    "plt.show()"
   ]
  },
  {
   "cell_type": "code",
   "execution_count": null,
   "id": "db4ad4ab",
   "metadata": {},
   "outputs": [],
   "source": [
    "pts = 50\n",
    "rs = list(set(np.logspace(np.log10(1), np.log10(min(rows, cols)), pts, dtype=int)))\n",
    "\n",
    "# energies = np.zeros(len(rs))\n",
    "singular_vals = np.zeros(len(rs))\n",
    "information_retained = []\n",
    "for i, sv_n in enumerate(rs):\n",
    "    # energies[i] = np.sum(S[:r]**2) / np.sum(S**2)\n",
    "    singular_vals[i] = np.sum(S[:sv_n]) / np.sum(S)\n",
    "\n",
    "    reconstruction = U[:, :sv_n] @ np.diag(S[:sv_n]) @ V[:sv_n, :]\n",
    "    error = np.linalg.norm(data - reconstruction, 'fro') / np.linalg.norm(data, 'fro')\n",
    "    information_retained.append((1 - error))\n",
    "\n",
    "fig, ax = plt.subplots()\n",
    "# ax.semilogx(rs, energies, 'ko', label='Energy')\n",
    "ax.semilogx(rs, singular_vals, 'ro', label='Singular value sum')\n",
    "ax.semilogx(rs, information_retained, 'bo', label='Information retained')\n",
    "ax.set_xlabel('r')\n",
    "ax.set_ylabel('Fraction')\n",
    "ax.set_ylim([0, 1.05])\n",
    "\n",
    "ax.legend()\n"
   ]
  },
  {
   "cell_type": "markdown",
   "id": "dd9a2cc1",
   "metadata": {},
   "source": [
    "**Explore eigenvalues**"
   ]
  },
  {
   "cell_type": "code",
   "execution_count": null,
   "id": "efb6dde0",
   "metadata": {},
   "outputs": [],
   "source": [
    "from matplotlib.gridspec import GridSpec\n",
    "\n",
    "ev_plot = 0     # eigenvalue to plot\n",
    "r = 8          # truncation level\n",
    "\n",
    "dataReconstruct = U[:, :r] @ np.diag(S[:r]) @ V[:r, :]\n",
    "\n",
    "fig = plt.figure(figsize=(10, 8))\n",
    "rows, cols = dataReconstruct.shape\n",
    "gs = GridSpec(2, 2, \n",
    "              width_ratios=[cols//4, cols],  # First col width smaller for vertical plot, larger col for image\n",
    "              height_ratios=[rows//4, rows], wspace=0.1, hspace=0.15)\n",
    "\n",
    "# original image\n",
    "ax_img = fig.add_subplot(gs[1, 1])\n",
    "ax_img.imshow(dataReconstruct, cmap='gray', aspect='auto')  # aspect='auto' to fill the space\n",
    "ax_img.axis('off')\n",
    "\n",
    "#  horizontal slice above \n",
    "ax_h = fig.add_subplot(gs[0, 1])\n",
    "ax_h.plot(V[ev_plot, :])\n",
    "ax_h.set_xlim(0, cols-1)\n",
    "ax_h.grid(True, axis='y')\n",
    "ax_h.set_title('Horizontal Slice')\n",
    "\n",
    "# vertical slice at the left \n",
    "ax_v = fig.add_subplot(gs[1, 0])\n",
    "ax_v.plot(U[:, ev_plot], range(rows))\n",
    "ax_v.invert_yaxis()  # Invert y-axis to match the image orientation\n",
    "ax_v.grid(True, axis='x')\n",
    "ax_v.set_title('Vertical Slice')\n",
    "\n",
    "ax_hidden = fig.add_subplot(gs[0, 0])\n",
    "ax_hidden.set_title(f\"Eigenvalue {ev_plot+1} / {r}\\n\\n SV = {100*S[ev_plot] / S.sum():.2f}%\")\n",
    "ax_hidden.axis('off')\n",
    "\n",
    "plt.tight_layout()\n",
    "plt.show()"
   ]
  }
 ],
 "metadata": {
  "kernelspec": {
   "display_name": "Python 3.12 (XPython)",
   "language": "python",
   "name": "xpython"
  },
  "language_info": {
   "file_extension": ".py",
   "mimetype": "text/x-python",
   "name": "python",
   "version": "3.12.2"
  }
 },
 "nbformat": 4,
 "nbformat_minor": 5
}
